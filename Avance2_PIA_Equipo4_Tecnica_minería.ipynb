{
  "nbformat": 4,
  "nbformat_minor": 0,
  "metadata": {
    "colab": {
      "name": "Avance2_PIA_Equipo4_Tecnica minería",
      "provenance": [],
      "collapsed_sections": [
        "-2V-qS0vmtlw"
      ],
      "include_colab_link": true
    },
    "kernelspec": {
      "display_name": "Python 3",
      "name": "python3"
    },
    "language_info": {
      "name": "python"
    }
  },
  "cells": [
    {
      "cell_type": "markdown",
      "metadata": {
        "id": "view-in-github",
        "colab_type": "text"
      },
      "source": [
        "<a href=\"https://colab.research.google.com/github/JisbethDiaz/FCFM_Miner-a_de_Datos/blob/Miner%C3%ADa-de-datos/Avance2_PIA_Equipo4_Tecnica_miner%C3%ADa.ipynb\" target=\"_parent\"><img src=\"https://colab.research.google.com/assets/colab-badge.svg\" alt=\"Open In Colab\"/></a>"
      ]
    },
    {
      "cell_type": "markdown",
      "metadata": {
        "id": "GKVIGRgcipor"
      },
      "source": [
        "#**AVANCE 2 PIA**\n",
        "\n",
        "* Equipo #4\n",
        "* Grupo: 02, Frecuencia de clase: Miércoles\n",
        "* Integrantes:\n",
        "\n",
        "  * 1857602 Díaz Vázquez Jisbeth Jaquelin.\n",
        "  * 1842201 Ramiro Mayorga Julio César.\n",
        "  * 1854552 Requenes Villarreal Linda Karina.\n",
        "  * 1941443 Martínez Valdez Norma Isabel.\n"
      ]
    },
    {
      "cell_type": "markdown",
      "metadata": {
        "id": "-2V-qS0vmtlw"
      },
      "source": [
        "# **Severely Injured Workers**\n",
        "URL: https://www.kaggle.com/jboysen/injured-workers\n",
        "\n"
      ]
    },
    {
      "cell_type": "markdown",
      "metadata": {
        "id": "Y5w7PCFhnDiB"
      },
      "source": [
        "## *Descripción de la base de datos*\n",
        "\n",
        "Desde el 1 de enero de 2015, la Administración de Seguridad y Salud Ocupacional (OSHA) exige a los empleadores que informen de todas las lesiones graves relacionadas con el trabajo que fueron ocurridas hasta el 28 de febrero de 2017 y fueron definidas (utilizando el Sistema de Clasificación de Lesiones y Enfermedades Profesionales) como amputación, hospitalización o pérdida de un ojo.\n",
        "\n",
        "\n",
        "1. Tamaño de la base:\n",
        "\n",
        "  Los datos se muestran en una tabla de dimensiones de 26 columnas x 21578 filas, donde la cantidad de columnas representa el incidente, las partes implicadas, el empleador, la lesión sufrida y el resultado final, y las filas abarcan el número total de incidentes en dicho periodo.\n",
        "\n",
        "2. Columnas:\n",
        "\n",
        "  * Address: Dirección (texto largo)\n",
        "  * City: Ciudad (cadena)\n",
        "  * State: Estado (cadena)\n",
        "  * Latitude: Latitud (float)\n",
        "  * Longitude: Longitud (float)\n",
        "  * Primary NAICS: Línea de negocio principal de una empresa (entero)\n",
        "  * Hospitalized: Hospitalizado (entero)\n",
        "  * Amputation: Amputación (entero)\n",
        "  * Inspection: Inspección (entero)\n",
        "  * Final Narrative: Narración final (texto largo)\n",
        "  * Nature: Naturaleza (cadena)\n",
        "  * Part of Body: Parte del cuerpo (cadena)\n",
        "  * Event: Evento (cadena)\n",
        "  * Source: Procedencia (cadena)\n",
        "  * Secondary Source: Segunda procedencia (cadena)"
      ]
    },
    {
      "cell_type": "markdown",
      "metadata": {
        "id": "BK4Y37YsnD6o"
      },
      "source": [
        "## *Justificación del uso de datos*\n",
        "\n",
        "  Los accidentes de trabajo pueden ocurrir en cualquier momento, saber qué hacer y cómo actuar es fundamental para asegurar una oportuna atención al lesionado. Por esta razón, una aseguradora consideró importante tener un buen historial para poder informarse y realizar un análisis acerca del número de frecuencias de cada tipo de emergencia relacionada con su puesto, así como también su respectiva siniestralidad. Ya que con ello, es posible calcular pólizas de seguros contra accidentes laborales para los trabajadores de empresas establecidas.\n"
      ]
    },
    {
      "cell_type": "markdown",
      "metadata": {
        "id": "H_KjlG-DnEBD"
      },
      "source": [
        "##*Objetivos*\n",
        "\n",
        "*   Principal:\n",
        "\n",
        "  Predecir la frecuencia de lesiones en cada uno de los estados definiendo el grado de urgencia más común.\n",
        "\n",
        "*   Secundario:\n",
        "\n",
        "  Identificar en qué estados de Estados Unidos se presentan mayor cantidad de accidentes.\n",
        "\n"
      ]
    },
    {
      "cell_type": "markdown",
      "metadata": {
        "id": "SVKezG9WM00P"
      },
      "source": [
        "# **Limpieza de datos**\n"
      ]
    },
    {
      "cell_type": "code",
      "metadata": {
        "id": "Af386yGgZTzx"
      },
      "source": [
        "import pandas as pd\n",
        "import numpy as np\n",
        "import json\n",
        "df = pd.read_csv('severeinjury.csv', encoding= 'unicode_escape') #https://stackoverflow.com/questions/22216076/unicodedecodeerror-utf8-codec-cant-decode-byte-0xa5-in-position-0-invalid-s"
      ],
      "execution_count": 173,
      "outputs": []
    },
    {
      "cell_type": "markdown",
      "metadata": {
        "id": "jtWkfpSliQ5Z"
      },
      "source": [
        "Las dimensiones de nuestra Base de datos 26 columnas y 21578 filas"
      ]
    },
    {
      "cell_type": "code",
      "metadata": {
        "id": "zQk3NPstZtzH",
        "colab": {
          "base_uri": "https://localhost:8080/"
        },
        "outputId": "83f866e2-0bb4-42b0-b346-55726fa83382"
      },
      "source": [
        "df.shape"
      ],
      "execution_count": 174,
      "outputs": [
        {
          "output_type": "execute_result",
          "data": {
            "text/plain": [
              "(21578, 26)"
            ]
          },
          "metadata": {},
          "execution_count": 174
        }
      ]
    },
    {
      "cell_type": "markdown",
      "metadata": {
        "id": "WBeTu0USyr3z"
      },
      "source": [
        "##*Datos sin manipulación*"
      ]
    },
    {
      "cell_type": "markdown",
      "metadata": {
        "id": "jaX9-q0rh8W7"
      },
      "source": [
        "Las primeras y ultimas 5 Filas de datos de nuestra base de datos"
      ]
    },
    {
      "cell_type": "code",
      "metadata": {
        "id": "4CmjmiC6aB6G",
        "colab": {
          "base_uri": "https://localhost:8080/",
          "height": 612
        },
        "outputId": "cba6d600-a34d-44c8-a2c5-1fcf77b862ef"
      },
      "source": [
        "df.head()"
      ],
      "execution_count": 175,
      "outputs": [
        {
          "output_type": "execute_result",
          "data": {
            "text/html": [
              "<div>\n",
              "<style scoped>\n",
              "    .dataframe tbody tr th:only-of-type {\n",
              "        vertical-align: middle;\n",
              "    }\n",
              "\n",
              "    .dataframe tbody tr th {\n",
              "        vertical-align: top;\n",
              "    }\n",
              "\n",
              "    .dataframe thead th {\n",
              "        text-align: right;\n",
              "    }\n",
              "</style>\n",
              "<table border=\"1\" class=\"dataframe\">\n",
              "  <thead>\n",
              "    <tr style=\"text-align: right;\">\n",
              "      <th></th>\n",
              "      <th>ID</th>\n",
              "      <th>UPA</th>\n",
              "      <th>EventDate</th>\n",
              "      <th>Employer</th>\n",
              "      <th>Address1</th>\n",
              "      <th>Address2</th>\n",
              "      <th>City</th>\n",
              "      <th>State</th>\n",
              "      <th>Zip</th>\n",
              "      <th>Latitude</th>\n",
              "      <th>Longitude</th>\n",
              "      <th>Primary NAICS</th>\n",
              "      <th>Hospitalized</th>\n",
              "      <th>Amputation</th>\n",
              "      <th>Inspection</th>\n",
              "      <th>Final Narrative</th>\n",
              "      <th>Nature</th>\n",
              "      <th>NatureTitle</th>\n",
              "      <th>Part of Body</th>\n",
              "      <th>Part of Body Title</th>\n",
              "      <th>Event</th>\n",
              "      <th>EventTitle</th>\n",
              "      <th>Source</th>\n",
              "      <th>SourceTitle</th>\n",
              "      <th>Secondary Source</th>\n",
              "      <th>Secondary Source Title</th>\n",
              "    </tr>\n",
              "  </thead>\n",
              "  <tbody>\n",
              "    <tr>\n",
              "      <th>0</th>\n",
              "      <td>2015010015</td>\n",
              "      <td>931176</td>\n",
              "      <td>1/1/2015</td>\n",
              "      <td>FCI Otisville Federal Correctional Institution</td>\n",
              "      <td>Two Mile Drive</td>\n",
              "      <td>NaN</td>\n",
              "      <td>OTISVILLE</td>\n",
              "      <td>NEW YORK</td>\n",
              "      <td>10963.0</td>\n",
              "      <td>41.46</td>\n",
              "      <td>-74.53</td>\n",
              "      <td>922140</td>\n",
              "      <td>1</td>\n",
              "      <td>0.0</td>\n",
              "      <td>1018519.0</td>\n",
              "      <td>Three correctional facility guards were escort...</td>\n",
              "      <td>111</td>\n",
              "      <td>Fractures</td>\n",
              "      <td>513</td>\n",
              "      <td>Lower leg(s)</td>\n",
              "      <td>1214</td>\n",
              "      <td>Injured by physical contact with person while ...</td>\n",
              "      <td>5721</td>\n",
              "      <td>Co-worker</td>\n",
              "      <td>5772.0</td>\n",
              "      <td>Inmate or detainee in custody</td>\n",
              "    </tr>\n",
              "    <tr>\n",
              "      <th>1</th>\n",
              "      <td>2015010016</td>\n",
              "      <td>930267</td>\n",
              "      <td>1/1/2015</td>\n",
              "      <td>Kalahari Manufacturing LLC</td>\n",
              "      <td>171 Progress Drive</td>\n",
              "      <td>NaN</td>\n",
              "      <td>LAKE DELTON</td>\n",
              "      <td>WISCONSIN</td>\n",
              "      <td>53940.0</td>\n",
              "      <td>43.59</td>\n",
              "      <td>-89.79</td>\n",
              "      <td>339999</td>\n",
              "      <td>1</td>\n",
              "      <td>0.0</td>\n",
              "      <td>1016582.0</td>\n",
              "      <td>Employee in the Machine Shop received second d...</td>\n",
              "      <td>1522</td>\n",
              "      <td>Second degree heat (thermal) burns</td>\n",
              "      <td>519</td>\n",
              "      <td>Leg(s), n.e.c.</td>\n",
              "      <td>317</td>\n",
              "      <td>Ignition of vapors, gases, or liquids</td>\n",
              "      <td>7261</td>\n",
              "      <td>Welding, cutting, and blow torches</td>\n",
              "      <td>NaN</td>\n",
              "      <td>NaN</td>\n",
              "    </tr>\n",
              "    <tr>\n",
              "      <th>2</th>\n",
              "      <td>2015010018</td>\n",
              "      <td>929823</td>\n",
              "      <td>1/1/2015</td>\n",
              "      <td>Schneider National Bulk Carrier</td>\n",
              "      <td>420 CORAOPOLIS ROAD</td>\n",
              "      <td>NaN</td>\n",
              "      <td>CORAOPOLIS</td>\n",
              "      <td>PENNSYLVANIA</td>\n",
              "      <td>15108.0</td>\n",
              "      <td>40.49</td>\n",
              "      <td>-80.11</td>\n",
              "      <td>484121</td>\n",
              "      <td>1</td>\n",
              "      <td>0.0</td>\n",
              "      <td>NaN</td>\n",
              "      <td>A truck driver fell approximately 4 feet while...</td>\n",
              "      <td>10</td>\n",
              "      <td>Traumatic injuries and disorders, unspecified</td>\n",
              "      <td>9999</td>\n",
              "      <td>Nonclassifiable</td>\n",
              "      <td>4331</td>\n",
              "      <td>Other fall to lower level less than 6 feet</td>\n",
              "      <td>8421</td>\n",
              "      <td>Semi, tractor-trailer, tanker truck</td>\n",
              "      <td>741.0</td>\n",
              "      <td>Ladders-fixed</td>\n",
              "    </tr>\n",
              "    <tr>\n",
              "      <th>3</th>\n",
              "      <td>2015010019</td>\n",
              "      <td>929711</td>\n",
              "      <td>1/1/2015</td>\n",
              "      <td>PEPSI BOTTLING GROUP INC.</td>\n",
              "      <td>4541 HOUSTON AVE.</td>\n",
              "      <td>NaN</td>\n",
              "      <td>MACON</td>\n",
              "      <td>GEORGIA</td>\n",
              "      <td>31206.0</td>\n",
              "      <td>32.77</td>\n",
              "      <td>-83.65</td>\n",
              "      <td>424490</td>\n",
              "      <td>1</td>\n",
              "      <td>0.0</td>\n",
              "      <td>1017194.0</td>\n",
              "      <td>An employee's leg was pinned between a truck a...</td>\n",
              "      <td>1972</td>\n",
              "      <td>Soreness, pain, hurt-nonspecified injury</td>\n",
              "      <td>510</td>\n",
              "      <td>Leg(s), unspecified</td>\n",
              "      <td>640</td>\n",
              "      <td>Caught in or compressed by equipment or object...</td>\n",
              "      <td>8623</td>\n",
              "      <td>Pallet jack-powered</td>\n",
              "      <td>8420.0</td>\n",
              "      <td>Truck-motorized freight hauling and utility, u...</td>\n",
              "    </tr>\n",
              "    <tr>\n",
              "      <th>4</th>\n",
              "      <td>2015010020</td>\n",
              "      <td>929642</td>\n",
              "      <td>1/1/2015</td>\n",
              "      <td>North American Pipe Corporation</td>\n",
              "      <td>210 South Arch Street</td>\n",
              "      <td>NaN</td>\n",
              "      <td>JANESVILLE</td>\n",
              "      <td>WISCONSIN</td>\n",
              "      <td>53545.0</td>\n",
              "      <td>42.67</td>\n",
              "      <td>-89.04</td>\n",
              "      <td>326122</td>\n",
              "      <td>1</td>\n",
              "      <td>0.0</td>\n",
              "      <td>1016344.0</td>\n",
              "      <td>An employee working on the Line 6 Auto-Beller ...</td>\n",
              "      <td>111</td>\n",
              "      <td>Fractures</td>\n",
              "      <td>4429</td>\n",
              "      <td>Finger(s), fingernail(s), n.e.c.</td>\n",
              "      <td>6411</td>\n",
              "      <td>Caught in running equipment or machinery durin...</td>\n",
              "      <td>350</td>\n",
              "      <td>Metal, woodworking, and special material machi...</td>\n",
              "      <td>NaN</td>\n",
              "      <td>NaN</td>\n",
              "    </tr>\n",
              "  </tbody>\n",
              "</table>\n",
              "</div>"
            ],
            "text/plain": [
              "           ID  ...                             Secondary Source Title\n",
              "0  2015010015  ...                      Inmate or detainee in custody\n",
              "1  2015010016  ...                                                NaN\n",
              "2  2015010018  ...                                      Ladders-fixed\n",
              "3  2015010019  ...  Truck-motorized freight hauling and utility, u...\n",
              "4  2015010020  ...                                                NaN\n",
              "\n",
              "[5 rows x 26 columns]"
            ]
          },
          "metadata": {},
          "execution_count": 175
        }
      ]
    },
    {
      "cell_type": "code",
      "metadata": {
        "id": "htiDnEiqhz8A",
        "colab": {
          "base_uri": "https://localhost:8080/",
          "height": 578
        },
        "outputId": "dcb5dfa8-0b65-4c9e-81de-b32536b9b04a"
      },
      "source": [
        "df.tail()"
      ],
      "execution_count": 176,
      "outputs": [
        {
          "output_type": "execute_result",
          "data": {
            "text/html": [
              "<div>\n",
              "<style scoped>\n",
              "    .dataframe tbody tr th:only-of-type {\n",
              "        vertical-align: middle;\n",
              "    }\n",
              "\n",
              "    .dataframe tbody tr th {\n",
              "        vertical-align: top;\n",
              "    }\n",
              "\n",
              "    .dataframe thead th {\n",
              "        text-align: right;\n",
              "    }\n",
              "</style>\n",
              "<table border=\"1\" class=\"dataframe\">\n",
              "  <thead>\n",
              "    <tr style=\"text-align: right;\">\n",
              "      <th></th>\n",
              "      <th>ID</th>\n",
              "      <th>UPA</th>\n",
              "      <th>EventDate</th>\n",
              "      <th>Employer</th>\n",
              "      <th>Address1</th>\n",
              "      <th>Address2</th>\n",
              "      <th>City</th>\n",
              "      <th>State</th>\n",
              "      <th>Zip</th>\n",
              "      <th>Latitude</th>\n",
              "      <th>Longitude</th>\n",
              "      <th>Primary NAICS</th>\n",
              "      <th>Hospitalized</th>\n",
              "      <th>Amputation</th>\n",
              "      <th>Inspection</th>\n",
              "      <th>Final Narrative</th>\n",
              "      <th>Nature</th>\n",
              "      <th>NatureTitle</th>\n",
              "      <th>Part of Body</th>\n",
              "      <th>Part of Body Title</th>\n",
              "      <th>Event</th>\n",
              "      <th>EventTitle</th>\n",
              "      <th>Source</th>\n",
              "      <th>SourceTitle</th>\n",
              "      <th>Secondary Source</th>\n",
              "      <th>Secondary Source Title</th>\n",
              "    </tr>\n",
              "  </thead>\n",
              "  <tbody>\n",
              "    <tr>\n",
              "      <th>21573</th>\n",
              "      <td>2017021908</td>\n",
              "      <td>1187496</td>\n",
              "      <td>28/2/2017</td>\n",
              "      <td>JPN Masonry LLC</td>\n",
              "      <td>806 Channing Place</td>\n",
              "      <td>NaN</td>\n",
              "      <td>WASHINGTON</td>\n",
              "      <td>DISTRICT OF COLUMBIA</td>\n",
              "      <td>20008.0</td>\n",
              "      <td>38.92</td>\n",
              "      <td>-76.99</td>\n",
              "      <td>238140</td>\n",
              "      <td>1</td>\n",
              "      <td>0.0</td>\n",
              "      <td>1215482.0</td>\n",
              "      <td>An employee fell from the third scaffold level...</td>\n",
              "      <td>1834</td>\n",
              "      <td>Fractures and dislocations</td>\n",
              "      <td>4420</td>\n",
              "      <td>Finger(s), fingernail(s), unspecified</td>\n",
              "      <td>4320</td>\n",
              "      <td>Fall through surface or existing opening, unsp...</td>\n",
              "      <td>6340</td>\n",
              "      <td>Scaffolds-staging, unspecified</td>\n",
              "      <td>NaN</td>\n",
              "      <td>NaN</td>\n",
              "    </tr>\n",
              "    <tr>\n",
              "      <th>21574</th>\n",
              "      <td>2017021909</td>\n",
              "      <td>1187261</td>\n",
              "      <td>28/2/2017</td>\n",
              "      <td>CR MEYER</td>\n",
              "      <td>1815 Marathon Ave.</td>\n",
              "      <td>NaN</td>\n",
              "      <td>NEENAH</td>\n",
              "      <td>WISCONSIN</td>\n",
              "      <td>54956.0</td>\n",
              "      <td>44.16</td>\n",
              "      <td>-88.47</td>\n",
              "      <td>236220</td>\n",
              "      <td>1</td>\n",
              "      <td>0.0</td>\n",
              "      <td>1214207.0</td>\n",
              "      <td>An employee fell approximately 10 feet from a ...</td>\n",
              "      <td>111</td>\n",
              "      <td>Fractures</td>\n",
              "      <td>899</td>\n",
              "      <td>Multiple body parts, n.e.c.</td>\n",
              "      <td>4332</td>\n",
              "      <td>Other fall to lower level 6 to 10 feet</td>\n",
              "      <td>6395</td>\n",
              "      <td>Porches, balconies, decks, patios</td>\n",
              "      <td>NaN</td>\n",
              "      <td>NaN</td>\n",
              "    </tr>\n",
              "    <tr>\n",
              "      <th>21575</th>\n",
              "      <td>2017021910</td>\n",
              "      <td>1187351</td>\n",
              "      <td>28/2/2017</td>\n",
              "      <td>PHOENIX HOME CARE</td>\n",
              "      <td>353 River Bluff Drive</td>\n",
              "      <td>NaN</td>\n",
              "      <td>BRANSON</td>\n",
              "      <td>MISSOURI</td>\n",
              "      <td>65616.0</td>\n",
              "      <td>36.61</td>\n",
              "      <td>-93.27</td>\n",
              "      <td>621610</td>\n",
              "      <td>1</td>\n",
              "      <td>0.0</td>\n",
              "      <td>NaN</td>\n",
              "      <td>An employee was walking down a flight of three...</td>\n",
              "      <td>111</td>\n",
              "      <td>Fractures</td>\n",
              "      <td>513</td>\n",
              "      <td>Lower leg(s)</td>\n",
              "      <td>4331</td>\n",
              "      <td>Other fall to lower level less than 6 feet</td>\n",
              "      <td>6611</td>\n",
              "      <td>Stairs, steps-indoors</td>\n",
              "      <td>NaN</td>\n",
              "      <td>NaN</td>\n",
              "    </tr>\n",
              "    <tr>\n",
              "      <th>21576</th>\n",
              "      <td>2017021911</td>\n",
              "      <td>1187282</td>\n",
              "      <td>28/2/2017</td>\n",
              "      <td>Cross Insulation, Inc.</td>\n",
              "      <td>West Fargo New Construction</td>\n",
              "      <td>NaN</td>\n",
              "      <td>WEST FARGO</td>\n",
              "      <td>NORTH DAKOTA</td>\n",
              "      <td>58078.0</td>\n",
              "      <td>46.87</td>\n",
              "      <td>-96.93</td>\n",
              "      <td>238310</td>\n",
              "      <td>1</td>\n",
              "      <td>0.0</td>\n",
              "      <td>1216894.0</td>\n",
              "      <td>An employee was hospitalized for carbon monoxi...</td>\n",
              "      <td>1961</td>\n",
              "      <td>Poisoning, including poisoning-related asphyxia</td>\n",
              "      <td>6</td>\n",
              "      <td>BODY SYSTEMS</td>\n",
              "      <td>5521</td>\n",
              "      <td>Inhalation of harmful substance-single episode</td>\n",
              "      <td>1741</td>\n",
              "      <td>Carbon monoxide</td>\n",
              "      <td>NaN</td>\n",
              "      <td>NaN</td>\n",
              "    </tr>\n",
              "    <tr>\n",
              "      <th>21577</th>\n",
              "      <td>2017021912</td>\n",
              "      <td>1187132</td>\n",
              "      <td>28/2/2017</td>\n",
              "      <td>JV MANUFACTURING, INC.</td>\n",
              "      <td>701 Butterfield Coach Road</td>\n",
              "      <td>NaN</td>\n",
              "      <td>SPRINGDALE</td>\n",
              "      <td>ARKANSAS</td>\n",
              "      <td>72765.0</td>\n",
              "      <td>36.17</td>\n",
              "      <td>-94.09</td>\n",
              "      <td>333319</td>\n",
              "      <td>1</td>\n",
              "      <td>0.0</td>\n",
              "      <td>NaN</td>\n",
              "      <td>An employee was cutting the strapping on a bun...</td>\n",
              "      <td>111</td>\n",
              "      <td>Fractures</td>\n",
              "      <td>510</td>\n",
              "      <td>Leg(s), unspecified</td>\n",
              "      <td>6239</td>\n",
              "      <td>Struck by falling object or equipment, n.e.c.</td>\n",
              "      <td>2131</td>\n",
              "      <td>Bundles, bales</td>\n",
              "      <td>NaN</td>\n",
              "      <td>NaN</td>\n",
              "    </tr>\n",
              "  </tbody>\n",
              "</table>\n",
              "</div>"
            ],
            "text/plain": [
              "               ID      UPA  ... Secondary Source Secondary Source Title\n",
              "21573  2017021908  1187496  ...              NaN                    NaN\n",
              "21574  2017021909  1187261  ...              NaN                    NaN\n",
              "21575  2017021910  1187351  ...              NaN                    NaN\n",
              "21576  2017021911  1187282  ...              NaN                    NaN\n",
              "21577  2017021912  1187132  ...              NaN                    NaN\n",
              "\n",
              "[5 rows x 26 columns]"
            ]
          },
          "metadata": {},
          "execution_count": 176
        }
      ]
    },
    {
      "cell_type": "markdown",
      "metadata": {
        "id": "4qHwkj0Xhi0G"
      },
      "source": [
        "Los nombres de las columnas y sus tipos de datos"
      ]
    },
    {
      "cell_type": "code",
      "metadata": {
        "id": "YsIn-F0aa7Rd",
        "colab": {
          "base_uri": "https://localhost:8080/"
        },
        "outputId": "2d26d35a-8a22-45eb-c4a9-4cd3b71941bc"
      },
      "source": [
        "df.columns"
      ],
      "execution_count": 177,
      "outputs": [
        {
          "output_type": "execute_result",
          "data": {
            "text/plain": [
              "Index(['ID', 'UPA', 'EventDate', 'Employer', 'Address1', 'Address2', 'City',\n",
              "       'State', 'Zip', 'Latitude', 'Longitude', 'Primary NAICS',\n",
              "       'Hospitalized', 'Amputation', 'Inspection', 'Final Narrative', 'Nature',\n",
              "       'NatureTitle', 'Part of Body', 'Part of Body Title', 'Event',\n",
              "       'EventTitle', 'Source', 'SourceTitle', 'Secondary Source',\n",
              "       'Secondary Source Title'],\n",
              "      dtype='object')"
            ]
          },
          "metadata": {},
          "execution_count": 177
        }
      ]
    },
    {
      "cell_type": "code",
      "metadata": {
        "id": "3fkWi_vthTZd",
        "colab": {
          "base_uri": "https://localhost:8080/"
        },
        "outputId": "fdd43521-49a1-4e2d-faa7-400d7e6721a7"
      },
      "source": [
        "df.dtypes\n"
      ],
      "execution_count": 178,
      "outputs": [
        {
          "output_type": "execute_result",
          "data": {
            "text/plain": [
              "ID                          int64\n",
              "UPA                         int64\n",
              "EventDate                  object\n",
              "Employer                   object\n",
              "Address1                   object\n",
              "Address2                   object\n",
              "City                       object\n",
              "State                      object\n",
              "Zip                       float64\n",
              "Latitude                  float64\n",
              "Longitude                 float64\n",
              "Primary NAICS              object\n",
              "Hospitalized                int64\n",
              "Amputation                float64\n",
              "Inspection                float64\n",
              "Final Narrative            object\n",
              "Nature                      int64\n",
              "NatureTitle                object\n",
              "Part of Body                int64\n",
              "Part of Body Title         object\n",
              "Event                       int64\n",
              "EventTitle                 object\n",
              "Source                      int64\n",
              "SourceTitle                object\n",
              "Secondary Source          float64\n",
              "Secondary Source Title     object\n",
              "dtype: object"
            ]
          },
          "metadata": {},
          "execution_count": 178
        }
      ]
    },
    {
      "cell_type": "markdown",
      "metadata": {
        "id": "4rKj1hNu8OY5"
      },
      "source": [
        "##*Modificación de columnas*\n",
        "\n",
        "Cambiaremos el nombre a las columnas con espacios en ellas "
      ]
    },
    {
      "cell_type": "code",
      "metadata": {
        "id": "QfHYhH398S2r",
        "colab": {
          "base_uri": "https://localhost:8080/",
          "height": 1000
        },
        "outputId": "f80c7e56-a37b-407d-885c-2596a8dc639c"
      },
      "source": [
        "df.rename(columns = {'Primary NAICS':'Primary_NAICS'})"
      ],
      "execution_count": 179,
      "outputs": [
        {
          "output_type": "execute_result",
          "data": {
            "text/html": [
              "<div>\n",
              "<style scoped>\n",
              "    .dataframe tbody tr th:only-of-type {\n",
              "        vertical-align: middle;\n",
              "    }\n",
              "\n",
              "    .dataframe tbody tr th {\n",
              "        vertical-align: top;\n",
              "    }\n",
              "\n",
              "    .dataframe thead th {\n",
              "        text-align: right;\n",
              "    }\n",
              "</style>\n",
              "<table border=\"1\" class=\"dataframe\">\n",
              "  <thead>\n",
              "    <tr style=\"text-align: right;\">\n",
              "      <th></th>\n",
              "      <th>ID</th>\n",
              "      <th>UPA</th>\n",
              "      <th>EventDate</th>\n",
              "      <th>Employer</th>\n",
              "      <th>Address1</th>\n",
              "      <th>Address2</th>\n",
              "      <th>City</th>\n",
              "      <th>State</th>\n",
              "      <th>Zip</th>\n",
              "      <th>Latitude</th>\n",
              "      <th>Longitude</th>\n",
              "      <th>Primary_NAICS</th>\n",
              "      <th>Hospitalized</th>\n",
              "      <th>Amputation</th>\n",
              "      <th>Inspection</th>\n",
              "      <th>Final Narrative</th>\n",
              "      <th>Nature</th>\n",
              "      <th>NatureTitle</th>\n",
              "      <th>Part of Body</th>\n",
              "      <th>Part of Body Title</th>\n",
              "      <th>Event</th>\n",
              "      <th>EventTitle</th>\n",
              "      <th>Source</th>\n",
              "      <th>SourceTitle</th>\n",
              "      <th>Secondary Source</th>\n",
              "      <th>Secondary Source Title</th>\n",
              "    </tr>\n",
              "  </thead>\n",
              "  <tbody>\n",
              "    <tr>\n",
              "      <th>0</th>\n",
              "      <td>2015010015</td>\n",
              "      <td>931176</td>\n",
              "      <td>1/1/2015</td>\n",
              "      <td>FCI Otisville Federal Correctional Institution</td>\n",
              "      <td>Two Mile Drive</td>\n",
              "      <td>NaN</td>\n",
              "      <td>OTISVILLE</td>\n",
              "      <td>NEW YORK</td>\n",
              "      <td>10963.0</td>\n",
              "      <td>41.46</td>\n",
              "      <td>-74.53</td>\n",
              "      <td>922140</td>\n",
              "      <td>1</td>\n",
              "      <td>0.0</td>\n",
              "      <td>1018519.0</td>\n",
              "      <td>Three correctional facility guards were escort...</td>\n",
              "      <td>111</td>\n",
              "      <td>Fractures</td>\n",
              "      <td>513</td>\n",
              "      <td>Lower leg(s)</td>\n",
              "      <td>1214</td>\n",
              "      <td>Injured by physical contact with person while ...</td>\n",
              "      <td>5721</td>\n",
              "      <td>Co-worker</td>\n",
              "      <td>5772.0</td>\n",
              "      <td>Inmate or detainee in custody</td>\n",
              "    </tr>\n",
              "    <tr>\n",
              "      <th>1</th>\n",
              "      <td>2015010016</td>\n",
              "      <td>930267</td>\n",
              "      <td>1/1/2015</td>\n",
              "      <td>Kalahari Manufacturing LLC</td>\n",
              "      <td>171 Progress Drive</td>\n",
              "      <td>NaN</td>\n",
              "      <td>LAKE DELTON</td>\n",
              "      <td>WISCONSIN</td>\n",
              "      <td>53940.0</td>\n",
              "      <td>43.59</td>\n",
              "      <td>-89.79</td>\n",
              "      <td>339999</td>\n",
              "      <td>1</td>\n",
              "      <td>0.0</td>\n",
              "      <td>1016582.0</td>\n",
              "      <td>Employee in the Machine Shop received second d...</td>\n",
              "      <td>1522</td>\n",
              "      <td>Second degree heat (thermal) burns</td>\n",
              "      <td>519</td>\n",
              "      <td>Leg(s), n.e.c.</td>\n",
              "      <td>317</td>\n",
              "      <td>Ignition of vapors, gases, or liquids</td>\n",
              "      <td>7261</td>\n",
              "      <td>Welding, cutting, and blow torches</td>\n",
              "      <td>NaN</td>\n",
              "      <td>NaN</td>\n",
              "    </tr>\n",
              "    <tr>\n",
              "      <th>2</th>\n",
              "      <td>2015010018</td>\n",
              "      <td>929823</td>\n",
              "      <td>1/1/2015</td>\n",
              "      <td>Schneider National Bulk Carrier</td>\n",
              "      <td>420 CORAOPOLIS ROAD</td>\n",
              "      <td>NaN</td>\n",
              "      <td>CORAOPOLIS</td>\n",
              "      <td>PENNSYLVANIA</td>\n",
              "      <td>15108.0</td>\n",
              "      <td>40.49</td>\n",
              "      <td>-80.11</td>\n",
              "      <td>484121</td>\n",
              "      <td>1</td>\n",
              "      <td>0.0</td>\n",
              "      <td>NaN</td>\n",
              "      <td>A truck driver fell approximately 4 feet while...</td>\n",
              "      <td>10</td>\n",
              "      <td>Traumatic injuries and disorders, unspecified</td>\n",
              "      <td>9999</td>\n",
              "      <td>Nonclassifiable</td>\n",
              "      <td>4331</td>\n",
              "      <td>Other fall to lower level less than 6 feet</td>\n",
              "      <td>8421</td>\n",
              "      <td>Semi, tractor-trailer, tanker truck</td>\n",
              "      <td>741.0</td>\n",
              "      <td>Ladders-fixed</td>\n",
              "    </tr>\n",
              "    <tr>\n",
              "      <th>3</th>\n",
              "      <td>2015010019</td>\n",
              "      <td>929711</td>\n",
              "      <td>1/1/2015</td>\n",
              "      <td>PEPSI BOTTLING GROUP INC.</td>\n",
              "      <td>4541 HOUSTON AVE.</td>\n",
              "      <td>NaN</td>\n",
              "      <td>MACON</td>\n",
              "      <td>GEORGIA</td>\n",
              "      <td>31206.0</td>\n",
              "      <td>32.77</td>\n",
              "      <td>-83.65</td>\n",
              "      <td>424490</td>\n",
              "      <td>1</td>\n",
              "      <td>0.0</td>\n",
              "      <td>1017194.0</td>\n",
              "      <td>An employee's leg was pinned between a truck a...</td>\n",
              "      <td>1972</td>\n",
              "      <td>Soreness, pain, hurt-nonspecified injury</td>\n",
              "      <td>510</td>\n",
              "      <td>Leg(s), unspecified</td>\n",
              "      <td>640</td>\n",
              "      <td>Caught in or compressed by equipment or object...</td>\n",
              "      <td>8623</td>\n",
              "      <td>Pallet jack-powered</td>\n",
              "      <td>8420.0</td>\n",
              "      <td>Truck-motorized freight hauling and utility, u...</td>\n",
              "    </tr>\n",
              "    <tr>\n",
              "      <th>4</th>\n",
              "      <td>2015010020</td>\n",
              "      <td>929642</td>\n",
              "      <td>1/1/2015</td>\n",
              "      <td>North American Pipe Corporation</td>\n",
              "      <td>210 South Arch Street</td>\n",
              "      <td>NaN</td>\n",
              "      <td>JANESVILLE</td>\n",
              "      <td>WISCONSIN</td>\n",
              "      <td>53545.0</td>\n",
              "      <td>42.67</td>\n",
              "      <td>-89.04</td>\n",
              "      <td>326122</td>\n",
              "      <td>1</td>\n",
              "      <td>0.0</td>\n",
              "      <td>1016344.0</td>\n",
              "      <td>An employee working on the Line 6 Auto-Beller ...</td>\n",
              "      <td>111</td>\n",
              "      <td>Fractures</td>\n",
              "      <td>4429</td>\n",
              "      <td>Finger(s), fingernail(s), n.e.c.</td>\n",
              "      <td>6411</td>\n",
              "      <td>Caught in running equipment or machinery durin...</td>\n",
              "      <td>350</td>\n",
              "      <td>Metal, woodworking, and special material machi...</td>\n",
              "      <td>NaN</td>\n",
              "      <td>NaN</td>\n",
              "    </tr>\n",
              "    <tr>\n",
              "      <th>...</th>\n",
              "      <td>...</td>\n",
              "      <td>...</td>\n",
              "      <td>...</td>\n",
              "      <td>...</td>\n",
              "      <td>...</td>\n",
              "      <td>...</td>\n",
              "      <td>...</td>\n",
              "      <td>...</td>\n",
              "      <td>...</td>\n",
              "      <td>...</td>\n",
              "      <td>...</td>\n",
              "      <td>...</td>\n",
              "      <td>...</td>\n",
              "      <td>...</td>\n",
              "      <td>...</td>\n",
              "      <td>...</td>\n",
              "      <td>...</td>\n",
              "      <td>...</td>\n",
              "      <td>...</td>\n",
              "      <td>...</td>\n",
              "      <td>...</td>\n",
              "      <td>...</td>\n",
              "      <td>...</td>\n",
              "      <td>...</td>\n",
              "      <td>...</td>\n",
              "      <td>...</td>\n",
              "    </tr>\n",
              "    <tr>\n",
              "      <th>21573</th>\n",
              "      <td>2017021908</td>\n",
              "      <td>1187496</td>\n",
              "      <td>28/2/2017</td>\n",
              "      <td>JPN Masonry LLC</td>\n",
              "      <td>806 Channing Place</td>\n",
              "      <td>NaN</td>\n",
              "      <td>WASHINGTON</td>\n",
              "      <td>DISTRICT OF COLUMBIA</td>\n",
              "      <td>20008.0</td>\n",
              "      <td>38.92</td>\n",
              "      <td>-76.99</td>\n",
              "      <td>238140</td>\n",
              "      <td>1</td>\n",
              "      <td>0.0</td>\n",
              "      <td>1215482.0</td>\n",
              "      <td>An employee fell from the third scaffold level...</td>\n",
              "      <td>1834</td>\n",
              "      <td>Fractures and dislocations</td>\n",
              "      <td>4420</td>\n",
              "      <td>Finger(s), fingernail(s), unspecified</td>\n",
              "      <td>4320</td>\n",
              "      <td>Fall through surface or existing opening, unsp...</td>\n",
              "      <td>6340</td>\n",
              "      <td>Scaffolds-staging, unspecified</td>\n",
              "      <td>NaN</td>\n",
              "      <td>NaN</td>\n",
              "    </tr>\n",
              "    <tr>\n",
              "      <th>21574</th>\n",
              "      <td>2017021909</td>\n",
              "      <td>1187261</td>\n",
              "      <td>28/2/2017</td>\n",
              "      <td>CR MEYER</td>\n",
              "      <td>1815 Marathon Ave.</td>\n",
              "      <td>NaN</td>\n",
              "      <td>NEENAH</td>\n",
              "      <td>WISCONSIN</td>\n",
              "      <td>54956.0</td>\n",
              "      <td>44.16</td>\n",
              "      <td>-88.47</td>\n",
              "      <td>236220</td>\n",
              "      <td>1</td>\n",
              "      <td>0.0</td>\n",
              "      <td>1214207.0</td>\n",
              "      <td>An employee fell approximately 10 feet from a ...</td>\n",
              "      <td>111</td>\n",
              "      <td>Fractures</td>\n",
              "      <td>899</td>\n",
              "      <td>Multiple body parts, n.e.c.</td>\n",
              "      <td>4332</td>\n",
              "      <td>Other fall to lower level 6 to 10 feet</td>\n",
              "      <td>6395</td>\n",
              "      <td>Porches, balconies, decks, patios</td>\n",
              "      <td>NaN</td>\n",
              "      <td>NaN</td>\n",
              "    </tr>\n",
              "    <tr>\n",
              "      <th>21575</th>\n",
              "      <td>2017021910</td>\n",
              "      <td>1187351</td>\n",
              "      <td>28/2/2017</td>\n",
              "      <td>PHOENIX HOME CARE</td>\n",
              "      <td>353 River Bluff Drive</td>\n",
              "      <td>NaN</td>\n",
              "      <td>BRANSON</td>\n",
              "      <td>MISSOURI</td>\n",
              "      <td>65616.0</td>\n",
              "      <td>36.61</td>\n",
              "      <td>-93.27</td>\n",
              "      <td>621610</td>\n",
              "      <td>1</td>\n",
              "      <td>0.0</td>\n",
              "      <td>NaN</td>\n",
              "      <td>An employee was walking down a flight of three...</td>\n",
              "      <td>111</td>\n",
              "      <td>Fractures</td>\n",
              "      <td>513</td>\n",
              "      <td>Lower leg(s)</td>\n",
              "      <td>4331</td>\n",
              "      <td>Other fall to lower level less than 6 feet</td>\n",
              "      <td>6611</td>\n",
              "      <td>Stairs, steps-indoors</td>\n",
              "      <td>NaN</td>\n",
              "      <td>NaN</td>\n",
              "    </tr>\n",
              "    <tr>\n",
              "      <th>21576</th>\n",
              "      <td>2017021911</td>\n",
              "      <td>1187282</td>\n",
              "      <td>28/2/2017</td>\n",
              "      <td>Cross Insulation, Inc.</td>\n",
              "      <td>West Fargo New Construction</td>\n",
              "      <td>NaN</td>\n",
              "      <td>WEST FARGO</td>\n",
              "      <td>NORTH DAKOTA</td>\n",
              "      <td>58078.0</td>\n",
              "      <td>46.87</td>\n",
              "      <td>-96.93</td>\n",
              "      <td>238310</td>\n",
              "      <td>1</td>\n",
              "      <td>0.0</td>\n",
              "      <td>1216894.0</td>\n",
              "      <td>An employee was hospitalized for carbon monoxi...</td>\n",
              "      <td>1961</td>\n",
              "      <td>Poisoning, including poisoning-related asphyxia</td>\n",
              "      <td>6</td>\n",
              "      <td>BODY SYSTEMS</td>\n",
              "      <td>5521</td>\n",
              "      <td>Inhalation of harmful substance-single episode</td>\n",
              "      <td>1741</td>\n",
              "      <td>Carbon monoxide</td>\n",
              "      <td>NaN</td>\n",
              "      <td>NaN</td>\n",
              "    </tr>\n",
              "    <tr>\n",
              "      <th>21577</th>\n",
              "      <td>2017021912</td>\n",
              "      <td>1187132</td>\n",
              "      <td>28/2/2017</td>\n",
              "      <td>JV MANUFACTURING, INC.</td>\n",
              "      <td>701 Butterfield Coach Road</td>\n",
              "      <td>NaN</td>\n",
              "      <td>SPRINGDALE</td>\n",
              "      <td>ARKANSAS</td>\n",
              "      <td>72765.0</td>\n",
              "      <td>36.17</td>\n",
              "      <td>-94.09</td>\n",
              "      <td>333319</td>\n",
              "      <td>1</td>\n",
              "      <td>0.0</td>\n",
              "      <td>NaN</td>\n",
              "      <td>An employee was cutting the strapping on a bun...</td>\n",
              "      <td>111</td>\n",
              "      <td>Fractures</td>\n",
              "      <td>510</td>\n",
              "      <td>Leg(s), unspecified</td>\n",
              "      <td>6239</td>\n",
              "      <td>Struck by falling object or equipment, n.e.c.</td>\n",
              "      <td>2131</td>\n",
              "      <td>Bundles, bales</td>\n",
              "      <td>NaN</td>\n",
              "      <td>NaN</td>\n",
              "    </tr>\n",
              "  </tbody>\n",
              "</table>\n",
              "<p>21578 rows × 26 columns</p>\n",
              "</div>"
            ],
            "text/plain": [
              "               ID  ...                             Secondary Source Title\n",
              "0      2015010015  ...                      Inmate or detainee in custody\n",
              "1      2015010016  ...                                                NaN\n",
              "2      2015010018  ...                                      Ladders-fixed\n",
              "3      2015010019  ...  Truck-motorized freight hauling and utility, u...\n",
              "4      2015010020  ...                                                NaN\n",
              "...           ...  ...                                                ...\n",
              "21573  2017021908  ...                                                NaN\n",
              "21574  2017021909  ...                                                NaN\n",
              "21575  2017021910  ...                                                NaN\n",
              "21576  2017021911  ...                                                NaN\n",
              "21577  2017021912  ...                                                NaN\n",
              "\n",
              "[21578 rows x 26 columns]"
            ]
          },
          "metadata": {},
          "execution_count": 179
        }
      ]
    },
    {
      "cell_type": "code",
      "metadata": {
        "id": "cgfnM6Kl82F2",
        "colab": {
          "base_uri": "https://localhost:8080/",
          "height": 1000
        },
        "outputId": "fc8aab70-c187-4ac9-f8f0-68d247f49c1f"
      },
      "source": [
        "df.rename(columns = {'Final Narrative':'Final_Narrative'})"
      ],
      "execution_count": 180,
      "outputs": [
        {
          "output_type": "execute_result",
          "data": {
            "text/html": [
              "<div>\n",
              "<style scoped>\n",
              "    .dataframe tbody tr th:only-of-type {\n",
              "        vertical-align: middle;\n",
              "    }\n",
              "\n",
              "    .dataframe tbody tr th {\n",
              "        vertical-align: top;\n",
              "    }\n",
              "\n",
              "    .dataframe thead th {\n",
              "        text-align: right;\n",
              "    }\n",
              "</style>\n",
              "<table border=\"1\" class=\"dataframe\">\n",
              "  <thead>\n",
              "    <tr style=\"text-align: right;\">\n",
              "      <th></th>\n",
              "      <th>ID</th>\n",
              "      <th>UPA</th>\n",
              "      <th>EventDate</th>\n",
              "      <th>Employer</th>\n",
              "      <th>Address1</th>\n",
              "      <th>Address2</th>\n",
              "      <th>City</th>\n",
              "      <th>State</th>\n",
              "      <th>Zip</th>\n",
              "      <th>Latitude</th>\n",
              "      <th>Longitude</th>\n",
              "      <th>Primary NAICS</th>\n",
              "      <th>Hospitalized</th>\n",
              "      <th>Amputation</th>\n",
              "      <th>Inspection</th>\n",
              "      <th>Final_Narrative</th>\n",
              "      <th>Nature</th>\n",
              "      <th>NatureTitle</th>\n",
              "      <th>Part of Body</th>\n",
              "      <th>Part of Body Title</th>\n",
              "      <th>Event</th>\n",
              "      <th>EventTitle</th>\n",
              "      <th>Source</th>\n",
              "      <th>SourceTitle</th>\n",
              "      <th>Secondary Source</th>\n",
              "      <th>Secondary Source Title</th>\n",
              "    </tr>\n",
              "  </thead>\n",
              "  <tbody>\n",
              "    <tr>\n",
              "      <th>0</th>\n",
              "      <td>2015010015</td>\n",
              "      <td>931176</td>\n",
              "      <td>1/1/2015</td>\n",
              "      <td>FCI Otisville Federal Correctional Institution</td>\n",
              "      <td>Two Mile Drive</td>\n",
              "      <td>NaN</td>\n",
              "      <td>OTISVILLE</td>\n",
              "      <td>NEW YORK</td>\n",
              "      <td>10963.0</td>\n",
              "      <td>41.46</td>\n",
              "      <td>-74.53</td>\n",
              "      <td>922140</td>\n",
              "      <td>1</td>\n",
              "      <td>0.0</td>\n",
              "      <td>1018519.0</td>\n",
              "      <td>Three correctional facility guards were escort...</td>\n",
              "      <td>111</td>\n",
              "      <td>Fractures</td>\n",
              "      <td>513</td>\n",
              "      <td>Lower leg(s)</td>\n",
              "      <td>1214</td>\n",
              "      <td>Injured by physical contact with person while ...</td>\n",
              "      <td>5721</td>\n",
              "      <td>Co-worker</td>\n",
              "      <td>5772.0</td>\n",
              "      <td>Inmate or detainee in custody</td>\n",
              "    </tr>\n",
              "    <tr>\n",
              "      <th>1</th>\n",
              "      <td>2015010016</td>\n",
              "      <td>930267</td>\n",
              "      <td>1/1/2015</td>\n",
              "      <td>Kalahari Manufacturing LLC</td>\n",
              "      <td>171 Progress Drive</td>\n",
              "      <td>NaN</td>\n",
              "      <td>LAKE DELTON</td>\n",
              "      <td>WISCONSIN</td>\n",
              "      <td>53940.0</td>\n",
              "      <td>43.59</td>\n",
              "      <td>-89.79</td>\n",
              "      <td>339999</td>\n",
              "      <td>1</td>\n",
              "      <td>0.0</td>\n",
              "      <td>1016582.0</td>\n",
              "      <td>Employee in the Machine Shop received second d...</td>\n",
              "      <td>1522</td>\n",
              "      <td>Second degree heat (thermal) burns</td>\n",
              "      <td>519</td>\n",
              "      <td>Leg(s), n.e.c.</td>\n",
              "      <td>317</td>\n",
              "      <td>Ignition of vapors, gases, or liquids</td>\n",
              "      <td>7261</td>\n",
              "      <td>Welding, cutting, and blow torches</td>\n",
              "      <td>NaN</td>\n",
              "      <td>NaN</td>\n",
              "    </tr>\n",
              "    <tr>\n",
              "      <th>2</th>\n",
              "      <td>2015010018</td>\n",
              "      <td>929823</td>\n",
              "      <td>1/1/2015</td>\n",
              "      <td>Schneider National Bulk Carrier</td>\n",
              "      <td>420 CORAOPOLIS ROAD</td>\n",
              "      <td>NaN</td>\n",
              "      <td>CORAOPOLIS</td>\n",
              "      <td>PENNSYLVANIA</td>\n",
              "      <td>15108.0</td>\n",
              "      <td>40.49</td>\n",
              "      <td>-80.11</td>\n",
              "      <td>484121</td>\n",
              "      <td>1</td>\n",
              "      <td>0.0</td>\n",
              "      <td>NaN</td>\n",
              "      <td>A truck driver fell approximately 4 feet while...</td>\n",
              "      <td>10</td>\n",
              "      <td>Traumatic injuries and disorders, unspecified</td>\n",
              "      <td>9999</td>\n",
              "      <td>Nonclassifiable</td>\n",
              "      <td>4331</td>\n",
              "      <td>Other fall to lower level less than 6 feet</td>\n",
              "      <td>8421</td>\n",
              "      <td>Semi, tractor-trailer, tanker truck</td>\n",
              "      <td>741.0</td>\n",
              "      <td>Ladders-fixed</td>\n",
              "    </tr>\n",
              "    <tr>\n",
              "      <th>3</th>\n",
              "      <td>2015010019</td>\n",
              "      <td>929711</td>\n",
              "      <td>1/1/2015</td>\n",
              "      <td>PEPSI BOTTLING GROUP INC.</td>\n",
              "      <td>4541 HOUSTON AVE.</td>\n",
              "      <td>NaN</td>\n",
              "      <td>MACON</td>\n",
              "      <td>GEORGIA</td>\n",
              "      <td>31206.0</td>\n",
              "      <td>32.77</td>\n",
              "      <td>-83.65</td>\n",
              "      <td>424490</td>\n",
              "      <td>1</td>\n",
              "      <td>0.0</td>\n",
              "      <td>1017194.0</td>\n",
              "      <td>An employee's leg was pinned between a truck a...</td>\n",
              "      <td>1972</td>\n",
              "      <td>Soreness, pain, hurt-nonspecified injury</td>\n",
              "      <td>510</td>\n",
              "      <td>Leg(s), unspecified</td>\n",
              "      <td>640</td>\n",
              "      <td>Caught in or compressed by equipment or object...</td>\n",
              "      <td>8623</td>\n",
              "      <td>Pallet jack-powered</td>\n",
              "      <td>8420.0</td>\n",
              "      <td>Truck-motorized freight hauling and utility, u...</td>\n",
              "    </tr>\n",
              "    <tr>\n",
              "      <th>4</th>\n",
              "      <td>2015010020</td>\n",
              "      <td>929642</td>\n",
              "      <td>1/1/2015</td>\n",
              "      <td>North American Pipe Corporation</td>\n",
              "      <td>210 South Arch Street</td>\n",
              "      <td>NaN</td>\n",
              "      <td>JANESVILLE</td>\n",
              "      <td>WISCONSIN</td>\n",
              "      <td>53545.0</td>\n",
              "      <td>42.67</td>\n",
              "      <td>-89.04</td>\n",
              "      <td>326122</td>\n",
              "      <td>1</td>\n",
              "      <td>0.0</td>\n",
              "      <td>1016344.0</td>\n",
              "      <td>An employee working on the Line 6 Auto-Beller ...</td>\n",
              "      <td>111</td>\n",
              "      <td>Fractures</td>\n",
              "      <td>4429</td>\n",
              "      <td>Finger(s), fingernail(s), n.e.c.</td>\n",
              "      <td>6411</td>\n",
              "      <td>Caught in running equipment or machinery durin...</td>\n",
              "      <td>350</td>\n",
              "      <td>Metal, woodworking, and special material machi...</td>\n",
              "      <td>NaN</td>\n",
              "      <td>NaN</td>\n",
              "    </tr>\n",
              "    <tr>\n",
              "      <th>...</th>\n",
              "      <td>...</td>\n",
              "      <td>...</td>\n",
              "      <td>...</td>\n",
              "      <td>...</td>\n",
              "      <td>...</td>\n",
              "      <td>...</td>\n",
              "      <td>...</td>\n",
              "      <td>...</td>\n",
              "      <td>...</td>\n",
              "      <td>...</td>\n",
              "      <td>...</td>\n",
              "      <td>...</td>\n",
              "      <td>...</td>\n",
              "      <td>...</td>\n",
              "      <td>...</td>\n",
              "      <td>...</td>\n",
              "      <td>...</td>\n",
              "      <td>...</td>\n",
              "      <td>...</td>\n",
              "      <td>...</td>\n",
              "      <td>...</td>\n",
              "      <td>...</td>\n",
              "      <td>...</td>\n",
              "      <td>...</td>\n",
              "      <td>...</td>\n",
              "      <td>...</td>\n",
              "    </tr>\n",
              "    <tr>\n",
              "      <th>21573</th>\n",
              "      <td>2017021908</td>\n",
              "      <td>1187496</td>\n",
              "      <td>28/2/2017</td>\n",
              "      <td>JPN Masonry LLC</td>\n",
              "      <td>806 Channing Place</td>\n",
              "      <td>NaN</td>\n",
              "      <td>WASHINGTON</td>\n",
              "      <td>DISTRICT OF COLUMBIA</td>\n",
              "      <td>20008.0</td>\n",
              "      <td>38.92</td>\n",
              "      <td>-76.99</td>\n",
              "      <td>238140</td>\n",
              "      <td>1</td>\n",
              "      <td>0.0</td>\n",
              "      <td>1215482.0</td>\n",
              "      <td>An employee fell from the third scaffold level...</td>\n",
              "      <td>1834</td>\n",
              "      <td>Fractures and dislocations</td>\n",
              "      <td>4420</td>\n",
              "      <td>Finger(s), fingernail(s), unspecified</td>\n",
              "      <td>4320</td>\n",
              "      <td>Fall through surface or existing opening, unsp...</td>\n",
              "      <td>6340</td>\n",
              "      <td>Scaffolds-staging, unspecified</td>\n",
              "      <td>NaN</td>\n",
              "      <td>NaN</td>\n",
              "    </tr>\n",
              "    <tr>\n",
              "      <th>21574</th>\n",
              "      <td>2017021909</td>\n",
              "      <td>1187261</td>\n",
              "      <td>28/2/2017</td>\n",
              "      <td>CR MEYER</td>\n",
              "      <td>1815 Marathon Ave.</td>\n",
              "      <td>NaN</td>\n",
              "      <td>NEENAH</td>\n",
              "      <td>WISCONSIN</td>\n",
              "      <td>54956.0</td>\n",
              "      <td>44.16</td>\n",
              "      <td>-88.47</td>\n",
              "      <td>236220</td>\n",
              "      <td>1</td>\n",
              "      <td>0.0</td>\n",
              "      <td>1214207.0</td>\n",
              "      <td>An employee fell approximately 10 feet from a ...</td>\n",
              "      <td>111</td>\n",
              "      <td>Fractures</td>\n",
              "      <td>899</td>\n",
              "      <td>Multiple body parts, n.e.c.</td>\n",
              "      <td>4332</td>\n",
              "      <td>Other fall to lower level 6 to 10 feet</td>\n",
              "      <td>6395</td>\n",
              "      <td>Porches, balconies, decks, patios</td>\n",
              "      <td>NaN</td>\n",
              "      <td>NaN</td>\n",
              "    </tr>\n",
              "    <tr>\n",
              "      <th>21575</th>\n",
              "      <td>2017021910</td>\n",
              "      <td>1187351</td>\n",
              "      <td>28/2/2017</td>\n",
              "      <td>PHOENIX HOME CARE</td>\n",
              "      <td>353 River Bluff Drive</td>\n",
              "      <td>NaN</td>\n",
              "      <td>BRANSON</td>\n",
              "      <td>MISSOURI</td>\n",
              "      <td>65616.0</td>\n",
              "      <td>36.61</td>\n",
              "      <td>-93.27</td>\n",
              "      <td>621610</td>\n",
              "      <td>1</td>\n",
              "      <td>0.0</td>\n",
              "      <td>NaN</td>\n",
              "      <td>An employee was walking down a flight of three...</td>\n",
              "      <td>111</td>\n",
              "      <td>Fractures</td>\n",
              "      <td>513</td>\n",
              "      <td>Lower leg(s)</td>\n",
              "      <td>4331</td>\n",
              "      <td>Other fall to lower level less than 6 feet</td>\n",
              "      <td>6611</td>\n",
              "      <td>Stairs, steps-indoors</td>\n",
              "      <td>NaN</td>\n",
              "      <td>NaN</td>\n",
              "    </tr>\n",
              "    <tr>\n",
              "      <th>21576</th>\n",
              "      <td>2017021911</td>\n",
              "      <td>1187282</td>\n",
              "      <td>28/2/2017</td>\n",
              "      <td>Cross Insulation, Inc.</td>\n",
              "      <td>West Fargo New Construction</td>\n",
              "      <td>NaN</td>\n",
              "      <td>WEST FARGO</td>\n",
              "      <td>NORTH DAKOTA</td>\n",
              "      <td>58078.0</td>\n",
              "      <td>46.87</td>\n",
              "      <td>-96.93</td>\n",
              "      <td>238310</td>\n",
              "      <td>1</td>\n",
              "      <td>0.0</td>\n",
              "      <td>1216894.0</td>\n",
              "      <td>An employee was hospitalized for carbon monoxi...</td>\n",
              "      <td>1961</td>\n",
              "      <td>Poisoning, including poisoning-related asphyxia</td>\n",
              "      <td>6</td>\n",
              "      <td>BODY SYSTEMS</td>\n",
              "      <td>5521</td>\n",
              "      <td>Inhalation of harmful substance-single episode</td>\n",
              "      <td>1741</td>\n",
              "      <td>Carbon monoxide</td>\n",
              "      <td>NaN</td>\n",
              "      <td>NaN</td>\n",
              "    </tr>\n",
              "    <tr>\n",
              "      <th>21577</th>\n",
              "      <td>2017021912</td>\n",
              "      <td>1187132</td>\n",
              "      <td>28/2/2017</td>\n",
              "      <td>JV MANUFACTURING, INC.</td>\n",
              "      <td>701 Butterfield Coach Road</td>\n",
              "      <td>NaN</td>\n",
              "      <td>SPRINGDALE</td>\n",
              "      <td>ARKANSAS</td>\n",
              "      <td>72765.0</td>\n",
              "      <td>36.17</td>\n",
              "      <td>-94.09</td>\n",
              "      <td>333319</td>\n",
              "      <td>1</td>\n",
              "      <td>0.0</td>\n",
              "      <td>NaN</td>\n",
              "      <td>An employee was cutting the strapping on a bun...</td>\n",
              "      <td>111</td>\n",
              "      <td>Fractures</td>\n",
              "      <td>510</td>\n",
              "      <td>Leg(s), unspecified</td>\n",
              "      <td>6239</td>\n",
              "      <td>Struck by falling object or equipment, n.e.c.</td>\n",
              "      <td>2131</td>\n",
              "      <td>Bundles, bales</td>\n",
              "      <td>NaN</td>\n",
              "      <td>NaN</td>\n",
              "    </tr>\n",
              "  </tbody>\n",
              "</table>\n",
              "<p>21578 rows × 26 columns</p>\n",
              "</div>"
            ],
            "text/plain": [
              "               ID  ...                             Secondary Source Title\n",
              "0      2015010015  ...                      Inmate or detainee in custody\n",
              "1      2015010016  ...                                                NaN\n",
              "2      2015010018  ...                                      Ladders-fixed\n",
              "3      2015010019  ...  Truck-motorized freight hauling and utility, u...\n",
              "4      2015010020  ...                                                NaN\n",
              "...           ...  ...                                                ...\n",
              "21573  2017021908  ...                                                NaN\n",
              "21574  2017021909  ...                                                NaN\n",
              "21575  2017021910  ...                                                NaN\n",
              "21576  2017021911  ...                                                NaN\n",
              "21577  2017021912  ...                                                NaN\n",
              "\n",
              "[21578 rows x 26 columns]"
            ]
          },
          "metadata": {},
          "execution_count": 180
        }
      ]
    },
    {
      "cell_type": "code",
      "metadata": {
        "id": "7uaukfLF9NBL",
        "colab": {
          "base_uri": "https://localhost:8080/",
          "height": 1000
        },
        "outputId": "df68ec55-8878-4b0f-f959-80c328046a28"
      },
      "source": [
        "df.rename(columns = {'Part of Body':'Part_of_Body'})\n",
        "df.rename(columns = {'Secondary Source':'Secondary_Source'})\n",
        "df.rename(columns = {'Part of Body Title':'Part_of_Body_Title'})\n",
        "df.rename(columns = {'Secondary Source Title':'Secondary_Source_Title'})"
      ],
      "execution_count": 181,
      "outputs": [
        {
          "output_type": "execute_result",
          "data": {
            "text/html": [
              "<div>\n",
              "<style scoped>\n",
              "    .dataframe tbody tr th:only-of-type {\n",
              "        vertical-align: middle;\n",
              "    }\n",
              "\n",
              "    .dataframe tbody tr th {\n",
              "        vertical-align: top;\n",
              "    }\n",
              "\n",
              "    .dataframe thead th {\n",
              "        text-align: right;\n",
              "    }\n",
              "</style>\n",
              "<table border=\"1\" class=\"dataframe\">\n",
              "  <thead>\n",
              "    <tr style=\"text-align: right;\">\n",
              "      <th></th>\n",
              "      <th>ID</th>\n",
              "      <th>UPA</th>\n",
              "      <th>EventDate</th>\n",
              "      <th>Employer</th>\n",
              "      <th>Address1</th>\n",
              "      <th>Address2</th>\n",
              "      <th>City</th>\n",
              "      <th>State</th>\n",
              "      <th>Zip</th>\n",
              "      <th>Latitude</th>\n",
              "      <th>Longitude</th>\n",
              "      <th>Primary NAICS</th>\n",
              "      <th>Hospitalized</th>\n",
              "      <th>Amputation</th>\n",
              "      <th>Inspection</th>\n",
              "      <th>Final Narrative</th>\n",
              "      <th>Nature</th>\n",
              "      <th>NatureTitle</th>\n",
              "      <th>Part of Body</th>\n",
              "      <th>Part of Body Title</th>\n",
              "      <th>Event</th>\n",
              "      <th>EventTitle</th>\n",
              "      <th>Source</th>\n",
              "      <th>SourceTitle</th>\n",
              "      <th>Secondary Source</th>\n",
              "      <th>Secondary_Source_Title</th>\n",
              "    </tr>\n",
              "  </thead>\n",
              "  <tbody>\n",
              "    <tr>\n",
              "      <th>0</th>\n",
              "      <td>2015010015</td>\n",
              "      <td>931176</td>\n",
              "      <td>1/1/2015</td>\n",
              "      <td>FCI Otisville Federal Correctional Institution</td>\n",
              "      <td>Two Mile Drive</td>\n",
              "      <td>NaN</td>\n",
              "      <td>OTISVILLE</td>\n",
              "      <td>NEW YORK</td>\n",
              "      <td>10963.0</td>\n",
              "      <td>41.46</td>\n",
              "      <td>-74.53</td>\n",
              "      <td>922140</td>\n",
              "      <td>1</td>\n",
              "      <td>0.0</td>\n",
              "      <td>1018519.0</td>\n",
              "      <td>Three correctional facility guards were escort...</td>\n",
              "      <td>111</td>\n",
              "      <td>Fractures</td>\n",
              "      <td>513</td>\n",
              "      <td>Lower leg(s)</td>\n",
              "      <td>1214</td>\n",
              "      <td>Injured by physical contact with person while ...</td>\n",
              "      <td>5721</td>\n",
              "      <td>Co-worker</td>\n",
              "      <td>5772.0</td>\n",
              "      <td>Inmate or detainee in custody</td>\n",
              "    </tr>\n",
              "    <tr>\n",
              "      <th>1</th>\n",
              "      <td>2015010016</td>\n",
              "      <td>930267</td>\n",
              "      <td>1/1/2015</td>\n",
              "      <td>Kalahari Manufacturing LLC</td>\n",
              "      <td>171 Progress Drive</td>\n",
              "      <td>NaN</td>\n",
              "      <td>LAKE DELTON</td>\n",
              "      <td>WISCONSIN</td>\n",
              "      <td>53940.0</td>\n",
              "      <td>43.59</td>\n",
              "      <td>-89.79</td>\n",
              "      <td>339999</td>\n",
              "      <td>1</td>\n",
              "      <td>0.0</td>\n",
              "      <td>1016582.0</td>\n",
              "      <td>Employee in the Machine Shop received second d...</td>\n",
              "      <td>1522</td>\n",
              "      <td>Second degree heat (thermal) burns</td>\n",
              "      <td>519</td>\n",
              "      <td>Leg(s), n.e.c.</td>\n",
              "      <td>317</td>\n",
              "      <td>Ignition of vapors, gases, or liquids</td>\n",
              "      <td>7261</td>\n",
              "      <td>Welding, cutting, and blow torches</td>\n",
              "      <td>NaN</td>\n",
              "      <td>NaN</td>\n",
              "    </tr>\n",
              "    <tr>\n",
              "      <th>2</th>\n",
              "      <td>2015010018</td>\n",
              "      <td>929823</td>\n",
              "      <td>1/1/2015</td>\n",
              "      <td>Schneider National Bulk Carrier</td>\n",
              "      <td>420 CORAOPOLIS ROAD</td>\n",
              "      <td>NaN</td>\n",
              "      <td>CORAOPOLIS</td>\n",
              "      <td>PENNSYLVANIA</td>\n",
              "      <td>15108.0</td>\n",
              "      <td>40.49</td>\n",
              "      <td>-80.11</td>\n",
              "      <td>484121</td>\n",
              "      <td>1</td>\n",
              "      <td>0.0</td>\n",
              "      <td>NaN</td>\n",
              "      <td>A truck driver fell approximately 4 feet while...</td>\n",
              "      <td>10</td>\n",
              "      <td>Traumatic injuries and disorders, unspecified</td>\n",
              "      <td>9999</td>\n",
              "      <td>Nonclassifiable</td>\n",
              "      <td>4331</td>\n",
              "      <td>Other fall to lower level less than 6 feet</td>\n",
              "      <td>8421</td>\n",
              "      <td>Semi, tractor-trailer, tanker truck</td>\n",
              "      <td>741.0</td>\n",
              "      <td>Ladders-fixed</td>\n",
              "    </tr>\n",
              "    <tr>\n",
              "      <th>3</th>\n",
              "      <td>2015010019</td>\n",
              "      <td>929711</td>\n",
              "      <td>1/1/2015</td>\n",
              "      <td>PEPSI BOTTLING GROUP INC.</td>\n",
              "      <td>4541 HOUSTON AVE.</td>\n",
              "      <td>NaN</td>\n",
              "      <td>MACON</td>\n",
              "      <td>GEORGIA</td>\n",
              "      <td>31206.0</td>\n",
              "      <td>32.77</td>\n",
              "      <td>-83.65</td>\n",
              "      <td>424490</td>\n",
              "      <td>1</td>\n",
              "      <td>0.0</td>\n",
              "      <td>1017194.0</td>\n",
              "      <td>An employee's leg was pinned between a truck a...</td>\n",
              "      <td>1972</td>\n",
              "      <td>Soreness, pain, hurt-nonspecified injury</td>\n",
              "      <td>510</td>\n",
              "      <td>Leg(s), unspecified</td>\n",
              "      <td>640</td>\n",
              "      <td>Caught in or compressed by equipment or object...</td>\n",
              "      <td>8623</td>\n",
              "      <td>Pallet jack-powered</td>\n",
              "      <td>8420.0</td>\n",
              "      <td>Truck-motorized freight hauling and utility, u...</td>\n",
              "    </tr>\n",
              "    <tr>\n",
              "      <th>4</th>\n",
              "      <td>2015010020</td>\n",
              "      <td>929642</td>\n",
              "      <td>1/1/2015</td>\n",
              "      <td>North American Pipe Corporation</td>\n",
              "      <td>210 South Arch Street</td>\n",
              "      <td>NaN</td>\n",
              "      <td>JANESVILLE</td>\n",
              "      <td>WISCONSIN</td>\n",
              "      <td>53545.0</td>\n",
              "      <td>42.67</td>\n",
              "      <td>-89.04</td>\n",
              "      <td>326122</td>\n",
              "      <td>1</td>\n",
              "      <td>0.0</td>\n",
              "      <td>1016344.0</td>\n",
              "      <td>An employee working on the Line 6 Auto-Beller ...</td>\n",
              "      <td>111</td>\n",
              "      <td>Fractures</td>\n",
              "      <td>4429</td>\n",
              "      <td>Finger(s), fingernail(s), n.e.c.</td>\n",
              "      <td>6411</td>\n",
              "      <td>Caught in running equipment or machinery durin...</td>\n",
              "      <td>350</td>\n",
              "      <td>Metal, woodworking, and special material machi...</td>\n",
              "      <td>NaN</td>\n",
              "      <td>NaN</td>\n",
              "    </tr>\n",
              "    <tr>\n",
              "      <th>...</th>\n",
              "      <td>...</td>\n",
              "      <td>...</td>\n",
              "      <td>...</td>\n",
              "      <td>...</td>\n",
              "      <td>...</td>\n",
              "      <td>...</td>\n",
              "      <td>...</td>\n",
              "      <td>...</td>\n",
              "      <td>...</td>\n",
              "      <td>...</td>\n",
              "      <td>...</td>\n",
              "      <td>...</td>\n",
              "      <td>...</td>\n",
              "      <td>...</td>\n",
              "      <td>...</td>\n",
              "      <td>...</td>\n",
              "      <td>...</td>\n",
              "      <td>...</td>\n",
              "      <td>...</td>\n",
              "      <td>...</td>\n",
              "      <td>...</td>\n",
              "      <td>...</td>\n",
              "      <td>...</td>\n",
              "      <td>...</td>\n",
              "      <td>...</td>\n",
              "      <td>...</td>\n",
              "    </tr>\n",
              "    <tr>\n",
              "      <th>21573</th>\n",
              "      <td>2017021908</td>\n",
              "      <td>1187496</td>\n",
              "      <td>28/2/2017</td>\n",
              "      <td>JPN Masonry LLC</td>\n",
              "      <td>806 Channing Place</td>\n",
              "      <td>NaN</td>\n",
              "      <td>WASHINGTON</td>\n",
              "      <td>DISTRICT OF COLUMBIA</td>\n",
              "      <td>20008.0</td>\n",
              "      <td>38.92</td>\n",
              "      <td>-76.99</td>\n",
              "      <td>238140</td>\n",
              "      <td>1</td>\n",
              "      <td>0.0</td>\n",
              "      <td>1215482.0</td>\n",
              "      <td>An employee fell from the third scaffold level...</td>\n",
              "      <td>1834</td>\n",
              "      <td>Fractures and dislocations</td>\n",
              "      <td>4420</td>\n",
              "      <td>Finger(s), fingernail(s), unspecified</td>\n",
              "      <td>4320</td>\n",
              "      <td>Fall through surface or existing opening, unsp...</td>\n",
              "      <td>6340</td>\n",
              "      <td>Scaffolds-staging, unspecified</td>\n",
              "      <td>NaN</td>\n",
              "      <td>NaN</td>\n",
              "    </tr>\n",
              "    <tr>\n",
              "      <th>21574</th>\n",
              "      <td>2017021909</td>\n",
              "      <td>1187261</td>\n",
              "      <td>28/2/2017</td>\n",
              "      <td>CR MEYER</td>\n",
              "      <td>1815 Marathon Ave.</td>\n",
              "      <td>NaN</td>\n",
              "      <td>NEENAH</td>\n",
              "      <td>WISCONSIN</td>\n",
              "      <td>54956.0</td>\n",
              "      <td>44.16</td>\n",
              "      <td>-88.47</td>\n",
              "      <td>236220</td>\n",
              "      <td>1</td>\n",
              "      <td>0.0</td>\n",
              "      <td>1214207.0</td>\n",
              "      <td>An employee fell approximately 10 feet from a ...</td>\n",
              "      <td>111</td>\n",
              "      <td>Fractures</td>\n",
              "      <td>899</td>\n",
              "      <td>Multiple body parts, n.e.c.</td>\n",
              "      <td>4332</td>\n",
              "      <td>Other fall to lower level 6 to 10 feet</td>\n",
              "      <td>6395</td>\n",
              "      <td>Porches, balconies, decks, patios</td>\n",
              "      <td>NaN</td>\n",
              "      <td>NaN</td>\n",
              "    </tr>\n",
              "    <tr>\n",
              "      <th>21575</th>\n",
              "      <td>2017021910</td>\n",
              "      <td>1187351</td>\n",
              "      <td>28/2/2017</td>\n",
              "      <td>PHOENIX HOME CARE</td>\n",
              "      <td>353 River Bluff Drive</td>\n",
              "      <td>NaN</td>\n",
              "      <td>BRANSON</td>\n",
              "      <td>MISSOURI</td>\n",
              "      <td>65616.0</td>\n",
              "      <td>36.61</td>\n",
              "      <td>-93.27</td>\n",
              "      <td>621610</td>\n",
              "      <td>1</td>\n",
              "      <td>0.0</td>\n",
              "      <td>NaN</td>\n",
              "      <td>An employee was walking down a flight of three...</td>\n",
              "      <td>111</td>\n",
              "      <td>Fractures</td>\n",
              "      <td>513</td>\n",
              "      <td>Lower leg(s)</td>\n",
              "      <td>4331</td>\n",
              "      <td>Other fall to lower level less than 6 feet</td>\n",
              "      <td>6611</td>\n",
              "      <td>Stairs, steps-indoors</td>\n",
              "      <td>NaN</td>\n",
              "      <td>NaN</td>\n",
              "    </tr>\n",
              "    <tr>\n",
              "      <th>21576</th>\n",
              "      <td>2017021911</td>\n",
              "      <td>1187282</td>\n",
              "      <td>28/2/2017</td>\n",
              "      <td>Cross Insulation, Inc.</td>\n",
              "      <td>West Fargo New Construction</td>\n",
              "      <td>NaN</td>\n",
              "      <td>WEST FARGO</td>\n",
              "      <td>NORTH DAKOTA</td>\n",
              "      <td>58078.0</td>\n",
              "      <td>46.87</td>\n",
              "      <td>-96.93</td>\n",
              "      <td>238310</td>\n",
              "      <td>1</td>\n",
              "      <td>0.0</td>\n",
              "      <td>1216894.0</td>\n",
              "      <td>An employee was hospitalized for carbon monoxi...</td>\n",
              "      <td>1961</td>\n",
              "      <td>Poisoning, including poisoning-related asphyxia</td>\n",
              "      <td>6</td>\n",
              "      <td>BODY SYSTEMS</td>\n",
              "      <td>5521</td>\n",
              "      <td>Inhalation of harmful substance-single episode</td>\n",
              "      <td>1741</td>\n",
              "      <td>Carbon monoxide</td>\n",
              "      <td>NaN</td>\n",
              "      <td>NaN</td>\n",
              "    </tr>\n",
              "    <tr>\n",
              "      <th>21577</th>\n",
              "      <td>2017021912</td>\n",
              "      <td>1187132</td>\n",
              "      <td>28/2/2017</td>\n",
              "      <td>JV MANUFACTURING, INC.</td>\n",
              "      <td>701 Butterfield Coach Road</td>\n",
              "      <td>NaN</td>\n",
              "      <td>SPRINGDALE</td>\n",
              "      <td>ARKANSAS</td>\n",
              "      <td>72765.0</td>\n",
              "      <td>36.17</td>\n",
              "      <td>-94.09</td>\n",
              "      <td>333319</td>\n",
              "      <td>1</td>\n",
              "      <td>0.0</td>\n",
              "      <td>NaN</td>\n",
              "      <td>An employee was cutting the strapping on a bun...</td>\n",
              "      <td>111</td>\n",
              "      <td>Fractures</td>\n",
              "      <td>510</td>\n",
              "      <td>Leg(s), unspecified</td>\n",
              "      <td>6239</td>\n",
              "      <td>Struck by falling object or equipment, n.e.c.</td>\n",
              "      <td>2131</td>\n",
              "      <td>Bundles, bales</td>\n",
              "      <td>NaN</td>\n",
              "      <td>NaN</td>\n",
              "    </tr>\n",
              "  </tbody>\n",
              "</table>\n",
              "<p>21578 rows × 26 columns</p>\n",
              "</div>"
            ],
            "text/plain": [
              "               ID  ...                             Secondary_Source_Title\n",
              "0      2015010015  ...                      Inmate or detainee in custody\n",
              "1      2015010016  ...                                                NaN\n",
              "2      2015010018  ...                                      Ladders-fixed\n",
              "3      2015010019  ...  Truck-motorized freight hauling and utility, u...\n",
              "4      2015010020  ...                                                NaN\n",
              "...           ...  ...                                                ...\n",
              "21573  2017021908  ...                                                NaN\n",
              "21574  2017021909  ...                                                NaN\n",
              "21575  2017021910  ...                                                NaN\n",
              "21576  2017021911  ...                                                NaN\n",
              "21577  2017021912  ...                                                NaN\n",
              "\n",
              "[21578 rows x 26 columns]"
            ]
          },
          "metadata": {},
          "execution_count": 181
        }
      ]
    },
    {
      "cell_type": "markdown",
      "metadata": {
        "id": "Q8MCBBlJgofu"
      },
      "source": [
        "Clasificando los datos por las categorias de la columna State\n"
      ]
    },
    {
      "cell_type": "code",
      "metadata": {
        "id": "1FvBpTh5bkia",
        "colab": {
          "base_uri": "https://localhost:8080/"
        },
        "outputId": "e5ac626d-81b9-48f1-9a84-daadee9a9cdf"
      },
      "source": [
        "df.State.unique()"
      ],
      "execution_count": 182,
      "outputs": [
        {
          "output_type": "execute_result",
          "data": {
            "text/plain": [
              "array(['NEW YORK', 'WISCONSIN', 'PENNSYLVANIA', 'GEORGIA', 'FLORIDA',\n",
              "       'COLORADO', 'OKLAHOMA', 'TEXAS', 'LOUISIANA', 'MISSISSIPPI',\n",
              "       'NEW JERSEY', 'OHIO', 'ILLINOIS', 'NEBRASKA', 'NEW HAMPSHIRE',\n",
              "       'KANSAS', 'MASSACHUSETTS', 'ARKANSAS', 'MICHIGAN', 'IDAHO',\n",
              "       'MISSOURI', 'MAINE', 'CONNECTICUT', 'WEST VIRGINIA',\n",
              "       'NORTH DAKOTA', 'MONTANA', 'NORTH CAROLINA', 'DELAWARE',\n",
              "       'CALIFORNIA', 'AMERICAN SAMOA', 'DISTRICT OF COLUMBIA', 'ALABAMA',\n",
              "       'TENNESSEE', 'OREGON', 'SOUTH DAKOTA', 'RHODE ISLAND', 'INDIANA',\n",
              "       'VIRGINIA', 'NEW MEXICO', 'MARYLAND', 'UTAH', 'VERMONT', 'ARIZONA',\n",
              "       'GUAM', 'IOWA', 'KENTUCKY', 'MINNESOTA', 'WASHINGTON',\n",
              "       'SOUTH CAROLINA', 'HAWAII', 'PUERTO RICO', 'VIRGIN ISLANDS',\n",
              "       'NEVADA', 'WYOMING', 'NORTHERN MARIANA ISLANDS', 'ALASKA'],\n",
              "      dtype=object)"
            ]
          },
          "metadata": {},
          "execution_count": 182
        }
      ]
    },
    {
      "cell_type": "code",
      "metadata": {
        "id": "736dsFg7buxs"
      },
      "source": [
        "NY = df[df['State']=='NEW YORK']\n",
        "\n",
        "NY.to_csv('Solo_NEW YORK.csv', index=False)\n",
        "w = df[df['State']=='WASHINGTON']\n",
        "w.to_csv('Solo_WASHINGTON.csv', index=False)"
      ],
      "execution_count": 183,
      "outputs": []
    },
    {
      "cell_type": "markdown",
      "metadata": {
        "id": "VcVrPyn_gDRY"
      },
      "source": [
        "Filtrando datos de la columna Nature por State\n",
        "\n"
      ]
    },
    {
      "cell_type": "code",
      "metadata": {
        "id": "_p-rys9Weu7j",
        "colab": {
          "base_uri": "https://localhost:8080/"
        },
        "outputId": "ec8459e6-4d41-42a2-abb1-cbd35a32f9b8"
      },
      "source": [
        "NY_f = df.loc[df.State == 'NEW YORK'].Nature\n",
        "NY_f"
      ],
      "execution_count": 184,
      "outputs": [
        {
          "output_type": "execute_result",
          "data": {
            "text/plain": [
              "0         111\n",
              "47        111\n",
              "49         10\n",
              "53       1510\n",
              "63       1311\n",
              "         ... \n",
              "21514     111\n",
              "21521    1530\n",
              "21522     111\n",
              "21542    1311\n",
              "21567    1311\n",
              "Name: Nature, Length: 1069, dtype: int64"
            ]
          },
          "metadata": {},
          "execution_count": 184
        }
      ]
    },
    {
      "cell_type": "code",
      "metadata": {
        "id": "gmXqS_zdfrt2",
        "colab": {
          "base_uri": "https://localhost:8080/"
        },
        "outputId": "d1e35f94-15d1-4c9a-eeaf-8bdab5242e00"
      },
      "source": [
        "W_f = df.loc[df.State == 'WASHINGTON'].Nature\n",
        "W_f"
      ],
      "execution_count": 185,
      "outputs": [
        {
          "output_type": "execute_result",
          "data": {
            "text/plain": [
              "1450     1831\n",
              "2153      111\n",
              "2797      111\n",
              "3339     1311\n",
              "3795     2731\n",
              "4027      194\n",
              "4149      134\n",
              "6566      111\n",
              "6944     1972\n",
              "9009     1311\n",
              "9037      111\n",
              "9149      111\n",
              "9241      111\n",
              "10156     111\n",
              "10197     111\n",
              "11605     160\n",
              "12149     111\n",
              "12555    1311\n",
              "12735     111\n",
              "12868     111\n",
              "13377     111\n",
              "14777     193\n",
              "15770    1972\n",
              "15778     111\n",
              "16522     111\n",
              "16564     111\n",
              "16800      10\n",
              "16954     143\n",
              "16979     143\n",
              "17104    1311\n",
              "17610     111\n",
              "17721     111\n",
              "18506     111\n",
              "19191     111\n",
              "19462    1973\n",
              "19547     111\n",
              "19708      10\n",
              "20668     160\n",
              "20981     111\n",
              "Name: Nature, dtype: int64"
            ]
          },
          "metadata": {},
          "execution_count": 185
        }
      ]
    },
    {
      "cell_type": "markdown",
      "metadata": {
        "id": "u9XmwjxX-uDN"
      },
      "source": [
        "##*Manipulación de datos nulos*\n",
        "\n",
        "Veremos los Datos Nulos y tomaremos acciones al respecto"
      ]
    },
    {
      "cell_type": "code",
      "metadata": {
        "id": "sU6s43tF-2mT",
        "colab": {
          "base_uri": "https://localhost:8080/",
          "height": 488
        },
        "outputId": "cba54de7-6290-41b0-ac0c-1de497ea5727"
      },
      "source": [
        "df.isnull()"
      ],
      "execution_count": 186,
      "outputs": [
        {
          "output_type": "execute_result",
          "data": {
            "text/html": [
              "<div>\n",
              "<style scoped>\n",
              "    .dataframe tbody tr th:only-of-type {\n",
              "        vertical-align: middle;\n",
              "    }\n",
              "\n",
              "    .dataframe tbody tr th {\n",
              "        vertical-align: top;\n",
              "    }\n",
              "\n",
              "    .dataframe thead th {\n",
              "        text-align: right;\n",
              "    }\n",
              "</style>\n",
              "<table border=\"1\" class=\"dataframe\">\n",
              "  <thead>\n",
              "    <tr style=\"text-align: right;\">\n",
              "      <th></th>\n",
              "      <th>ID</th>\n",
              "      <th>UPA</th>\n",
              "      <th>EventDate</th>\n",
              "      <th>Employer</th>\n",
              "      <th>Address1</th>\n",
              "      <th>Address2</th>\n",
              "      <th>City</th>\n",
              "      <th>State</th>\n",
              "      <th>Zip</th>\n",
              "      <th>Latitude</th>\n",
              "      <th>Longitude</th>\n",
              "      <th>Primary NAICS</th>\n",
              "      <th>Hospitalized</th>\n",
              "      <th>Amputation</th>\n",
              "      <th>Inspection</th>\n",
              "      <th>Final Narrative</th>\n",
              "      <th>Nature</th>\n",
              "      <th>NatureTitle</th>\n",
              "      <th>Part of Body</th>\n",
              "      <th>Part of Body Title</th>\n",
              "      <th>Event</th>\n",
              "      <th>EventTitle</th>\n",
              "      <th>Source</th>\n",
              "      <th>SourceTitle</th>\n",
              "      <th>Secondary Source</th>\n",
              "      <th>Secondary Source Title</th>\n",
              "    </tr>\n",
              "  </thead>\n",
              "  <tbody>\n",
              "    <tr>\n",
              "      <th>0</th>\n",
              "      <td>False</td>\n",
              "      <td>False</td>\n",
              "      <td>False</td>\n",
              "      <td>False</td>\n",
              "      <td>False</td>\n",
              "      <td>True</td>\n",
              "      <td>False</td>\n",
              "      <td>False</td>\n",
              "      <td>False</td>\n",
              "      <td>False</td>\n",
              "      <td>False</td>\n",
              "      <td>False</td>\n",
              "      <td>False</td>\n",
              "      <td>False</td>\n",
              "      <td>False</td>\n",
              "      <td>False</td>\n",
              "      <td>False</td>\n",
              "      <td>False</td>\n",
              "      <td>False</td>\n",
              "      <td>False</td>\n",
              "      <td>False</td>\n",
              "      <td>False</td>\n",
              "      <td>False</td>\n",
              "      <td>False</td>\n",
              "      <td>False</td>\n",
              "      <td>False</td>\n",
              "    </tr>\n",
              "    <tr>\n",
              "      <th>1</th>\n",
              "      <td>False</td>\n",
              "      <td>False</td>\n",
              "      <td>False</td>\n",
              "      <td>False</td>\n",
              "      <td>False</td>\n",
              "      <td>True</td>\n",
              "      <td>False</td>\n",
              "      <td>False</td>\n",
              "      <td>False</td>\n",
              "      <td>False</td>\n",
              "      <td>False</td>\n",
              "      <td>False</td>\n",
              "      <td>False</td>\n",
              "      <td>False</td>\n",
              "      <td>False</td>\n",
              "      <td>False</td>\n",
              "      <td>False</td>\n",
              "      <td>False</td>\n",
              "      <td>False</td>\n",
              "      <td>False</td>\n",
              "      <td>False</td>\n",
              "      <td>False</td>\n",
              "      <td>False</td>\n",
              "      <td>False</td>\n",
              "      <td>True</td>\n",
              "      <td>True</td>\n",
              "    </tr>\n",
              "    <tr>\n",
              "      <th>2</th>\n",
              "      <td>False</td>\n",
              "      <td>False</td>\n",
              "      <td>False</td>\n",
              "      <td>False</td>\n",
              "      <td>False</td>\n",
              "      <td>True</td>\n",
              "      <td>False</td>\n",
              "      <td>False</td>\n",
              "      <td>False</td>\n",
              "      <td>False</td>\n",
              "      <td>False</td>\n",
              "      <td>False</td>\n",
              "      <td>False</td>\n",
              "      <td>False</td>\n",
              "      <td>True</td>\n",
              "      <td>False</td>\n",
              "      <td>False</td>\n",
              "      <td>False</td>\n",
              "      <td>False</td>\n",
              "      <td>False</td>\n",
              "      <td>False</td>\n",
              "      <td>False</td>\n",
              "      <td>False</td>\n",
              "      <td>False</td>\n",
              "      <td>False</td>\n",
              "      <td>False</td>\n",
              "    </tr>\n",
              "    <tr>\n",
              "      <th>3</th>\n",
              "      <td>False</td>\n",
              "      <td>False</td>\n",
              "      <td>False</td>\n",
              "      <td>False</td>\n",
              "      <td>False</td>\n",
              "      <td>True</td>\n",
              "      <td>False</td>\n",
              "      <td>False</td>\n",
              "      <td>False</td>\n",
              "      <td>False</td>\n",
              "      <td>False</td>\n",
              "      <td>False</td>\n",
              "      <td>False</td>\n",
              "      <td>False</td>\n",
              "      <td>False</td>\n",
              "      <td>False</td>\n",
              "      <td>False</td>\n",
              "      <td>False</td>\n",
              "      <td>False</td>\n",
              "      <td>False</td>\n",
              "      <td>False</td>\n",
              "      <td>False</td>\n",
              "      <td>False</td>\n",
              "      <td>False</td>\n",
              "      <td>False</td>\n",
              "      <td>False</td>\n",
              "    </tr>\n",
              "    <tr>\n",
              "      <th>4</th>\n",
              "      <td>False</td>\n",
              "      <td>False</td>\n",
              "      <td>False</td>\n",
              "      <td>False</td>\n",
              "      <td>False</td>\n",
              "      <td>True</td>\n",
              "      <td>False</td>\n",
              "      <td>False</td>\n",
              "      <td>False</td>\n",
              "      <td>False</td>\n",
              "      <td>False</td>\n",
              "      <td>False</td>\n",
              "      <td>False</td>\n",
              "      <td>False</td>\n",
              "      <td>False</td>\n",
              "      <td>False</td>\n",
              "      <td>False</td>\n",
              "      <td>False</td>\n",
              "      <td>False</td>\n",
              "      <td>False</td>\n",
              "      <td>False</td>\n",
              "      <td>False</td>\n",
              "      <td>False</td>\n",
              "      <td>False</td>\n",
              "      <td>True</td>\n",
              "      <td>True</td>\n",
              "    </tr>\n",
              "    <tr>\n",
              "      <th>...</th>\n",
              "      <td>...</td>\n",
              "      <td>...</td>\n",
              "      <td>...</td>\n",
              "      <td>...</td>\n",
              "      <td>...</td>\n",
              "      <td>...</td>\n",
              "      <td>...</td>\n",
              "      <td>...</td>\n",
              "      <td>...</td>\n",
              "      <td>...</td>\n",
              "      <td>...</td>\n",
              "      <td>...</td>\n",
              "      <td>...</td>\n",
              "      <td>...</td>\n",
              "      <td>...</td>\n",
              "      <td>...</td>\n",
              "      <td>...</td>\n",
              "      <td>...</td>\n",
              "      <td>...</td>\n",
              "      <td>...</td>\n",
              "      <td>...</td>\n",
              "      <td>...</td>\n",
              "      <td>...</td>\n",
              "      <td>...</td>\n",
              "      <td>...</td>\n",
              "      <td>...</td>\n",
              "    </tr>\n",
              "    <tr>\n",
              "      <th>21573</th>\n",
              "      <td>False</td>\n",
              "      <td>False</td>\n",
              "      <td>False</td>\n",
              "      <td>False</td>\n",
              "      <td>False</td>\n",
              "      <td>True</td>\n",
              "      <td>False</td>\n",
              "      <td>False</td>\n",
              "      <td>False</td>\n",
              "      <td>False</td>\n",
              "      <td>False</td>\n",
              "      <td>False</td>\n",
              "      <td>False</td>\n",
              "      <td>False</td>\n",
              "      <td>False</td>\n",
              "      <td>False</td>\n",
              "      <td>False</td>\n",
              "      <td>False</td>\n",
              "      <td>False</td>\n",
              "      <td>False</td>\n",
              "      <td>False</td>\n",
              "      <td>False</td>\n",
              "      <td>False</td>\n",
              "      <td>False</td>\n",
              "      <td>True</td>\n",
              "      <td>True</td>\n",
              "    </tr>\n",
              "    <tr>\n",
              "      <th>21574</th>\n",
              "      <td>False</td>\n",
              "      <td>False</td>\n",
              "      <td>False</td>\n",
              "      <td>False</td>\n",
              "      <td>False</td>\n",
              "      <td>True</td>\n",
              "      <td>False</td>\n",
              "      <td>False</td>\n",
              "      <td>False</td>\n",
              "      <td>False</td>\n",
              "      <td>False</td>\n",
              "      <td>False</td>\n",
              "      <td>False</td>\n",
              "      <td>False</td>\n",
              "      <td>False</td>\n",
              "      <td>False</td>\n",
              "      <td>False</td>\n",
              "      <td>False</td>\n",
              "      <td>False</td>\n",
              "      <td>False</td>\n",
              "      <td>False</td>\n",
              "      <td>False</td>\n",
              "      <td>False</td>\n",
              "      <td>False</td>\n",
              "      <td>True</td>\n",
              "      <td>True</td>\n",
              "    </tr>\n",
              "    <tr>\n",
              "      <th>21575</th>\n",
              "      <td>False</td>\n",
              "      <td>False</td>\n",
              "      <td>False</td>\n",
              "      <td>False</td>\n",
              "      <td>False</td>\n",
              "      <td>True</td>\n",
              "      <td>False</td>\n",
              "      <td>False</td>\n",
              "      <td>False</td>\n",
              "      <td>False</td>\n",
              "      <td>False</td>\n",
              "      <td>False</td>\n",
              "      <td>False</td>\n",
              "      <td>False</td>\n",
              "      <td>True</td>\n",
              "      <td>False</td>\n",
              "      <td>False</td>\n",
              "      <td>False</td>\n",
              "      <td>False</td>\n",
              "      <td>False</td>\n",
              "      <td>False</td>\n",
              "      <td>False</td>\n",
              "      <td>False</td>\n",
              "      <td>False</td>\n",
              "      <td>True</td>\n",
              "      <td>True</td>\n",
              "    </tr>\n",
              "    <tr>\n",
              "      <th>21576</th>\n",
              "      <td>False</td>\n",
              "      <td>False</td>\n",
              "      <td>False</td>\n",
              "      <td>False</td>\n",
              "      <td>False</td>\n",
              "      <td>True</td>\n",
              "      <td>False</td>\n",
              "      <td>False</td>\n",
              "      <td>False</td>\n",
              "      <td>False</td>\n",
              "      <td>False</td>\n",
              "      <td>False</td>\n",
              "      <td>False</td>\n",
              "      <td>False</td>\n",
              "      <td>False</td>\n",
              "      <td>False</td>\n",
              "      <td>False</td>\n",
              "      <td>False</td>\n",
              "      <td>False</td>\n",
              "      <td>False</td>\n",
              "      <td>False</td>\n",
              "      <td>False</td>\n",
              "      <td>False</td>\n",
              "      <td>False</td>\n",
              "      <td>True</td>\n",
              "      <td>True</td>\n",
              "    </tr>\n",
              "    <tr>\n",
              "      <th>21577</th>\n",
              "      <td>False</td>\n",
              "      <td>False</td>\n",
              "      <td>False</td>\n",
              "      <td>False</td>\n",
              "      <td>False</td>\n",
              "      <td>True</td>\n",
              "      <td>False</td>\n",
              "      <td>False</td>\n",
              "      <td>False</td>\n",
              "      <td>False</td>\n",
              "      <td>False</td>\n",
              "      <td>False</td>\n",
              "      <td>False</td>\n",
              "      <td>False</td>\n",
              "      <td>True</td>\n",
              "      <td>False</td>\n",
              "      <td>False</td>\n",
              "      <td>False</td>\n",
              "      <td>False</td>\n",
              "      <td>False</td>\n",
              "      <td>False</td>\n",
              "      <td>False</td>\n",
              "      <td>False</td>\n",
              "      <td>False</td>\n",
              "      <td>True</td>\n",
              "      <td>True</td>\n",
              "    </tr>\n",
              "  </tbody>\n",
              "</table>\n",
              "<p>21578 rows × 26 columns</p>\n",
              "</div>"
            ],
            "text/plain": [
              "          ID    UPA  ...  Secondary Source  Secondary Source Title\n",
              "0      False  False  ...             False                   False\n",
              "1      False  False  ...              True                    True\n",
              "2      False  False  ...             False                   False\n",
              "3      False  False  ...             False                   False\n",
              "4      False  False  ...              True                    True\n",
              "...      ...    ...  ...               ...                     ...\n",
              "21573  False  False  ...              True                    True\n",
              "21574  False  False  ...              True                    True\n",
              "21575  False  False  ...              True                    True\n",
              "21576  False  False  ...              True                    True\n",
              "21577  False  False  ...              True                    True\n",
              "\n",
              "[21578 rows x 26 columns]"
            ]
          },
          "metadata": {},
          "execution_count": 186
        }
      ]
    },
    {
      "cell_type": "code",
      "metadata": {
        "id": "3lazz6JH_Tbl",
        "colab": {
          "base_uri": "https://localhost:8080/"
        },
        "outputId": "6d408352-d268-486a-f3d6-38da6e56a793"
      },
      "source": [
        "\n",
        "df.isnull().any()"
      ],
      "execution_count": 187,
      "outputs": [
        {
          "output_type": "execute_result",
          "data": {
            "text/plain": [
              "ID                        False\n",
              "UPA                       False\n",
              "EventDate                 False\n",
              "Employer                  False\n",
              "Address1                   True\n",
              "Address2                   True\n",
              "City                       True\n",
              "State                     False\n",
              "Zip                        True\n",
              "Latitude                   True\n",
              "Longitude                  True\n",
              "Primary NAICS              True\n",
              "Hospitalized              False\n",
              "Amputation                 True\n",
              "Inspection                 True\n",
              "Final Narrative           False\n",
              "Nature                    False\n",
              "NatureTitle               False\n",
              "Part of Body              False\n",
              "Part of Body Title        False\n",
              "Event                     False\n",
              "EventTitle                False\n",
              "Source                    False\n",
              "SourceTitle               False\n",
              "Secondary Source           True\n",
              "Secondary Source Title     True\n",
              "dtype: bool"
            ]
          },
          "metadata": {},
          "execution_count": 187
        }
      ]
    },
    {
      "cell_type": "code",
      "metadata": {
        "id": "UU0c-7hY_css",
        "colab": {
          "base_uri": "https://localhost:8080/"
        },
        "outputId": "d43320ad-16c0-414f-9415-70ec95b964aa"
      },
      "source": [
        "df.isnull().sum()"
      ],
      "execution_count": 188,
      "outputs": [
        {
          "output_type": "execute_result",
          "data": {
            "text/plain": [
              "ID                            0\n",
              "UPA                           0\n",
              "EventDate                     0\n",
              "Employer                      0\n",
              "Address1                     10\n",
              "Address2                  19717\n",
              "City                          9\n",
              "State                         0\n",
              "Zip                          11\n",
              "Latitude                     91\n",
              "Longitude                    91\n",
              "Primary NAICS                 2\n",
              "Hospitalized                  0\n",
              "Amputation                    2\n",
              "Inspection                13756\n",
              "Final Narrative               0\n",
              "Nature                        0\n",
              "NatureTitle                   0\n",
              "Part of Body                  0\n",
              "Part of Body Title            0\n",
              "Event                         0\n",
              "EventTitle                    0\n",
              "Source                        0\n",
              "SourceTitle                   0\n",
              "Secondary Source          15766\n",
              "Secondary Source Title    15766\n",
              "dtype: int64"
            ]
          },
          "metadata": {},
          "execution_count": 188
        }
      ]
    },
    {
      "cell_type": "markdown",
      "metadata": {
        "id": "4bhRQSnd_juD"
      },
      "source": [
        "Para limpiar los datos nulos hay que trabajarlos en un data frame diferente"
      ]
    },
    {
      "cell_type": "code",
      "metadata": {
        "id": "ach4JVHb_q28",
        "colab": {
          "base_uri": "https://localhost:8080/",
          "height": 1000
        },
        "outputId": "e63eb229-e891-4943-90eb-4b5fd4364bd9"
      },
      "source": [
        "data_frame_0 = df.fillna(0) #Con esto llenamos todas las celdas con datos nulos con un 0\n",
        "data_frame_0.to_csv('data_frame_0.csv', index=False)\n",
        "data_frame_0"
      ],
      "execution_count": 189,
      "outputs": [
        {
          "output_type": "execute_result",
          "data": {
            "text/html": [
              "<div>\n",
              "<style scoped>\n",
              "    .dataframe tbody tr th:only-of-type {\n",
              "        vertical-align: middle;\n",
              "    }\n",
              "\n",
              "    .dataframe tbody tr th {\n",
              "        vertical-align: top;\n",
              "    }\n",
              "\n",
              "    .dataframe thead th {\n",
              "        text-align: right;\n",
              "    }\n",
              "</style>\n",
              "<table border=\"1\" class=\"dataframe\">\n",
              "  <thead>\n",
              "    <tr style=\"text-align: right;\">\n",
              "      <th></th>\n",
              "      <th>ID</th>\n",
              "      <th>UPA</th>\n",
              "      <th>EventDate</th>\n",
              "      <th>Employer</th>\n",
              "      <th>Address1</th>\n",
              "      <th>Address2</th>\n",
              "      <th>City</th>\n",
              "      <th>State</th>\n",
              "      <th>Zip</th>\n",
              "      <th>Latitude</th>\n",
              "      <th>Longitude</th>\n",
              "      <th>Primary NAICS</th>\n",
              "      <th>Hospitalized</th>\n",
              "      <th>Amputation</th>\n",
              "      <th>Inspection</th>\n",
              "      <th>Final Narrative</th>\n",
              "      <th>Nature</th>\n",
              "      <th>NatureTitle</th>\n",
              "      <th>Part of Body</th>\n",
              "      <th>Part of Body Title</th>\n",
              "      <th>Event</th>\n",
              "      <th>EventTitle</th>\n",
              "      <th>Source</th>\n",
              "      <th>SourceTitle</th>\n",
              "      <th>Secondary Source</th>\n",
              "      <th>Secondary Source Title</th>\n",
              "    </tr>\n",
              "  </thead>\n",
              "  <tbody>\n",
              "    <tr>\n",
              "      <th>0</th>\n",
              "      <td>2015010015</td>\n",
              "      <td>931176</td>\n",
              "      <td>1/1/2015</td>\n",
              "      <td>FCI Otisville Federal Correctional Institution</td>\n",
              "      <td>Two Mile Drive</td>\n",
              "      <td>0</td>\n",
              "      <td>OTISVILLE</td>\n",
              "      <td>NEW YORK</td>\n",
              "      <td>10963.0</td>\n",
              "      <td>41.46</td>\n",
              "      <td>-74.53</td>\n",
              "      <td>922140</td>\n",
              "      <td>1</td>\n",
              "      <td>0.0</td>\n",
              "      <td>1018519.0</td>\n",
              "      <td>Three correctional facility guards were escort...</td>\n",
              "      <td>111</td>\n",
              "      <td>Fractures</td>\n",
              "      <td>513</td>\n",
              "      <td>Lower leg(s)</td>\n",
              "      <td>1214</td>\n",
              "      <td>Injured by physical contact with person while ...</td>\n",
              "      <td>5721</td>\n",
              "      <td>Co-worker</td>\n",
              "      <td>5772.0</td>\n",
              "      <td>Inmate or detainee in custody</td>\n",
              "    </tr>\n",
              "    <tr>\n",
              "      <th>1</th>\n",
              "      <td>2015010016</td>\n",
              "      <td>930267</td>\n",
              "      <td>1/1/2015</td>\n",
              "      <td>Kalahari Manufacturing LLC</td>\n",
              "      <td>171 Progress Drive</td>\n",
              "      <td>0</td>\n",
              "      <td>LAKE DELTON</td>\n",
              "      <td>WISCONSIN</td>\n",
              "      <td>53940.0</td>\n",
              "      <td>43.59</td>\n",
              "      <td>-89.79</td>\n",
              "      <td>339999</td>\n",
              "      <td>1</td>\n",
              "      <td>0.0</td>\n",
              "      <td>1016582.0</td>\n",
              "      <td>Employee in the Machine Shop received second d...</td>\n",
              "      <td>1522</td>\n",
              "      <td>Second degree heat (thermal) burns</td>\n",
              "      <td>519</td>\n",
              "      <td>Leg(s), n.e.c.</td>\n",
              "      <td>317</td>\n",
              "      <td>Ignition of vapors, gases, or liquids</td>\n",
              "      <td>7261</td>\n",
              "      <td>Welding, cutting, and blow torches</td>\n",
              "      <td>0.0</td>\n",
              "      <td>0</td>\n",
              "    </tr>\n",
              "    <tr>\n",
              "      <th>2</th>\n",
              "      <td>2015010018</td>\n",
              "      <td>929823</td>\n",
              "      <td>1/1/2015</td>\n",
              "      <td>Schneider National Bulk Carrier</td>\n",
              "      <td>420 CORAOPOLIS ROAD</td>\n",
              "      <td>0</td>\n",
              "      <td>CORAOPOLIS</td>\n",
              "      <td>PENNSYLVANIA</td>\n",
              "      <td>15108.0</td>\n",
              "      <td>40.49</td>\n",
              "      <td>-80.11</td>\n",
              "      <td>484121</td>\n",
              "      <td>1</td>\n",
              "      <td>0.0</td>\n",
              "      <td>0.0</td>\n",
              "      <td>A truck driver fell approximately 4 feet while...</td>\n",
              "      <td>10</td>\n",
              "      <td>Traumatic injuries and disorders, unspecified</td>\n",
              "      <td>9999</td>\n",
              "      <td>Nonclassifiable</td>\n",
              "      <td>4331</td>\n",
              "      <td>Other fall to lower level less than 6 feet</td>\n",
              "      <td>8421</td>\n",
              "      <td>Semi, tractor-trailer, tanker truck</td>\n",
              "      <td>741.0</td>\n",
              "      <td>Ladders-fixed</td>\n",
              "    </tr>\n",
              "    <tr>\n",
              "      <th>3</th>\n",
              "      <td>2015010019</td>\n",
              "      <td>929711</td>\n",
              "      <td>1/1/2015</td>\n",
              "      <td>PEPSI BOTTLING GROUP INC.</td>\n",
              "      <td>4541 HOUSTON AVE.</td>\n",
              "      <td>0</td>\n",
              "      <td>MACON</td>\n",
              "      <td>GEORGIA</td>\n",
              "      <td>31206.0</td>\n",
              "      <td>32.77</td>\n",
              "      <td>-83.65</td>\n",
              "      <td>424490</td>\n",
              "      <td>1</td>\n",
              "      <td>0.0</td>\n",
              "      <td>1017194.0</td>\n",
              "      <td>An employee's leg was pinned between a truck a...</td>\n",
              "      <td>1972</td>\n",
              "      <td>Soreness, pain, hurt-nonspecified injury</td>\n",
              "      <td>510</td>\n",
              "      <td>Leg(s), unspecified</td>\n",
              "      <td>640</td>\n",
              "      <td>Caught in or compressed by equipment or object...</td>\n",
              "      <td>8623</td>\n",
              "      <td>Pallet jack-powered</td>\n",
              "      <td>8420.0</td>\n",
              "      <td>Truck-motorized freight hauling and utility, u...</td>\n",
              "    </tr>\n",
              "    <tr>\n",
              "      <th>4</th>\n",
              "      <td>2015010020</td>\n",
              "      <td>929642</td>\n",
              "      <td>1/1/2015</td>\n",
              "      <td>North American Pipe Corporation</td>\n",
              "      <td>210 South Arch Street</td>\n",
              "      <td>0</td>\n",
              "      <td>JANESVILLE</td>\n",
              "      <td>WISCONSIN</td>\n",
              "      <td>53545.0</td>\n",
              "      <td>42.67</td>\n",
              "      <td>-89.04</td>\n",
              "      <td>326122</td>\n",
              "      <td>1</td>\n",
              "      <td>0.0</td>\n",
              "      <td>1016344.0</td>\n",
              "      <td>An employee working on the Line 6 Auto-Beller ...</td>\n",
              "      <td>111</td>\n",
              "      <td>Fractures</td>\n",
              "      <td>4429</td>\n",
              "      <td>Finger(s), fingernail(s), n.e.c.</td>\n",
              "      <td>6411</td>\n",
              "      <td>Caught in running equipment or machinery durin...</td>\n",
              "      <td>350</td>\n",
              "      <td>Metal, woodworking, and special material machi...</td>\n",
              "      <td>0.0</td>\n",
              "      <td>0</td>\n",
              "    </tr>\n",
              "    <tr>\n",
              "      <th>...</th>\n",
              "      <td>...</td>\n",
              "      <td>...</td>\n",
              "      <td>...</td>\n",
              "      <td>...</td>\n",
              "      <td>...</td>\n",
              "      <td>...</td>\n",
              "      <td>...</td>\n",
              "      <td>...</td>\n",
              "      <td>...</td>\n",
              "      <td>...</td>\n",
              "      <td>...</td>\n",
              "      <td>...</td>\n",
              "      <td>...</td>\n",
              "      <td>...</td>\n",
              "      <td>...</td>\n",
              "      <td>...</td>\n",
              "      <td>...</td>\n",
              "      <td>...</td>\n",
              "      <td>...</td>\n",
              "      <td>...</td>\n",
              "      <td>...</td>\n",
              "      <td>...</td>\n",
              "      <td>...</td>\n",
              "      <td>...</td>\n",
              "      <td>...</td>\n",
              "      <td>...</td>\n",
              "    </tr>\n",
              "    <tr>\n",
              "      <th>21573</th>\n",
              "      <td>2017021908</td>\n",
              "      <td>1187496</td>\n",
              "      <td>28/2/2017</td>\n",
              "      <td>JPN Masonry LLC</td>\n",
              "      <td>806 Channing Place</td>\n",
              "      <td>0</td>\n",
              "      <td>WASHINGTON</td>\n",
              "      <td>DISTRICT OF COLUMBIA</td>\n",
              "      <td>20008.0</td>\n",
              "      <td>38.92</td>\n",
              "      <td>-76.99</td>\n",
              "      <td>238140</td>\n",
              "      <td>1</td>\n",
              "      <td>0.0</td>\n",
              "      <td>1215482.0</td>\n",
              "      <td>An employee fell from the third scaffold level...</td>\n",
              "      <td>1834</td>\n",
              "      <td>Fractures and dislocations</td>\n",
              "      <td>4420</td>\n",
              "      <td>Finger(s), fingernail(s), unspecified</td>\n",
              "      <td>4320</td>\n",
              "      <td>Fall through surface or existing opening, unsp...</td>\n",
              "      <td>6340</td>\n",
              "      <td>Scaffolds-staging, unspecified</td>\n",
              "      <td>0.0</td>\n",
              "      <td>0</td>\n",
              "    </tr>\n",
              "    <tr>\n",
              "      <th>21574</th>\n",
              "      <td>2017021909</td>\n",
              "      <td>1187261</td>\n",
              "      <td>28/2/2017</td>\n",
              "      <td>CR MEYER</td>\n",
              "      <td>1815 Marathon Ave.</td>\n",
              "      <td>0</td>\n",
              "      <td>NEENAH</td>\n",
              "      <td>WISCONSIN</td>\n",
              "      <td>54956.0</td>\n",
              "      <td>44.16</td>\n",
              "      <td>-88.47</td>\n",
              "      <td>236220</td>\n",
              "      <td>1</td>\n",
              "      <td>0.0</td>\n",
              "      <td>1214207.0</td>\n",
              "      <td>An employee fell approximately 10 feet from a ...</td>\n",
              "      <td>111</td>\n",
              "      <td>Fractures</td>\n",
              "      <td>899</td>\n",
              "      <td>Multiple body parts, n.e.c.</td>\n",
              "      <td>4332</td>\n",
              "      <td>Other fall to lower level 6 to 10 feet</td>\n",
              "      <td>6395</td>\n",
              "      <td>Porches, balconies, decks, patios</td>\n",
              "      <td>0.0</td>\n",
              "      <td>0</td>\n",
              "    </tr>\n",
              "    <tr>\n",
              "      <th>21575</th>\n",
              "      <td>2017021910</td>\n",
              "      <td>1187351</td>\n",
              "      <td>28/2/2017</td>\n",
              "      <td>PHOENIX HOME CARE</td>\n",
              "      <td>353 River Bluff Drive</td>\n",
              "      <td>0</td>\n",
              "      <td>BRANSON</td>\n",
              "      <td>MISSOURI</td>\n",
              "      <td>65616.0</td>\n",
              "      <td>36.61</td>\n",
              "      <td>-93.27</td>\n",
              "      <td>621610</td>\n",
              "      <td>1</td>\n",
              "      <td>0.0</td>\n",
              "      <td>0.0</td>\n",
              "      <td>An employee was walking down a flight of three...</td>\n",
              "      <td>111</td>\n",
              "      <td>Fractures</td>\n",
              "      <td>513</td>\n",
              "      <td>Lower leg(s)</td>\n",
              "      <td>4331</td>\n",
              "      <td>Other fall to lower level less than 6 feet</td>\n",
              "      <td>6611</td>\n",
              "      <td>Stairs, steps-indoors</td>\n",
              "      <td>0.0</td>\n",
              "      <td>0</td>\n",
              "    </tr>\n",
              "    <tr>\n",
              "      <th>21576</th>\n",
              "      <td>2017021911</td>\n",
              "      <td>1187282</td>\n",
              "      <td>28/2/2017</td>\n",
              "      <td>Cross Insulation, Inc.</td>\n",
              "      <td>West Fargo New Construction</td>\n",
              "      <td>0</td>\n",
              "      <td>WEST FARGO</td>\n",
              "      <td>NORTH DAKOTA</td>\n",
              "      <td>58078.0</td>\n",
              "      <td>46.87</td>\n",
              "      <td>-96.93</td>\n",
              "      <td>238310</td>\n",
              "      <td>1</td>\n",
              "      <td>0.0</td>\n",
              "      <td>1216894.0</td>\n",
              "      <td>An employee was hospitalized for carbon monoxi...</td>\n",
              "      <td>1961</td>\n",
              "      <td>Poisoning, including poisoning-related asphyxia</td>\n",
              "      <td>6</td>\n",
              "      <td>BODY SYSTEMS</td>\n",
              "      <td>5521</td>\n",
              "      <td>Inhalation of harmful substance-single episode</td>\n",
              "      <td>1741</td>\n",
              "      <td>Carbon monoxide</td>\n",
              "      <td>0.0</td>\n",
              "      <td>0</td>\n",
              "    </tr>\n",
              "    <tr>\n",
              "      <th>21577</th>\n",
              "      <td>2017021912</td>\n",
              "      <td>1187132</td>\n",
              "      <td>28/2/2017</td>\n",
              "      <td>JV MANUFACTURING, INC.</td>\n",
              "      <td>701 Butterfield Coach Road</td>\n",
              "      <td>0</td>\n",
              "      <td>SPRINGDALE</td>\n",
              "      <td>ARKANSAS</td>\n",
              "      <td>72765.0</td>\n",
              "      <td>36.17</td>\n",
              "      <td>-94.09</td>\n",
              "      <td>333319</td>\n",
              "      <td>1</td>\n",
              "      <td>0.0</td>\n",
              "      <td>0.0</td>\n",
              "      <td>An employee was cutting the strapping on a bun...</td>\n",
              "      <td>111</td>\n",
              "      <td>Fractures</td>\n",
              "      <td>510</td>\n",
              "      <td>Leg(s), unspecified</td>\n",
              "      <td>6239</td>\n",
              "      <td>Struck by falling object or equipment, n.e.c.</td>\n",
              "      <td>2131</td>\n",
              "      <td>Bundles, bales</td>\n",
              "      <td>0.0</td>\n",
              "      <td>0</td>\n",
              "    </tr>\n",
              "  </tbody>\n",
              "</table>\n",
              "<p>21578 rows × 26 columns</p>\n",
              "</div>"
            ],
            "text/plain": [
              "               ID  ...                             Secondary Source Title\n",
              "0      2015010015  ...                      Inmate or detainee in custody\n",
              "1      2015010016  ...                                                  0\n",
              "2      2015010018  ...                                      Ladders-fixed\n",
              "3      2015010019  ...  Truck-motorized freight hauling and utility, u...\n",
              "4      2015010020  ...                                                  0\n",
              "...           ...  ...                                                ...\n",
              "21573  2017021908  ...                                                  0\n",
              "21574  2017021909  ...                                                  0\n",
              "21575  2017021910  ...                                                  0\n",
              "21576  2017021911  ...                                                  0\n",
              "21577  2017021912  ...                                                  0\n",
              "\n",
              "[21578 rows x 26 columns]"
            ]
          },
          "metadata": {},
          "execution_count": 189
        }
      ]
    },
    {
      "cell_type": "code",
      "metadata": {
        "id": "8SDUw8xS_-oE"
      },
      "source": [
        "df_drop = df.dropna() # Y con esta instrucción borramos las filas que contienen datos nulos\n",
        "df_drop.to_csv('df_drop.csv', index=False)"
      ],
      "execution_count": 190,
      "outputs": []
    },
    {
      "cell_type": "markdown",
      "metadata": {
        "id": "2or_zU6n0IV7"
      },
      "source": [
        "##*Nuevo archivo con la base de datos editada*"
      ]
    },
    {
      "cell_type": "code",
      "metadata": {
        "id": "xTB19wzoA5x-"
      },
      "source": [
        "df_drop_column = df.dropna(axis=1)#Para finalizar, con esta instrucción eliminamos las columnas con datos nulos\n",
        "df_drop_column.to_csv('df_drop_column.csv', index=False)"
      ],
      "execution_count": 191,
      "outputs": []
    },
    {
      "cell_type": "markdown",
      "metadata": {
        "id": "ZhNv_Py7M-x-"
      },
      "source": [
        "# **Estadística básica de los datos**"
      ]
    },
    {
      "cell_type": "code",
      "metadata": {
        "id": "jJwyG6ZlWJn-"
      },
      "source": [
        "#Identificando correlación de las columnas\n",
        "correlacion=df.corr()"
      ],
      "execution_count": 112,
      "outputs": []
    },
    {
      "cell_type": "code",
      "metadata": {
        "colab": {
          "base_uri": "https://localhost:8080/",
          "height": 1000
        },
        "id": "TN-58rCISkcb",
        "outputId": "18cbaa38-a6ca-4c65-dba9-9ffc3aa9d4d6"
      },
      "source": [
        "import seaborn as sns\n",
        "import matplotlib.pyplot as plt\n",
        "f,ax=plt.subplots(figsize = (18,18))\n",
        "sns.heatmap(df.corr(),annot= True,linewidths=0.5,fmt = \".1f\",ax=ax)\n",
        "plt.xticks(rotation=90)\n",
        "plt.yticks(rotation=0)\n",
        "plt.title('Mapa de correlación')\n",
        "plt.savefig('graph.png')\n",
        "plt.show()"
      ],
      "execution_count": 113,
      "outputs": [
        {
          "output_type": "display_data",
          "data": {
            "image/png": "[encoded data removed]",
            "text/plain": [
              "<Figure size 1296x1296 with 2 Axes>"
            ]
          },
          "metadata": {
            "needs_background": "light"
          }
        }
      ]
    },
    {
      "cell_type": "markdown",
      "metadata": {
        "id": "mDvLnOi6YesV"
      },
      "source": [
        "Para fines de análisis, nos enfocaremos en si el paciente fue hospitalizado o no para saber la gravedad del accidente; por lo que identifiicamos que, debido a la baja correlación que tienen algunas columnas pueden ser eliminadas sin problema."
      ]
    },
    {
      "cell_type": "code",
      "metadata": {
        "id": "MINdY81JKdi8"
      },
      "source": [
        "datos= data_frame_0.drop(['ID', 'UPA', 'Zip', 'Latitude', 'Longitude', 'Address1', 'Address2', 'City', 'Primary NAICS', 'Secondary Source',\t'Secondary Source Title'], axis=1)\n"
      ],
      "execution_count": 114,
      "outputs": []
    },
    {
      "cell_type": "code",
      "metadata": {
        "colab": {
          "base_uri": "https://localhost:8080/"
        },
        "id": "u4thAGIpNo5G",
        "outputId": "eeace9f2-c560-428f-8911-8ea3482a907e"
      },
      "source": [
        "datos['State'].describe()\n"
      ],
      "execution_count": 115,
      "outputs": [
        {
          "output_type": "execute_result",
          "data": {
            "text/plain": [
              "count     21578\n",
              "unique       56\n",
              "top       TEXAS\n",
              "freq       3481\n",
              "Name: State, dtype: object"
            ]
          },
          "metadata": {},
          "execution_count": 115
        }
      ]
    },
    {
      "cell_type": "code",
      "metadata": {
        "colab": {
          "base_uri": "https://localhost:8080/"
        },
        "id": "LrTHigHIG2En",
        "outputId": "beb845c9-cfb2-45b4-8b6f-1c5da740021b"
      },
      "source": [
        "datos.shape\n",
        "3481/21578"
      ],
      "execution_count": 193,
      "outputs": [
        {
          "output_type": "execute_result",
          "data": {
            "text/plain": [
              "0.16132171656316618"
            ]
          },
          "metadata": {},
          "execution_count": 193
        }
      ]
    },
    {
      "cell_type": "code",
      "metadata": {
        "colab": {
          "base_uri": "https://localhost:8080/"
        },
        "id": "0PtNpLIZA8tn",
        "outputId": "b53119a3-0f4b-4653-f2d3-288a4ed334cd"
      },
      "source": [
        "datos['Hospitalized'].describe()"
      ],
      "execution_count": 116,
      "outputs": [
        {
          "output_type": "execute_result",
          "data": {
            "text/plain": [
              "count    21578.000000\n",
              "mean         0.807999\n",
              "std          0.412055\n",
              "min          0.000000\n",
              "25%          1.000000\n",
              "50%          1.000000\n",
              "75%          1.000000\n",
              "max          3.000000\n",
              "Name: Hospitalized, dtype: float64"
            ]
          },
          "metadata": {},
          "execution_count": 116
        }
      ]
    },
    {
      "cell_type": "code",
      "metadata": {
        "colab": {
          "base_uri": "https://localhost:8080/"
        },
        "id": "FxLCbf_FRtNG",
        "outputId": "219d395d-5285-47ef-a291-0dd56c25ba7c"
      },
      "source": [
        "datos['EventDate'].describe()"
      ],
      "execution_count": 117,
      "outputs": [
        {
          "output_type": "execute_result",
          "data": {
            "text/plain": [
              "count        21578\n",
              "unique         790\n",
              "top       2/9/2015\n",
              "freq            56\n",
              "Name: EventDate, dtype: object"
            ]
          },
          "metadata": {},
          "execution_count": 117
        }
      ]
    },
    {
      "cell_type": "markdown",
      "metadata": {
        "id": "asOoz4i25UK2"
      },
      "source": [
        "#**Gráficas**\n",
        "\n",
        "En este apartado se analizarán distintos gráficos, los cuales incluirán una breve conclusión de los datos obtenidos."
      ]
    },
    {
      "cell_type": "code",
      "metadata": {
        "colab": {
          "base_uri": "https://localhost:8080/",
          "height": 536
        },
        "id": "EXEAWFERQax8",
        "outputId": "f71f45e4-8e13-42af-aad8-a12113f91e83"
      },
      "source": [
        "from matplotlib import pyplot\n",
        "import matplotlib.pyplot as plt\n",
        "from pylab import *\n",
        "\n",
        "plt.figure(figsize=(15,5.5))   #(ancho,altura) de la gráfica\n",
        "datos['State'].value_counts().plot.bar(color='orange')\n",
        "plt.title('Accidentes por estados')   #Nombre de la gráfica\n",
        "xlabel('Estados')\n",
        "ylabel('Frecuencia')"
      ],
      "execution_count": 205,
      "outputs": [
        {
          "output_type": "execute_result",
          "data": {
            "text/plain": [
              "Text(0, 0.5, 'Frecuencia')"
            ]
          },
          "metadata": {},
          "execution_count": 205
        },
        {
          "output_type": "display_data",
          "data": {
            "image/png": "[encoded data removed]",
            "text/plain": [
              "<Figure size 1080x396 with 1 Axes>"
            ]
          },
          "metadata": {
            "needs_background": "light"
          }
        }
      ]
    },
    {
      "cell_type": "markdown",
      "metadata": {
        "id": "UtIGJ1Ev4qIZ"
      },
      "source": [
        "En  la gráfica anterior podemos observar la frecuencia de accidentes por estado. Esto es importante ya que el precio de los seguros de accidentes varía por estado según la frecuencia de lesiones."
      ]
    },
    {
      "cell_type": "code",
      "metadata": {
        "colab": {
          "base_uri": "https://localhost:8080/",
          "height": 395
        },
        "id": "1r9L_q6I4rEo",
        "outputId": "2a8500a4-678f-41b5-8b33-98976acdd80b"
      },
      "source": [
        "plt.figure(figsize=(15,5.5))  \n",
        "datos['EventDate'].value_counts().sort_index().plot.line(color='purple')\n",
        "plt.title('Accidentes por día')\n",
        "xlabel('Días')\n",
        "ylabel('Frecuencia')"
      ],
      "execution_count": 120,
      "outputs": [
        {
          "output_type": "execute_result",
          "data": {
            "text/plain": [
              "Text(0, 0.5, 'Frecuencia')"
            ]
          },
          "metadata": {},
          "execution_count": 120
        },
        {
          "output_type": "display_data",
          "data": {
            "image/png": "[encoded data removed]",
            "text/plain": [
              "<Figure size 1080x396 with 1 Axes>"
            ]
          },
          "metadata": {
            "needs_background": "light"
          }
        }
      ]
    },
    {
      "cell_type": "markdown",
      "metadata": {
        "id": "4CR41QXO4qPC"
      },
      "source": [
        "Nuestra base de datos acumula eventos desde el 1 de enero de 2015 hasta el 28 de febrero de 2018. En la gráfica se puede apreciar que no tiene tendencia y probablemente una varianza estacionaria.\n",
        "En nuestro caso, una aseguradora puede tener una idea del número de accidentes que se darán en el futuro. Esto les ayudará a calcular el monto de la reserva tecnica que tienen que tener para solventar los gastos por accidentes."
      ]
    },
    {
      "cell_type": "code",
      "metadata": {
        "colab": {
          "base_uri": "https://localhost:8080/",
          "height": 668
        },
        "id": "0O0SxRMe42z4",
        "outputId": "c95402a0-0460-4d56-ed88-dbef493448ba"
      },
      "source": [
        "plt.figure(figsize=(10,5.5))\n",
        "datos['NatureTitle'].value_counts().head(15).plot.bar(color='darkred')\n",
        "plt.title('Frecuencia de accidentes')\n",
        "xlabel('Accidente')\n",
        "ylabel('Frecuencia')"
      ],
      "execution_count": 66,
      "outputs": [
        {
          "output_type": "execute_result",
          "data": {
            "text/plain": [
              "Text(0, 0.5, 'Frecuencia')"
            ]
          },
          "metadata": {},
          "execution_count": 66
        },
        {
          "output_type": "display_data",
          "data": {
            "image/png": "[encoded data removed]",
            "text/plain": [
              "<Figure size 720x396 with 1 Axes>"
            ]
          },
          "metadata": {
            "needs_background": "light"
          }
        }
      ]
    },
    {
      "cell_type": "markdown",
      "metadata": {
        "id": "8hBRSZTg43G9"
      },
      "source": [
        "En esta gráfica se observa el top 10 de los accidentes más frecuentes registrados en Estados Unidos.\n",
        "Si tomar en cuenta el costo promedio que se tiene al presentar cada accidente, nos ayudará de igual manera en el cálculo de la reserva técnica."
      ]
    },
    {
      "cell_type": "code",
      "metadata": {
        "colab": {
          "base_uri": "https://localhost:8080/",
          "height": 660
        },
        "id": "jj_tQBno5FhJ",
        "outputId": "07a653d9-1d9f-4245-9ec7-93411c8d6eed"
      },
      "source": [
        "plt.figure(figsize=(10,5.5))\n",
        "datos['Part of Body Title'].value_counts().head(15).plot.bar(color='orange')\n",
        "plt.title('Frecuencia de lesion en el cuerpo')\n",
        "xlabel('Parte del cuerpo')\n",
        "ylabel('Frecuencia')"
      ],
      "execution_count": 67,
      "outputs": [
        {
          "output_type": "execute_result",
          "data": {
            "text/plain": [
              "Text(0, 0.5, 'Frecuencia')"
            ]
          },
          "metadata": {},
          "execution_count": 67
        },
        {
          "output_type": "display_data",
          "data": {
            "image/png": "[encoded data removed]",
            "text/plain": [
              "<Figure size 720x396 with 1 Axes>"
            ]
          },
          "metadata": {
            "needs_background": "light"
          }
        }
      ]
    },
    {
      "cell_type": "markdown",
      "metadata": {
        "id": "PRNTlIKW5FrO"
      },
      "source": [
        "De igual manera se muestra el top 10 de partes del cuerpo que más se lesionan."
      ]
    },
    {
      "cell_type": "code",
      "metadata": {
        "colab": {
          "base_uri": "https://localhost:8080/",
          "height": 395
        },
        "id": "V1UonAlx5GnE",
        "outputId": "ac82813c-c205-4602-e2a8-6923f4005b17"
      },
      "source": [
        "plt.figure(figsize=(5.5,5.5))\n",
        "datos['Hospitalized'].plot.hist(color='lightgreen')\n",
        "plt.title('Frecuencia de hospitalizaciones')\n",
        "xlabel('Hospitalizaciones por persona')\n",
        "ylabel('Frecuencia')"
      ],
      "execution_count": 68,
      "outputs": [
        {
          "output_type": "execute_result",
          "data": {
            "text/plain": [
              "Text(0, 0.5, 'Frecuencia')"
            ]
          },
          "metadata": {},
          "execution_count": 68
        },
        {
          "output_type": "display_data",
          "data": {
            "image/png": "[encoded data removed]",
            "text/plain": [
              "<Figure size 396x396 with 1 Axes>"
            ]
          },
          "metadata": {
            "needs_background": "light"
          }
        }
      ]
    },
    {
      "cell_type": "markdown",
      "metadata": {
        "id": "WmBWxXZW5Gx2"
      },
      "source": [
        "Dado lo anterior, señala que la mayoría de los pacientes fueron hospitalizados al menos una vez.\n",
        "Muchos "
      ]
    },
    {
      "cell_type": "code",
      "metadata": {
        "colab": {
          "base_uri": "https://localhost:8080/",
          "height": 395
        },
        "id": "M5rPTbiZAb6t",
        "outputId": "0e1545dc-e9cf-4b2c-ee63-3d92c54c3892"
      },
      "source": [
        "plt.figure(figsize=(5.5,5.5))\n",
        "datos['Amputation'].plot.hist(color='purple')\n",
        "plt.title('Frecuencia de amputaciones')\n",
        "xlabel('Amputaciones por persona')\n",
        "ylabel('Frecuencia')"
      ],
      "execution_count": 69,
      "outputs": [
        {
          "output_type": "execute_result",
          "data": {
            "text/plain": [
              "Text(0, 0.5, 'Frecuencia')"
            ]
          },
          "metadata": {},
          "execution_count": 69
        },
        {
          "output_type": "display_data",
          "data": {
            "image/png": "[encoded data removed]",
            "text/plain": [
              "<Figure size 396x396 with 1 Axes>"
            ]
          },
          "metadata": {
            "needs_background": "light"
          }
        }
      ]
    },
    {
      "cell_type": "markdown",
      "metadata": {
        "id": "6I8sTxQQAhvo"
      },
      "source": [
        "Sin embargo, menos de la mitad de esos trabajadores necesitaron de alguna amputación."
      ]
    },
    {
      "cell_type": "markdown",
      "metadata": {
        "id": "jP-3qY7m5Y2B"
      },
      "source": [
        "##*Conclusión global*\n",
        "\n",
        "  Los datos indican que el estado de Texas tiene una mayor frecuencia en lesiones laborales, ya que cuenta con aproximadamente el 16% de los accidentes de trabajo en Estados Unidos.\n",
        "  Por otro lado, tenemos que el grado de urgencia más común en un lesionado es de fracturas y amputaciones, el cual corresponde al 55% de los accidentes más frecuentes, siendo los dedos el área del cuerpo con mayor ocurrencia de lesión.\n",
        "  Por último, se distingue que el 74% de los trabajadores que fueron lesionados, contaron con una probabilidad menor al 50% para realizarse el proceso de amputación.\n",
        "\n"
      ]
    },
    {
      "cell_type": "markdown",
      "metadata": {
        "id": "HdO06l5LZjKV"
      },
      "source": [
        "# **Método series de tiempo**\n"
      ]
    },
    {
      "cell_type": "markdown",
      "metadata": {
        "id": "f9LoCOCmrMWZ"
      },
      "source": [
        "Nuestro principal objetivo es predecir la frecuencia de lesiones en cada uno de los estados."
      ]
    },
    {
      "cell_type": "code",
      "metadata": {
        "colab": {
          "base_uri": "https://localhost:8080/"
        },
        "id": "nPaIBOuClin1",
        "outputId": "58859d52-c9f4-4782-c9f5-9e3ae1d72665"
      },
      "source": [
        "%load_ext rpy2.ipython\n",
        "%load_ext rmagic"
      ],
      "execution_count": 125,
      "outputs": [
        {
          "output_type": "stream",
          "name": "stdout",
          "text": [
            "The rpy2.ipython extension is already loaded. To reload it, use:\n",
            "  %reload_ext rpy2.ipython\n",
            "The rmagic extension is already loaded. To reload it, use:\n",
            "  %reload_ext rmagic\n"
          ]
        }
      ]
    },
    {
      "cell_type": "markdown",
      "metadata": {
        "id": "__e_AQrwr20m"
      },
      "source": [
        "Para ello, comenzamos visualizando los datos inicales. Dado a que durente el 2017 algunos días no se registraron, para tener una predicción confiable, decidimos utilizar solo los datos recabados hasta finales de 2016."
      ]
    },
    {
      "cell_type": "code",
      "metadata": {
        "colab": {
          "base_uri": "https://localhost:8080/",
          "height": 497
        },
        "id": "SHnOPUw_ll7_",
        "outputId": "b26b4a07-3aff-4a3c-d431-5dbe7e3f850a"
      },
      "source": [
        "%%R \n",
        "setwd(\"/content\")\n",
        " x<-read.csv(\"SerieDeTiempo_AccidentesLaborales.csv\",header=T)\n",
        " serie<-ts(x$Accidentes,frequency=721,start=c(2015,1,1),end=c(2016,12,31))\n",
        " \n",
        " plot(serie,main='Accidentes Laborales',xlab='Días',ylab='Número de accidentes', col='magenta')"
      ],
      "execution_count": 166,
      "outputs": [
        {
          "output_type": "display_data",
          "data": {
            "image/png": "[encoded data removed]"
          },
          "metadata": {}
        }
      ]
    },
    {
      "cell_type": "markdown",
      "metadata": {
        "id": "WYhM8w4NEzhu"
      },
      "source": [
        "##Métricas de evaluación"
      ]
    },
    {
      "cell_type": "code",
      "metadata": {
        "colab": {
          "base_uri": "https://localhost:8080/"
        },
        "id": "EKvya7q94O7v",
        "outputId": "14cfe6dc-b138-4d7b-f100-2defc76a60f3"
      },
      "source": [
        "%R range(serie)"
      ],
      "execution_count": 168,
      "outputs": [
        {
          "output_type": "execute_result",
          "data": {
            "text/plain": [
              "array([ 2, 56], dtype=int32)"
            ]
          },
          "metadata": {},
          "execution_count": 168
        }
      ]
    },
    {
      "cell_type": "markdown",
      "metadata": {
        "id": "wTFWMov3r0uN"
      },
      "source": [
        "Como primer paso en el método de series de tiempo, identificamos que nuestra serie sea estacionaria. Esto quiere decir que la media de los datos no tiene tendencia, y su varianza es estacionaria.\n",
        "\n",
        "Una vez hechas las pruebas, comenzamos con la predicción. Para ello, buscamos un arima que prediga bien los datos (los modelos arima ayudan a la predicción de series estacionarias). "
      ]
    },
    {
      "cell_type": "code",
      "metadata": {
        "colab": {
          "base_uri": "https://localhost:8080/",
          "height": 497
        },
        "id": "nTD5BbjBrRFY",
        "outputId": "c6b3a605-2d21-425c-d31a-411e64a8cce0"
      },
      "source": [
        "%%R\n",
        "pd<-predict(arima(serie,order = c(7,0,20),method = 'ML'),n.ahead=60)$pred\n",
        "plot(serie,main='Accidentes Laborales',  xlim=c(2015.9,2016.15),ylim=c(0,60),xlab='Días',ylab='Número de accidentes')\n",
        "lines(pd,col='magenta') #Modelo original ARIMA(7,0,20)\n",
        "legend(x=2016.1, y=55, legend=c('Serie Original', 'Predicción'),col=c('black','magenta'), pch='-',  cex= 0.7,  xpd = T )"
      ],
      "execution_count": 160,
      "outputs": [
        {
          "output_type": "display_data",
          "data": {
            "image/png": "[encoded data removed]"
          },
          "metadata": {}
        }
      ]
    },
    {
      "cell_type": "code",
      "metadata": {
        "colab": {
          "base_uri": "https://localhost:8080/"
        },
        "id": "sco4A5Las7UN",
        "outputId": "2a83b78d-ac94-40e0-e68e-9ec7561a4890"
      },
      "source": [
        "%R pd"
      ],
      "execution_count": 161,
      "outputs": [
        {
          "output_type": "execute_result",
          "data": {
            "text/plain": [
              "array([27.33937091, 26.0939382 , 29.62273075, 20.13918346, 11.74872783,\n",
              "       13.06963699, 28.77184635, 27.19284486, 26.88323801, 32.7431888 ,\n",
              "       25.26113835, 16.28457349, 16.57563728, 33.20871812, 31.51162524,\n",
              "       30.2825439 , 35.3625622 , 26.32745901, 16.14681841, 16.75223841,\n",
              "       32.96142287, 31.68815084, 30.11765937, 35.4858354 , 26.32382526,\n",
              "       16.0847052 , 16.9875011 , 32.72329737, 31.84401658, 29.9790658 ,\n",
              "       35.58097988, 26.34176569, 16.00987589, 17.22230776, 32.49634039,\n",
              "       31.97879098, 29.86568557, 35.65044395, 26.37812113, 15.92564384,\n",
              "       17.45400132, 32.28212198, 32.09241371, 29.77619679, 35.69673737,\n",
              "       26.42985596, 15.83503617, 17.68030344, 32.08181515, 32.18514933,\n",
              "       29.70908466, 35.72238616, 26.49408814, 15.74078535, 17.89930045,\n",
              "       31.89622945, 32.25754198, 29.66268912, 35.7298931 , 26.56811302])"
            ]
          },
          "metadata": {},
          "execution_count": 161
        }
      ]
    },
    {
      "cell_type": "code",
      "metadata": {
        "colab": {
          "base_uri": "https://localhost:8080/"
        },
        "id": "ETjyHDlEyRxh",
        "outputId": "ea2b76d7-9407-41b8-b882-59b9da1f53a7"
      },
      "source": [
        "%R range(pd)"
      ],
      "execution_count": 162,
      "outputs": [
        {
          "output_type": "execute_result",
          "data": {
            "text/plain": [
              "array([11.74872783, 35.7298931 ])"
            ]
          },
          "metadata": {},
          "execution_count": 162
        }
      ]
    },
    {
      "cell_type": "markdown",
      "metadata": {
        "id": "R3pjHzKByB0D"
      },
      "source": [
        "Al observar el comportamiento de los datos, notamos que habrá entre  11 y 36 accidentes durante los siguientes 10 meses."
      ]
    },
    {
      "cell_type": "markdown",
      "metadata": {
        "id": "yDkPGCGwxO9b"
      },
      "source": [
        "##Conclusión\n",
        "\n",
        "Se pronostica un aumento en el número de accidentes diarios, en comparación con los últimos meses de 2016. Además, la mayoría de las lesiones más frecuentes son fracturas, seguidas de amputaciones, dolor y cortaduras ocurridas principalmente en dedos y manos.\n",
        "\n",
        "Para nuestro objetivo secundario, identificamos que el estado de Texas es el que mayor porcentaje de accidentes tiene en comparación con el resto de los estados, segido por Florida y Pensilvania. Pues solo en estos 3 estados se presentan casi el 40% de los casos de los accidentes totales registrados.\n",
        "\n",
        "\n",
        "####Un punto a mejorar:\n",
        "Dado a que no tenemos los costos derivados de los accidentes, no podemos determinar el promedio de gastos  por accidente. \n",
        "Si pudieramos considerar a qué se dedica cada persona que tuvo un accidene, sería de grán utilidad para determinar cual es el seguro ideal para cada persona.\n",
        "\n",
        "\n"
      ]
    }
  ]
}