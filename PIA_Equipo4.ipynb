{
  "nbformat": 4,
  "nbformat_minor": 0,
  "metadata": {
    "colab": {
      "name": "PIA_Equipo4",
      "provenance": [],
      "collapsed_sections": [
        "-2V-qS0vmtlw"
      ],
      "toc_visible": true,
      "include_colab_link": true
    },
    "kernelspec": {
      "display_name": "Python 3",
      "name": "python3"
    },
    "language_info": {
      "name": "python"
    }
  },
  "cells": [
    {
      "cell_type": "markdown",
      "metadata": {
        "id": "view-in-github",
        "colab_type": "text"
      },
      "source": [
        "<a href=\"https://colab.research.google.com/github/JisbethDiaz/FCFM_Miner-a_de_Datos/blob/Miner%C3%ADa-de-datos/PIA_Equipo4.ipynb\" target=\"_parent\"><img src=\"https://colab.research.google.com/assets/colab-badge.svg\" alt=\"Open In Colab\"/></a>"
      ]
    },
    {
      "cell_type": "markdown",
      "metadata": {
        "id": "GKVIGRgcipor"
      },
      "source": [
        "\n",
        "# **PIA ANÁLISIS DE DATOS**\n",
        "\n",
        "* Equipo #4\n",
        "* Grupo: 02, Frecuencia de clase: Miércoles\n",
        "* Integrantes:\n",
        "\n",
        "  * 1857602 Díaz Vázquez Jisbeth Jaquelin.\n",
        "  * 1842201 Ramiro Mayorga Julio César.\n",
        "  * 1854552 Requenes Villarreal Linda Karina.\n",
        "  * 1941443 Martínez Valdez Norma Isabel.\n"
      ]
    },
    {
      "cell_type": "markdown",
      "metadata": {
        "id": "-2V-qS0vmtlw"
      },
      "source": [
        "# **Severely Injured Workers**\n",
        "URL: https://www.kaggle.com/jboysen/injured-workers\n",
        "\n"
      ]
    },
    {
      "cell_type": "markdown",
      "metadata": {
        "id": "Y5w7PCFhnDiB"
      },
      "source": [
        "## *Descripción de la base de datos*\n",
        "\n",
        "Desde el 1 de enero de 2015, la Administración de Seguridad y Salud Ocupacional (OSHA) exige a los empleadores que informen de todas las lesiones graves relacionadas con el trabajo que fueron ocurridas hasta el 28 de febrero de 2017 y fueron definidas (utilizando el Sistema de Clasificación de Lesiones y Enfermedades Profesionales) como amputación, hospitalización o pérdida de un ojo.\n",
        "\n",
        "1. Tamaño de la base:\n",
        "\n",
        "  Los datos se muestran en una tabla de dimensiones de 26 columnas x 21578 filas, donde la cantidad de columnas representa el incidente, las partes implicadas, el empleador, la lesión sufrida y el resultado final, y las filas abarcan el número total de incidentes en dicho periodo.\n",
        "\n",
        "2. Columnas:\n",
        "\n",
        "  * Address: Dirección (texto largo)\n",
        "  * City: Ciudad (cadena)\n",
        "  * State: Estado (cadena)\n",
        "  * Latitude: Latitud (float)\n",
        "  * Longitude: Longitud (float)\n",
        "  * Primary NAICS: Línea de negocio principal de una empresa (entero)\n",
        "  * Hospitalized: Hospitalizado (entero)\n",
        "  * Amputation: Amputación (entero)\n",
        "  * Inspection: Inspección (entero)\n",
        "  * Final Narrative: Narración final (texto largo)\n",
        "  * Nature: Naturaleza (cadena)\n",
        "  * Part of Body: Parte del cuerpo (cadena)\n",
        "  * Event: Evento (cadena)\n",
        "  * Source: Procedencia (cadena)\n",
        "  * Secondary Source: Segunda procedencia (cadena)"
      ]
    },
    {
      "cell_type": "markdown",
      "metadata": {
        "id": "BK4Y37YsnD6o"
      },
      "source": [
        "## *Justificación del uso de datos*\n",
        "\n",
        "  Los accidentes de trabajo pueden ocurrir en cualquier momento, saber qué hacer y cómo actuar es fundamental para asegurar una oportuna atención al lesionado. Por esta razón, una aseguradora consideró importante tener un buen historial para poder informarse y realizar un análisis acerca del número de frecuencias de cada tipo de emergencia relacionada con su puesto, así como también su respectiva siniestralidad. Ya que con ello, es posible calcular pólizas de seguros contra accidentes laborales para los trabajadores de empresas establecidas.\n"
      ]
    },
    {
      "cell_type": "markdown",
      "metadata": {
        "id": "H_KjlG-DnEBD"
      },
      "source": [
        "##*Objetivos*\n",
        "\n",
        "*   Principal:\n",
        "\n",
        "  Predecir el comportamiento de frecuencia de lesiones en cada uno de los estados definiendo el grado de urgencia más común.\n",
        "\n",
        "*   Secundario:\n",
        "\n",
        "  Calcular el índice de siniestralidad anual de cada uno de los puestos laborales para la actualización de los diferentes tipos de pólizas."
      ]
    },
    {
      "cell_type": "markdown",
      "metadata": {
        "id": "zEDBpKUw-S68"
      },
      "source": [
        "##*Preguntas*\n",
        "\n",
        "*   ¿Qué industrias tienen la tasa más alta de lesiones laborales?\n",
        "*   ¿Las lesiones más graves?\n",
        "*   ¿Puede predecir las lesiones para 2016 basándose en datos de 2015?\n",
        "*   ¿En qué regiones son más frecuentes las lesiones?"
      ]
    },
    {
      "cell_type": "markdown",
      "metadata": {
        "id": "SVKezG9WM00P"
      },
      "source": [
        "# **Limpieza de datos**\n"
      ]
    },
    {
      "cell_type": "code",
      "metadata": {
        "id": "Af386yGgZTzx"
      },
      "source": [
        "import pandas as pd\n",
        "import numpy as np\n",
        "import json\n",
        "df = pd.read_csv('severeinjury.csv', encoding= 'unicode_escape') #https://stackoverflow.com/questions/22216076/unicodedecodeerror-utf8-codec-cant-decode-byte-0xa5-in-position-0-invalid-s"
      ],
      "execution_count": null,
      "outputs": []
    },
    {
      "cell_type": "markdown",
      "metadata": {
        "id": "jtWkfpSliQ5Z"
      },
      "source": [
        "Las dimensiones de nuestra Base de datos 26 columnas y 21578 filas"
      ]
    },
    {
      "cell_type": "code",
      "metadata": {
        "id": "zQk3NPstZtzH",
        "colab": {
          "base_uri": "https://localhost:8080/"
        },
        "outputId": "623ab2d2-6e1c-4ed2-eb19-9f69b87261d0"
      },
      "source": [
        "df.shape"
      ],
      "execution_count": null,
      "outputs": [
        {
          "output_type": "execute_result",
          "data": {
            "text/plain": [
              "(21578, 26)"
            ]
          },
          "metadata": {},
          "execution_count": 74
        }
      ]
    },
    {
      "cell_type": "markdown",
      "metadata": {
        "id": "WBeTu0USyr3z"
      },
      "source": [
        "##*Datos sin manipulación*"
      ]
    },
    {
      "cell_type": "markdown",
      "metadata": {
        "id": "jaX9-q0rh8W7"
      },
      "source": [
        "Las primeras y ultimas 5 Filas de datos de nuestra base de datos"
      ]
    },
    {
      "cell_type": "code",
      "metadata": {
        "id": "4CmjmiC6aB6G",
        "colab": {
          "base_uri": "https://localhost:8080/",
          "height": 605
        },
        "outputId": "5bc1ae33-b90b-4561-bfc9-40dd4f07f443"
      },
      "source": [
        "df.head()"
      ],
      "execution_count": null,
      "outputs": [
        {
          "output_type": "execute_result",
          "data": {
            "text/html": [
              "<div>\n",
              "<style scoped>\n",
              "    .dataframe tbody tr th:only-of-type {\n",
              "        vertical-align: middle;\n",
              "    }\n",
              "\n",
              "    .dataframe tbody tr th {\n",
              "        vertical-align: top;\n",
              "    }\n",
              "\n",
              "    .dataframe thead th {\n",
              "        text-align: right;\n",
              "    }\n",
              "</style>\n",
              "<table border=\"1\" class=\"dataframe\">\n",
              "  <thead>\n",
              "    <tr style=\"text-align: right;\">\n",
              "      <th></th>\n",
              "      <th>ID</th>\n",
              "      <th>UPA</th>\n",
              "      <th>EventDate</th>\n",
              "      <th>Employer</th>\n",
              "      <th>Address1</th>\n",
              "      <th>Address2</th>\n",
              "      <th>City</th>\n",
              "      <th>State</th>\n",
              "      <th>Zip</th>\n",
              "      <th>Latitude</th>\n",
              "      <th>Longitude</th>\n",
              "      <th>Primary NAICS</th>\n",
              "      <th>Hospitalized</th>\n",
              "      <th>Amputation</th>\n",
              "      <th>Inspection</th>\n",
              "      <th>Final Narrative</th>\n",
              "      <th>Nature</th>\n",
              "      <th>NatureTitle</th>\n",
              "      <th>Part of Body</th>\n",
              "      <th>Part of Body Title</th>\n",
              "      <th>Event</th>\n",
              "      <th>EventTitle</th>\n",
              "      <th>Source</th>\n",
              "      <th>SourceTitle</th>\n",
              "      <th>Secondary Source</th>\n",
              "      <th>Secondary Source Title</th>\n",
              "    </tr>\n",
              "  </thead>\n",
              "  <tbody>\n",
              "    <tr>\n",
              "      <th>0</th>\n",
              "      <td>2015010015</td>\n",
              "      <td>931176</td>\n",
              "      <td>1/1/2015</td>\n",
              "      <td>FCI Otisville Federal Correctional Institution</td>\n",
              "      <td>Two Mile Drive</td>\n",
              "      <td>NaN</td>\n",
              "      <td>OTISVILLE</td>\n",
              "      <td>NEW YORK</td>\n",
              "      <td>10963.0</td>\n",
              "      <td>41.46</td>\n",
              "      <td>-74.53</td>\n",
              "      <td>922140</td>\n",
              "      <td>1.0</td>\n",
              "      <td>0.0</td>\n",
              "      <td>1018519.0</td>\n",
              "      <td>Three correctional facility guards were escort...</td>\n",
              "      <td>111</td>\n",
              "      <td>Fractures</td>\n",
              "      <td>513</td>\n",
              "      <td>Lower leg(s)</td>\n",
              "      <td>1214</td>\n",
              "      <td>Injured by physical contact with person while ...</td>\n",
              "      <td>5721</td>\n",
              "      <td>Co-worker</td>\n",
              "      <td>5772.0</td>\n",
              "      <td>Inmate or detainee in custody</td>\n",
              "    </tr>\n",
              "    <tr>\n",
              "      <th>1</th>\n",
              "      <td>2015010016</td>\n",
              "      <td>930267</td>\n",
              "      <td>1/1/2015</td>\n",
              "      <td>Kalahari Manufacturing LLC</td>\n",
              "      <td>171 Progress Drive</td>\n",
              "      <td>NaN</td>\n",
              "      <td>LAKE DELTON</td>\n",
              "      <td>WISCONSIN</td>\n",
              "      <td>53940.0</td>\n",
              "      <td>43.59</td>\n",
              "      <td>-89.79</td>\n",
              "      <td>339999</td>\n",
              "      <td>1.0</td>\n",
              "      <td>0.0</td>\n",
              "      <td>1016582.0</td>\n",
              "      <td>Employee in the Machine Shop received second d...</td>\n",
              "      <td>1522</td>\n",
              "      <td>Second degree heat (thermal) burns</td>\n",
              "      <td>519</td>\n",
              "      <td>Leg(s), n.e.c.</td>\n",
              "      <td>317</td>\n",
              "      <td>Ignition of vapors, gases, or liquids</td>\n",
              "      <td>7261</td>\n",
              "      <td>Welding, cutting, and blow torches</td>\n",
              "      <td>NaN</td>\n",
              "      <td>NaN</td>\n",
              "    </tr>\n",
              "    <tr>\n",
              "      <th>2</th>\n",
              "      <td>2015010018</td>\n",
              "      <td>929823</td>\n",
              "      <td>1/1/2015</td>\n",
              "      <td>Schneider National Bulk Carrier</td>\n",
              "      <td>420 CORAOPOLIS ROAD</td>\n",
              "      <td>NaN</td>\n",
              "      <td>CORAOPOLIS</td>\n",
              "      <td>PENNSYLVANIA</td>\n",
              "      <td>15108.0</td>\n",
              "      <td>40.49</td>\n",
              "      <td>-80.11</td>\n",
              "      <td>484121</td>\n",
              "      <td>1.0</td>\n",
              "      <td>0.0</td>\n",
              "      <td>NaN</td>\n",
              "      <td>A truck driver fell approximately 4 feet while...</td>\n",
              "      <td>10</td>\n",
              "      <td>Traumatic injuries and disorders, unspecified</td>\n",
              "      <td>9999</td>\n",
              "      <td>Nonclassifiable</td>\n",
              "      <td>4331</td>\n",
              "      <td>Other fall to lower level less than 6 feet</td>\n",
              "      <td>8421</td>\n",
              "      <td>Semi, tractor-trailer, tanker truck</td>\n",
              "      <td>741.0</td>\n",
              "      <td>Ladders-fixed</td>\n",
              "    </tr>\n",
              "    <tr>\n",
              "      <th>3</th>\n",
              "      <td>2015010019</td>\n",
              "      <td>929711</td>\n",
              "      <td>1/1/2015</td>\n",
              "      <td>PEPSI BOTTLING GROUP INC.</td>\n",
              "      <td>4541 HOUSTON AVE.</td>\n",
              "      <td>NaN</td>\n",
              "      <td>MACON</td>\n",
              "      <td>GEORGIA</td>\n",
              "      <td>31206.0</td>\n",
              "      <td>32.77</td>\n",
              "      <td>-83.65</td>\n",
              "      <td>424490</td>\n",
              "      <td>1.0</td>\n",
              "      <td>0.0</td>\n",
              "      <td>1017194.0</td>\n",
              "      <td>An employee's leg was pinned between a truck a...</td>\n",
              "      <td>1972</td>\n",
              "      <td>Soreness, pain, hurt-nonspecified injury</td>\n",
              "      <td>510</td>\n",
              "      <td>Leg(s), unspecified</td>\n",
              "      <td>640</td>\n",
              "      <td>Caught in or compressed by equipment or object...</td>\n",
              "      <td>8623</td>\n",
              "      <td>Pallet jack-powered</td>\n",
              "      <td>8420.0</td>\n",
              "      <td>Truck-motorized freight hauling and utility, u...</td>\n",
              "    </tr>\n",
              "    <tr>\n",
              "      <th>4</th>\n",
              "      <td>2015010020</td>\n",
              "      <td>929642</td>\n",
              "      <td>1/1/2015</td>\n",
              "      <td>North American Pipe Corporation</td>\n",
              "      <td>210 South Arch Street</td>\n",
              "      <td>NaN</td>\n",
              "      <td>JANESVILLE</td>\n",
              "      <td>WISCONSIN</td>\n",
              "      <td>53545.0</td>\n",
              "      <td>42.67</td>\n",
              "      <td>-89.04</td>\n",
              "      <td>326122</td>\n",
              "      <td>1.0</td>\n",
              "      <td>0.0</td>\n",
              "      <td>1016344.0</td>\n",
              "      <td>An employee working on the Line 6 Auto-Beller ...</td>\n",
              "      <td>111</td>\n",
              "      <td>Fractures</td>\n",
              "      <td>4429</td>\n",
              "      <td>Finger(s), fingernail(s), n.e.c.</td>\n",
              "      <td>6411</td>\n",
              "      <td>Caught in running equipment or machinery durin...</td>\n",
              "      <td>350</td>\n",
              "      <td>Metal, woodworking, and special material machi...</td>\n",
              "      <td>NaN</td>\n",
              "      <td>NaN</td>\n",
              "    </tr>\n",
              "  </tbody>\n",
              "</table>\n",
              "</div>"
            ],
            "text/plain": [
              "           ID  ...                             Secondary Source Title\n",
              "0  2015010015  ...                      Inmate or detainee in custody\n",
              "1  2015010016  ...                                                NaN\n",
              "2  2015010018  ...                                      Ladders-fixed\n",
              "3  2015010019  ...  Truck-motorized freight hauling and utility, u...\n",
              "4  2015010020  ...                                                NaN\n",
              "\n",
              "[5 rows x 26 columns]"
            ]
          },
          "metadata": {},
          "execution_count": 75
        }
      ]
    },
    {
      "cell_type": "code",
      "metadata": {
        "id": "htiDnEiqhz8A",
        "colab": {
          "base_uri": "https://localhost:8080/",
          "height": 572
        },
        "outputId": "c8671064-6ce4-4604-f1b2-6a74e8f37f33"
      },
      "source": [
        "df.tail()"
      ],
      "execution_count": null,
      "outputs": [
        {
          "output_type": "execute_result",
          "data": {
            "text/html": [
              "<div>\n",
              "<style scoped>\n",
              "    .dataframe tbody tr th:only-of-type {\n",
              "        vertical-align: middle;\n",
              "    }\n",
              "\n",
              "    .dataframe tbody tr th {\n",
              "        vertical-align: top;\n",
              "    }\n",
              "\n",
              "    .dataframe thead th {\n",
              "        text-align: right;\n",
              "    }\n",
              "</style>\n",
              "<table border=\"1\" class=\"dataframe\">\n",
              "  <thead>\n",
              "    <tr style=\"text-align: right;\">\n",
              "      <th></th>\n",
              "      <th>ID</th>\n",
              "      <th>UPA</th>\n",
              "      <th>EventDate</th>\n",
              "      <th>Employer</th>\n",
              "      <th>Address1</th>\n",
              "      <th>Address2</th>\n",
              "      <th>City</th>\n",
              "      <th>State</th>\n",
              "      <th>Zip</th>\n",
              "      <th>Latitude</th>\n",
              "      <th>Longitude</th>\n",
              "      <th>Primary NAICS</th>\n",
              "      <th>Hospitalized</th>\n",
              "      <th>Amputation</th>\n",
              "      <th>Inspection</th>\n",
              "      <th>Final Narrative</th>\n",
              "      <th>Nature</th>\n",
              "      <th>NatureTitle</th>\n",
              "      <th>Part of Body</th>\n",
              "      <th>Part of Body Title</th>\n",
              "      <th>Event</th>\n",
              "      <th>EventTitle</th>\n",
              "      <th>Source</th>\n",
              "      <th>SourceTitle</th>\n",
              "      <th>Secondary Source</th>\n",
              "      <th>Secondary Source Title</th>\n",
              "    </tr>\n",
              "  </thead>\n",
              "  <tbody>\n",
              "    <tr>\n",
              "      <th>21573</th>\n",
              "      <td>2017021908</td>\n",
              "      <td>1187496</td>\n",
              "      <td>2/28/2017</td>\n",
              "      <td>JPN Masonry LLC</td>\n",
              "      <td>806 Channing Place</td>\n",
              "      <td>NaN</td>\n",
              "      <td>WASHINGTON</td>\n",
              "      <td>DISTRICT OF COLUMBIA</td>\n",
              "      <td>20008.0</td>\n",
              "      <td>38.92</td>\n",
              "      <td>-76.99</td>\n",
              "      <td>238140</td>\n",
              "      <td>1.0</td>\n",
              "      <td>0.0</td>\n",
              "      <td>1215482.0</td>\n",
              "      <td>An employee fell from the third scaffold level...</td>\n",
              "      <td>1834</td>\n",
              "      <td>Fractures and dislocations</td>\n",
              "      <td>4420</td>\n",
              "      <td>Finger(s), fingernail(s), unspecified</td>\n",
              "      <td>4320</td>\n",
              "      <td>Fall through surface or existing opening, unsp...</td>\n",
              "      <td>6340</td>\n",
              "      <td>Scaffolds-staging, unspecified</td>\n",
              "      <td>NaN</td>\n",
              "      <td>NaN</td>\n",
              "    </tr>\n",
              "    <tr>\n",
              "      <th>21574</th>\n",
              "      <td>2017021909</td>\n",
              "      <td>1187261</td>\n",
              "      <td>2/28/2017</td>\n",
              "      <td>CR MEYER</td>\n",
              "      <td>1815 Marathon Ave.</td>\n",
              "      <td>NaN</td>\n",
              "      <td>NEENAH</td>\n",
              "      <td>WISCONSIN</td>\n",
              "      <td>54956.0</td>\n",
              "      <td>44.16</td>\n",
              "      <td>-88.47</td>\n",
              "      <td>236220</td>\n",
              "      <td>1.0</td>\n",
              "      <td>0.0</td>\n",
              "      <td>1214207.0</td>\n",
              "      <td>An employee fell approximately 10 feet from a ...</td>\n",
              "      <td>111</td>\n",
              "      <td>Fractures</td>\n",
              "      <td>899</td>\n",
              "      <td>Multiple body parts, n.e.c.</td>\n",
              "      <td>4332</td>\n",
              "      <td>Other fall to lower level 6 to 10 feet</td>\n",
              "      <td>6395</td>\n",
              "      <td>Porches, balconies, decks, patios</td>\n",
              "      <td>NaN</td>\n",
              "      <td>NaN</td>\n",
              "    </tr>\n",
              "    <tr>\n",
              "      <th>21575</th>\n",
              "      <td>2017021910</td>\n",
              "      <td>1187351</td>\n",
              "      <td>2/28/2017</td>\n",
              "      <td>PHOENIX HOME CARE</td>\n",
              "      <td>353 River Bluff Drive</td>\n",
              "      <td>NaN</td>\n",
              "      <td>BRANSON</td>\n",
              "      <td>MISSOURI</td>\n",
              "      <td>65616.0</td>\n",
              "      <td>36.61</td>\n",
              "      <td>-93.27</td>\n",
              "      <td>621610</td>\n",
              "      <td>1.0</td>\n",
              "      <td>0.0</td>\n",
              "      <td>NaN</td>\n",
              "      <td>An employee was walking down a flight of three...</td>\n",
              "      <td>111</td>\n",
              "      <td>Fractures</td>\n",
              "      <td>513</td>\n",
              "      <td>Lower leg(s)</td>\n",
              "      <td>4331</td>\n",
              "      <td>Other fall to lower level less than 6 feet</td>\n",
              "      <td>6611</td>\n",
              "      <td>Stairs, steps-indoors</td>\n",
              "      <td>NaN</td>\n",
              "      <td>NaN</td>\n",
              "    </tr>\n",
              "    <tr>\n",
              "      <th>21576</th>\n",
              "      <td>2017021911</td>\n",
              "      <td>1187282</td>\n",
              "      <td>2/28/2017</td>\n",
              "      <td>Cross Insulation, Inc.</td>\n",
              "      <td>West Fargo New Construction</td>\n",
              "      <td>NaN</td>\n",
              "      <td>WEST FARGO</td>\n",
              "      <td>NORTH DAKOTA</td>\n",
              "      <td>58078.0</td>\n",
              "      <td>46.87</td>\n",
              "      <td>-96.93</td>\n",
              "      <td>238310</td>\n",
              "      <td>1.0</td>\n",
              "      <td>0.0</td>\n",
              "      <td>1216894.0</td>\n",
              "      <td>An employee was hospitalized for carbon monoxi...</td>\n",
              "      <td>1961</td>\n",
              "      <td>Poisoning, including poisoning-related asphyxia</td>\n",
              "      <td>6</td>\n",
              "      <td>BODY SYSTEMS</td>\n",
              "      <td>5521</td>\n",
              "      <td>Inhalation of harmful substance-single episode</td>\n",
              "      <td>1741</td>\n",
              "      <td>Carbon monoxide</td>\n",
              "      <td>NaN</td>\n",
              "      <td>NaN</td>\n",
              "    </tr>\n",
              "    <tr>\n",
              "      <th>21577</th>\n",
              "      <td>2017021912</td>\n",
              "      <td>1187132</td>\n",
              "      <td>2/28/2017</td>\n",
              "      <td>JV MANUFACTURING, INC.</td>\n",
              "      <td>701 Butterfield Coach Road</td>\n",
              "      <td>NaN</td>\n",
              "      <td>SPRINGDALE</td>\n",
              "      <td>ARKANSAS</td>\n",
              "      <td>72765.0</td>\n",
              "      <td>36.17</td>\n",
              "      <td>-94.09</td>\n",
              "      <td>333319</td>\n",
              "      <td>1.0</td>\n",
              "      <td>0.0</td>\n",
              "      <td>NaN</td>\n",
              "      <td>An employee was cutting the strapping on a bun...</td>\n",
              "      <td>111</td>\n",
              "      <td>Fractures</td>\n",
              "      <td>510</td>\n",
              "      <td>Leg(s), unspecified</td>\n",
              "      <td>6239</td>\n",
              "      <td>Struck by falling object or equipment, n.e.c.</td>\n",
              "      <td>2131</td>\n",
              "      <td>Bundles, bales</td>\n",
              "      <td>NaN</td>\n",
              "      <td>NaN</td>\n",
              "    </tr>\n",
              "  </tbody>\n",
              "</table>\n",
              "</div>"
            ],
            "text/plain": [
              "               ID      UPA  ... Secondary Source Secondary Source Title\n",
              "21573  2017021908  1187496  ...              NaN                    NaN\n",
              "21574  2017021909  1187261  ...              NaN                    NaN\n",
              "21575  2017021910  1187351  ...              NaN                    NaN\n",
              "21576  2017021911  1187282  ...              NaN                    NaN\n",
              "21577  2017021912  1187132  ...              NaN                    NaN\n",
              "\n",
              "[5 rows x 26 columns]"
            ]
          },
          "metadata": {},
          "execution_count": 76
        }
      ]
    },
    {
      "cell_type": "markdown",
      "metadata": {
        "id": "4qHwkj0Xhi0G"
      },
      "source": [
        "Los nombres de las columnas y sus tipos de datos"
      ]
    },
    {
      "cell_type": "code",
      "metadata": {
        "id": "YsIn-F0aa7Rd",
        "colab": {
          "base_uri": "https://localhost:8080/"
        },
        "outputId": "86cb39f3-7191-483f-c730-af5f4d41671a"
      },
      "source": [
        "df.columns"
      ],
      "execution_count": null,
      "outputs": [
        {
          "output_type": "execute_result",
          "data": {
            "text/plain": [
              "Index(['ID', 'UPA', 'EventDate', 'Employer', 'Address1', 'Address2', 'City',\n",
              "       'State', 'Zip', 'Latitude', 'Longitude', 'Primary NAICS',\n",
              "       'Hospitalized', 'Amputation', 'Inspection', 'Final Narrative', 'Nature',\n",
              "       'NatureTitle', 'Part of Body', 'Part of Body Title', 'Event',\n",
              "       'EventTitle', 'Source', 'SourceTitle', 'Secondary Source',\n",
              "       'Secondary Source Title'],\n",
              "      dtype='object')"
            ]
          },
          "metadata": {},
          "execution_count": 77
        }
      ]
    },
    {
      "cell_type": "code",
      "metadata": {
        "id": "3fkWi_vthTZd",
        "colab": {
          "base_uri": "https://localhost:8080/"
        },
        "outputId": "2fb182c4-f7d5-40e3-d567-b945023f6ebb"
      },
      "source": [
        "df.dtypes\n"
      ],
      "execution_count": null,
      "outputs": [
        {
          "output_type": "execute_result",
          "data": {
            "text/plain": [
              "ID                          int64\n",
              "UPA                         int64\n",
              "EventDate                  object\n",
              "Employer                   object\n",
              "Address1                   object\n",
              "Address2                   object\n",
              "City                       object\n",
              "State                      object\n",
              "Zip                       float64\n",
              "Latitude                  float64\n",
              "Longitude                 float64\n",
              "Primary NAICS              object\n",
              "Hospitalized              float64\n",
              "Amputation                float64\n",
              "Inspection                float64\n",
              "Final Narrative            object\n",
              "Nature                      int64\n",
              "NatureTitle                object\n",
              "Part of Body                int64\n",
              "Part of Body Title         object\n",
              "Event                       int64\n",
              "EventTitle                 object\n",
              "Source                      int64\n",
              "SourceTitle                object\n",
              "Secondary Source          float64\n",
              "Secondary Source Title     object\n",
              "dtype: object"
            ]
          },
          "metadata": {},
          "execution_count": 78
        }
      ]
    },
    {
      "cell_type": "markdown",
      "metadata": {
        "id": "4rKj1hNu8OY5"
      },
      "source": [
        "##*Modificación de columnas*\n",
        "\n",
        "Cambiaremos el nombre a las columnas con espacios en ellas "
      ]
    },
    {
      "cell_type": "code",
      "metadata": {
        "id": "QfHYhH398S2r",
        "colab": {
          "base_uri": "https://localhost:8080/",
          "height": 1000
        },
        "outputId": "0b6201e1-bb56-4de9-b201-06a59ade881b"
      },
      "source": [
        "df.rename(columns = {'Primary NAICS':'Primary_NAICS'})"
      ],
      "execution_count": null,
      "outputs": [
        {
          "output_type": "execute_result",
          "data": {
            "text/html": [
              "<div>\n",
              "<style scoped>\n",
              "    .dataframe tbody tr th:only-of-type {\n",
              "        vertical-align: middle;\n",
              "    }\n",
              "\n",
              "    .dataframe tbody tr th {\n",
              "        vertical-align: top;\n",
              "    }\n",
              "\n",
              "    .dataframe thead th {\n",
              "        text-align: right;\n",
              "    }\n",
              "</style>\n",
              "<table border=\"1\" class=\"dataframe\">\n",
              "  <thead>\n",
              "    <tr style=\"text-align: right;\">\n",
              "      <th></th>\n",
              "      <th>ID</th>\n",
              "      <th>UPA</th>\n",
              "      <th>EventDate</th>\n",
              "      <th>Employer</th>\n",
              "      <th>Address1</th>\n",
              "      <th>Address2</th>\n",
              "      <th>City</th>\n",
              "      <th>State</th>\n",
              "      <th>Zip</th>\n",
              "      <th>Latitude</th>\n",
              "      <th>Longitude</th>\n",
              "      <th>Primary_NAICS</th>\n",
              "      <th>Hospitalized</th>\n",
              "      <th>Amputation</th>\n",
              "      <th>Inspection</th>\n",
              "      <th>Final Narrative</th>\n",
              "      <th>Nature</th>\n",
              "      <th>NatureTitle</th>\n",
              "      <th>Part of Body</th>\n",
              "      <th>Part of Body Title</th>\n",
              "      <th>Event</th>\n",
              "      <th>EventTitle</th>\n",
              "      <th>Source</th>\n",
              "      <th>SourceTitle</th>\n",
              "      <th>Secondary Source</th>\n",
              "      <th>Secondary Source Title</th>\n",
              "    </tr>\n",
              "  </thead>\n",
              "  <tbody>\n",
              "    <tr>\n",
              "      <th>0</th>\n",
              "      <td>2015010015</td>\n",
              "      <td>931176</td>\n",
              "      <td>1/1/2015</td>\n",
              "      <td>FCI Otisville Federal Correctional Institution</td>\n",
              "      <td>Two Mile Drive</td>\n",
              "      <td>NaN</td>\n",
              "      <td>OTISVILLE</td>\n",
              "      <td>NEW YORK</td>\n",
              "      <td>10963.0</td>\n",
              "      <td>41.46</td>\n",
              "      <td>-74.53</td>\n",
              "      <td>922140</td>\n",
              "      <td>1.0</td>\n",
              "      <td>0.0</td>\n",
              "      <td>1018519.0</td>\n",
              "      <td>Three correctional facility guards were escort...</td>\n",
              "      <td>111</td>\n",
              "      <td>Fractures</td>\n",
              "      <td>513</td>\n",
              "      <td>Lower leg(s)</td>\n",
              "      <td>1214</td>\n",
              "      <td>Injured by physical contact with person while ...</td>\n",
              "      <td>5721</td>\n",
              "      <td>Co-worker</td>\n",
              "      <td>5772.0</td>\n",
              "      <td>Inmate or detainee in custody</td>\n",
              "    </tr>\n",
              "    <tr>\n",
              "      <th>1</th>\n",
              "      <td>2015010016</td>\n",
              "      <td>930267</td>\n",
              "      <td>1/1/2015</td>\n",
              "      <td>Kalahari Manufacturing LLC</td>\n",
              "      <td>171 Progress Drive</td>\n",
              "      <td>NaN</td>\n",
              "      <td>LAKE DELTON</td>\n",
              "      <td>WISCONSIN</td>\n",
              "      <td>53940.0</td>\n",
              "      <td>43.59</td>\n",
              "      <td>-89.79</td>\n",
              "      <td>339999</td>\n",
              "      <td>1.0</td>\n",
              "      <td>0.0</td>\n",
              "      <td>1016582.0</td>\n",
              "      <td>Employee in the Machine Shop received second d...</td>\n",
              "      <td>1522</td>\n",
              "      <td>Second degree heat (thermal) burns</td>\n",
              "      <td>519</td>\n",
              "      <td>Leg(s), n.e.c.</td>\n",
              "      <td>317</td>\n",
              "      <td>Ignition of vapors, gases, or liquids</td>\n",
              "      <td>7261</td>\n",
              "      <td>Welding, cutting, and blow torches</td>\n",
              "      <td>NaN</td>\n",
              "      <td>NaN</td>\n",
              "    </tr>\n",
              "    <tr>\n",
              "      <th>2</th>\n",
              "      <td>2015010018</td>\n",
              "      <td>929823</td>\n",
              "      <td>1/1/2015</td>\n",
              "      <td>Schneider National Bulk Carrier</td>\n",
              "      <td>420 CORAOPOLIS ROAD</td>\n",
              "      <td>NaN</td>\n",
              "      <td>CORAOPOLIS</td>\n",
              "      <td>PENNSYLVANIA</td>\n",
              "      <td>15108.0</td>\n",
              "      <td>40.49</td>\n",
              "      <td>-80.11</td>\n",
              "      <td>484121</td>\n",
              "      <td>1.0</td>\n",
              "      <td>0.0</td>\n",
              "      <td>NaN</td>\n",
              "      <td>A truck driver fell approximately 4 feet while...</td>\n",
              "      <td>10</td>\n",
              "      <td>Traumatic injuries and disorders, unspecified</td>\n",
              "      <td>9999</td>\n",
              "      <td>Nonclassifiable</td>\n",
              "      <td>4331</td>\n",
              "      <td>Other fall to lower level less than 6 feet</td>\n",
              "      <td>8421</td>\n",
              "      <td>Semi, tractor-trailer, tanker truck</td>\n",
              "      <td>741.0</td>\n",
              "      <td>Ladders-fixed</td>\n",
              "    </tr>\n",
              "    <tr>\n",
              "      <th>3</th>\n",
              "      <td>2015010019</td>\n",
              "      <td>929711</td>\n",
              "      <td>1/1/2015</td>\n",
              "      <td>PEPSI BOTTLING GROUP INC.</td>\n",
              "      <td>4541 HOUSTON AVE.</td>\n",
              "      <td>NaN</td>\n",
              "      <td>MACON</td>\n",
              "      <td>GEORGIA</td>\n",
              "      <td>31206.0</td>\n",
              "      <td>32.77</td>\n",
              "      <td>-83.65</td>\n",
              "      <td>424490</td>\n",
              "      <td>1.0</td>\n",
              "      <td>0.0</td>\n",
              "      <td>1017194.0</td>\n",
              "      <td>An employee's leg was pinned between a truck a...</td>\n",
              "      <td>1972</td>\n",
              "      <td>Soreness, pain, hurt-nonspecified injury</td>\n",
              "      <td>510</td>\n",
              "      <td>Leg(s), unspecified</td>\n",
              "      <td>640</td>\n",
              "      <td>Caught in or compressed by equipment or object...</td>\n",
              "      <td>8623</td>\n",
              "      <td>Pallet jack-powered</td>\n",
              "      <td>8420.0</td>\n",
              "      <td>Truck-motorized freight hauling and utility, u...</td>\n",
              "    </tr>\n",
              "    <tr>\n",
              "      <th>4</th>\n",
              "      <td>2015010020</td>\n",
              "      <td>929642</td>\n",
              "      <td>1/1/2015</td>\n",
              "      <td>North American Pipe Corporation</td>\n",
              "      <td>210 South Arch Street</td>\n",
              "      <td>NaN</td>\n",
              "      <td>JANESVILLE</td>\n",
              "      <td>WISCONSIN</td>\n",
              "      <td>53545.0</td>\n",
              "      <td>42.67</td>\n",
              "      <td>-89.04</td>\n",
              "      <td>326122</td>\n",
              "      <td>1.0</td>\n",
              "      <td>0.0</td>\n",
              "      <td>1016344.0</td>\n",
              "      <td>An employee working on the Line 6 Auto-Beller ...</td>\n",
              "      <td>111</td>\n",
              "      <td>Fractures</td>\n",
              "      <td>4429</td>\n",
              "      <td>Finger(s), fingernail(s), n.e.c.</td>\n",
              "      <td>6411</td>\n",
              "      <td>Caught in running equipment or machinery durin...</td>\n",
              "      <td>350</td>\n",
              "      <td>Metal, woodworking, and special material machi...</td>\n",
              "      <td>NaN</td>\n",
              "      <td>NaN</td>\n",
              "    </tr>\n",
              "    <tr>\n",
              "      <th>...</th>\n",
              "      <td>...</td>\n",
              "      <td>...</td>\n",
              "      <td>...</td>\n",
              "      <td>...</td>\n",
              "      <td>...</td>\n",
              "      <td>...</td>\n",
              "      <td>...</td>\n",
              "      <td>...</td>\n",
              "      <td>...</td>\n",
              "      <td>...</td>\n",
              "      <td>...</td>\n",
              "      <td>...</td>\n",
              "      <td>...</td>\n",
              "      <td>...</td>\n",
              "      <td>...</td>\n",
              "      <td>...</td>\n",
              "      <td>...</td>\n",
              "      <td>...</td>\n",
              "      <td>...</td>\n",
              "      <td>...</td>\n",
              "      <td>...</td>\n",
              "      <td>...</td>\n",
              "      <td>...</td>\n",
              "      <td>...</td>\n",
              "      <td>...</td>\n",
              "      <td>...</td>\n",
              "    </tr>\n",
              "    <tr>\n",
              "      <th>21573</th>\n",
              "      <td>2017021908</td>\n",
              "      <td>1187496</td>\n",
              "      <td>2/28/2017</td>\n",
              "      <td>JPN Masonry LLC</td>\n",
              "      <td>806 Channing Place</td>\n",
              "      <td>NaN</td>\n",
              "      <td>WASHINGTON</td>\n",
              "      <td>DISTRICT OF COLUMBIA</td>\n",
              "      <td>20008.0</td>\n",
              "      <td>38.92</td>\n",
              "      <td>-76.99</td>\n",
              "      <td>238140</td>\n",
              "      <td>1.0</td>\n",
              "      <td>0.0</td>\n",
              "      <td>1215482.0</td>\n",
              "      <td>An employee fell from the third scaffold level...</td>\n",
              "      <td>1834</td>\n",
              "      <td>Fractures and dislocations</td>\n",
              "      <td>4420</td>\n",
              "      <td>Finger(s), fingernail(s), unspecified</td>\n",
              "      <td>4320</td>\n",
              "      <td>Fall through surface or existing opening, unsp...</td>\n",
              "      <td>6340</td>\n",
              "      <td>Scaffolds-staging, unspecified</td>\n",
              "      <td>NaN</td>\n",
              "      <td>NaN</td>\n",
              "    </tr>\n",
              "    <tr>\n",
              "      <th>21574</th>\n",
              "      <td>2017021909</td>\n",
              "      <td>1187261</td>\n",
              "      <td>2/28/2017</td>\n",
              "      <td>CR MEYER</td>\n",
              "      <td>1815 Marathon Ave.</td>\n",
              "      <td>NaN</td>\n",
              "      <td>NEENAH</td>\n",
              "      <td>WISCONSIN</td>\n",
              "      <td>54956.0</td>\n",
              "      <td>44.16</td>\n",
              "      <td>-88.47</td>\n",
              "      <td>236220</td>\n",
              "      <td>1.0</td>\n",
              "      <td>0.0</td>\n",
              "      <td>1214207.0</td>\n",
              "      <td>An employee fell approximately 10 feet from a ...</td>\n",
              "      <td>111</td>\n",
              "      <td>Fractures</td>\n",
              "      <td>899</td>\n",
              "      <td>Multiple body parts, n.e.c.</td>\n",
              "      <td>4332</td>\n",
              "      <td>Other fall to lower level 6 to 10 feet</td>\n",
              "      <td>6395</td>\n",
              "      <td>Porches, balconies, decks, patios</td>\n",
              "      <td>NaN</td>\n",
              "      <td>NaN</td>\n",
              "    </tr>\n",
              "    <tr>\n",
              "      <th>21575</th>\n",
              "      <td>2017021910</td>\n",
              "      <td>1187351</td>\n",
              "      <td>2/28/2017</td>\n",
              "      <td>PHOENIX HOME CARE</td>\n",
              "      <td>353 River Bluff Drive</td>\n",
              "      <td>NaN</td>\n",
              "      <td>BRANSON</td>\n",
              "      <td>MISSOURI</td>\n",
              "      <td>65616.0</td>\n",
              "      <td>36.61</td>\n",
              "      <td>-93.27</td>\n",
              "      <td>621610</td>\n",
              "      <td>1.0</td>\n",
              "      <td>0.0</td>\n",
              "      <td>NaN</td>\n",
              "      <td>An employee was walking down a flight of three...</td>\n",
              "      <td>111</td>\n",
              "      <td>Fractures</td>\n",
              "      <td>513</td>\n",
              "      <td>Lower leg(s)</td>\n",
              "      <td>4331</td>\n",
              "      <td>Other fall to lower level less than 6 feet</td>\n",
              "      <td>6611</td>\n",
              "      <td>Stairs, steps-indoors</td>\n",
              "      <td>NaN</td>\n",
              "      <td>NaN</td>\n",
              "    </tr>\n",
              "    <tr>\n",
              "      <th>21576</th>\n",
              "      <td>2017021911</td>\n",
              "      <td>1187282</td>\n",
              "      <td>2/28/2017</td>\n",
              "      <td>Cross Insulation, Inc.</td>\n",
              "      <td>West Fargo New Construction</td>\n",
              "      <td>NaN</td>\n",
              "      <td>WEST FARGO</td>\n",
              "      <td>NORTH DAKOTA</td>\n",
              "      <td>58078.0</td>\n",
              "      <td>46.87</td>\n",
              "      <td>-96.93</td>\n",
              "      <td>238310</td>\n",
              "      <td>1.0</td>\n",
              "      <td>0.0</td>\n",
              "      <td>1216894.0</td>\n",
              "      <td>An employee was hospitalized for carbon monoxi...</td>\n",
              "      <td>1961</td>\n",
              "      <td>Poisoning, including poisoning-related asphyxia</td>\n",
              "      <td>6</td>\n",
              "      <td>BODY SYSTEMS</td>\n",
              "      <td>5521</td>\n",
              "      <td>Inhalation of harmful substance-single episode</td>\n",
              "      <td>1741</td>\n",
              "      <td>Carbon monoxide</td>\n",
              "      <td>NaN</td>\n",
              "      <td>NaN</td>\n",
              "    </tr>\n",
              "    <tr>\n",
              "      <th>21577</th>\n",
              "      <td>2017021912</td>\n",
              "      <td>1187132</td>\n",
              "      <td>2/28/2017</td>\n",
              "      <td>JV MANUFACTURING, INC.</td>\n",
              "      <td>701 Butterfield Coach Road</td>\n",
              "      <td>NaN</td>\n",
              "      <td>SPRINGDALE</td>\n",
              "      <td>ARKANSAS</td>\n",
              "      <td>72765.0</td>\n",
              "      <td>36.17</td>\n",
              "      <td>-94.09</td>\n",
              "      <td>333319</td>\n",
              "      <td>1.0</td>\n",
              "      <td>0.0</td>\n",
              "      <td>NaN</td>\n",
              "      <td>An employee was cutting the strapping on a bun...</td>\n",
              "      <td>111</td>\n",
              "      <td>Fractures</td>\n",
              "      <td>510</td>\n",
              "      <td>Leg(s), unspecified</td>\n",
              "      <td>6239</td>\n",
              "      <td>Struck by falling object or equipment, n.e.c.</td>\n",
              "      <td>2131</td>\n",
              "      <td>Bundles, bales</td>\n",
              "      <td>NaN</td>\n",
              "      <td>NaN</td>\n",
              "    </tr>\n",
              "  </tbody>\n",
              "</table>\n",
              "<p>21578 rows × 26 columns</p>\n",
              "</div>"
            ],
            "text/plain": [
              "               ID  ...                             Secondary Source Title\n",
              "0      2015010015  ...                      Inmate or detainee in custody\n",
              "1      2015010016  ...                                                NaN\n",
              "2      2015010018  ...                                      Ladders-fixed\n",
              "3      2015010019  ...  Truck-motorized freight hauling and utility, u...\n",
              "4      2015010020  ...                                                NaN\n",
              "...           ...  ...                                                ...\n",
              "21573  2017021908  ...                                                NaN\n",
              "21574  2017021909  ...                                                NaN\n",
              "21575  2017021910  ...                                                NaN\n",
              "21576  2017021911  ...                                                NaN\n",
              "21577  2017021912  ...                                                NaN\n",
              "\n",
              "[21578 rows x 26 columns]"
            ]
          },
          "metadata": {},
          "execution_count": 79
        }
      ]
    },
    {
      "cell_type": "code",
      "metadata": {
        "id": "cgfnM6Kl82F2",
        "colab": {
          "base_uri": "https://localhost:8080/",
          "height": 1000
        },
        "outputId": "5c8f807c-857e-4898-b9e2-b78328488021"
      },
      "source": [
        "df.rename(columns = {'Final Narrative':'Final_Narrative'})"
      ],
      "execution_count": null,
      "outputs": [
        {
          "output_type": "execute_result",
          "data": {
            "text/html": [
              "<div>\n",
              "<style scoped>\n",
              "    .dataframe tbody tr th:only-of-type {\n",
              "        vertical-align: middle;\n",
              "    }\n",
              "\n",
              "    .dataframe tbody tr th {\n",
              "        vertical-align: top;\n",
              "    }\n",
              "\n",
              "    .dataframe thead th {\n",
              "        text-align: right;\n",
              "    }\n",
              "</style>\n",
              "<table border=\"1\" class=\"dataframe\">\n",
              "  <thead>\n",
              "    <tr style=\"text-align: right;\">\n",
              "      <th></th>\n",
              "      <th>ID</th>\n",
              "      <th>UPA</th>\n",
              "      <th>EventDate</th>\n",
              "      <th>Employer</th>\n",
              "      <th>Address1</th>\n",
              "      <th>Address2</th>\n",
              "      <th>City</th>\n",
              "      <th>State</th>\n",
              "      <th>Zip</th>\n",
              "      <th>Latitude</th>\n",
              "      <th>Longitude</th>\n",
              "      <th>Primary NAICS</th>\n",
              "      <th>Hospitalized</th>\n",
              "      <th>Amputation</th>\n",
              "      <th>Inspection</th>\n",
              "      <th>Final_Narrative</th>\n",
              "      <th>Nature</th>\n",
              "      <th>NatureTitle</th>\n",
              "      <th>Part of Body</th>\n",
              "      <th>Part of Body Title</th>\n",
              "      <th>Event</th>\n",
              "      <th>EventTitle</th>\n",
              "      <th>Source</th>\n",
              "      <th>SourceTitle</th>\n",
              "      <th>Secondary Source</th>\n",
              "      <th>Secondary Source Title</th>\n",
              "    </tr>\n",
              "  </thead>\n",
              "  <tbody>\n",
              "    <tr>\n",
              "      <th>0</th>\n",
              "      <td>2015010015</td>\n",
              "      <td>931176</td>\n",
              "      <td>1/1/2015</td>\n",
              "      <td>FCI Otisville Federal Correctional Institution</td>\n",
              "      <td>Two Mile Drive</td>\n",
              "      <td>NaN</td>\n",
              "      <td>OTISVILLE</td>\n",
              "      <td>NEW YORK</td>\n",
              "      <td>10963.0</td>\n",
              "      <td>41.46</td>\n",
              "      <td>-74.53</td>\n",
              "      <td>922140</td>\n",
              "      <td>1.0</td>\n",
              "      <td>0.0</td>\n",
              "      <td>1018519.0</td>\n",
              "      <td>Three correctional facility guards were escort...</td>\n",
              "      <td>111</td>\n",
              "      <td>Fractures</td>\n",
              "      <td>513</td>\n",
              "      <td>Lower leg(s)</td>\n",
              "      <td>1214</td>\n",
              "      <td>Injured by physical contact with person while ...</td>\n",
              "      <td>5721</td>\n",
              "      <td>Co-worker</td>\n",
              "      <td>5772.0</td>\n",
              "      <td>Inmate or detainee in custody</td>\n",
              "    </tr>\n",
              "    <tr>\n",
              "      <th>1</th>\n",
              "      <td>2015010016</td>\n",
              "      <td>930267</td>\n",
              "      <td>1/1/2015</td>\n",
              "      <td>Kalahari Manufacturing LLC</td>\n",
              "      <td>171 Progress Drive</td>\n",
              "      <td>NaN</td>\n",
              "      <td>LAKE DELTON</td>\n",
              "      <td>WISCONSIN</td>\n",
              "      <td>53940.0</td>\n",
              "      <td>43.59</td>\n",
              "      <td>-89.79</td>\n",
              "      <td>339999</td>\n",
              "      <td>1.0</td>\n",
              "      <td>0.0</td>\n",
              "      <td>1016582.0</td>\n",
              "      <td>Employee in the Machine Shop received second d...</td>\n",
              "      <td>1522</td>\n",
              "      <td>Second degree heat (thermal) burns</td>\n",
              "      <td>519</td>\n",
              "      <td>Leg(s), n.e.c.</td>\n",
              "      <td>317</td>\n",
              "      <td>Ignition of vapors, gases, or liquids</td>\n",
              "      <td>7261</td>\n",
              "      <td>Welding, cutting, and blow torches</td>\n",
              "      <td>NaN</td>\n",
              "      <td>NaN</td>\n",
              "    </tr>\n",
              "    <tr>\n",
              "      <th>2</th>\n",
              "      <td>2015010018</td>\n",
              "      <td>929823</td>\n",
              "      <td>1/1/2015</td>\n",
              "      <td>Schneider National Bulk Carrier</td>\n",
              "      <td>420 CORAOPOLIS ROAD</td>\n",
              "      <td>NaN</td>\n",
              "      <td>CORAOPOLIS</td>\n",
              "      <td>PENNSYLVANIA</td>\n",
              "      <td>15108.0</td>\n",
              "      <td>40.49</td>\n",
              "      <td>-80.11</td>\n",
              "      <td>484121</td>\n",
              "      <td>1.0</td>\n",
              "      <td>0.0</td>\n",
              "      <td>NaN</td>\n",
              "      <td>A truck driver fell approximately 4 feet while...</td>\n",
              "      <td>10</td>\n",
              "      <td>Traumatic injuries and disorders, unspecified</td>\n",
              "      <td>9999</td>\n",
              "      <td>Nonclassifiable</td>\n",
              "      <td>4331</td>\n",
              "      <td>Other fall to lower level less than 6 feet</td>\n",
              "      <td>8421</td>\n",
              "      <td>Semi, tractor-trailer, tanker truck</td>\n",
              "      <td>741.0</td>\n",
              "      <td>Ladders-fixed</td>\n",
              "    </tr>\n",
              "    <tr>\n",
              "      <th>3</th>\n",
              "      <td>2015010019</td>\n",
              "      <td>929711</td>\n",
              "      <td>1/1/2015</td>\n",
              "      <td>PEPSI BOTTLING GROUP INC.</td>\n",
              "      <td>4541 HOUSTON AVE.</td>\n",
              "      <td>NaN</td>\n",
              "      <td>MACON</td>\n",
              "      <td>GEORGIA</td>\n",
              "      <td>31206.0</td>\n",
              "      <td>32.77</td>\n",
              "      <td>-83.65</td>\n",
              "      <td>424490</td>\n",
              "      <td>1.0</td>\n",
              "      <td>0.0</td>\n",
              "      <td>1017194.0</td>\n",
              "      <td>An employee's leg was pinned between a truck a...</td>\n",
              "      <td>1972</td>\n",
              "      <td>Soreness, pain, hurt-nonspecified injury</td>\n",
              "      <td>510</td>\n",
              "      <td>Leg(s), unspecified</td>\n",
              "      <td>640</td>\n",
              "      <td>Caught in or compressed by equipment or object...</td>\n",
              "      <td>8623</td>\n",
              "      <td>Pallet jack-powered</td>\n",
              "      <td>8420.0</td>\n",
              "      <td>Truck-motorized freight hauling and utility, u...</td>\n",
              "    </tr>\n",
              "    <tr>\n",
              "      <th>4</th>\n",
              "      <td>2015010020</td>\n",
              "      <td>929642</td>\n",
              "      <td>1/1/2015</td>\n",
              "      <td>North American Pipe Corporation</td>\n",
              "      <td>210 South Arch Street</td>\n",
              "      <td>NaN</td>\n",
              "      <td>JANESVILLE</td>\n",
              "      <td>WISCONSIN</td>\n",
              "      <td>53545.0</td>\n",
              "      <td>42.67</td>\n",
              "      <td>-89.04</td>\n",
              "      <td>326122</td>\n",
              "      <td>1.0</td>\n",
              "      <td>0.0</td>\n",
              "      <td>1016344.0</td>\n",
              "      <td>An employee working on the Line 6 Auto-Beller ...</td>\n",
              "      <td>111</td>\n",
              "      <td>Fractures</td>\n",
              "      <td>4429</td>\n",
              "      <td>Finger(s), fingernail(s), n.e.c.</td>\n",
              "      <td>6411</td>\n",
              "      <td>Caught in running equipment or machinery durin...</td>\n",
              "      <td>350</td>\n",
              "      <td>Metal, woodworking, and special material machi...</td>\n",
              "      <td>NaN</td>\n",
              "      <td>NaN</td>\n",
              "    </tr>\n",
              "    <tr>\n",
              "      <th>...</th>\n",
              "      <td>...</td>\n",
              "      <td>...</td>\n",
              "      <td>...</td>\n",
              "      <td>...</td>\n",
              "      <td>...</td>\n",
              "      <td>...</td>\n",
              "      <td>...</td>\n",
              "      <td>...</td>\n",
              "      <td>...</td>\n",
              "      <td>...</td>\n",
              "      <td>...</td>\n",
              "      <td>...</td>\n",
              "      <td>...</td>\n",
              "      <td>...</td>\n",
              "      <td>...</td>\n",
              "      <td>...</td>\n",
              "      <td>...</td>\n",
              "      <td>...</td>\n",
              "      <td>...</td>\n",
              "      <td>...</td>\n",
              "      <td>...</td>\n",
              "      <td>...</td>\n",
              "      <td>...</td>\n",
              "      <td>...</td>\n",
              "      <td>...</td>\n",
              "      <td>...</td>\n",
              "    </tr>\n",
              "    <tr>\n",
              "      <th>21573</th>\n",
              "      <td>2017021908</td>\n",
              "      <td>1187496</td>\n",
              "      <td>2/28/2017</td>\n",
              "      <td>JPN Masonry LLC</td>\n",
              "      <td>806 Channing Place</td>\n",
              "      <td>NaN</td>\n",
              "      <td>WASHINGTON</td>\n",
              "      <td>DISTRICT OF COLUMBIA</td>\n",
              "      <td>20008.0</td>\n",
              "      <td>38.92</td>\n",
              "      <td>-76.99</td>\n",
              "      <td>238140</td>\n",
              "      <td>1.0</td>\n",
              "      <td>0.0</td>\n",
              "      <td>1215482.0</td>\n",
              "      <td>An employee fell from the third scaffold level...</td>\n",
              "      <td>1834</td>\n",
              "      <td>Fractures and dislocations</td>\n",
              "      <td>4420</td>\n",
              "      <td>Finger(s), fingernail(s), unspecified</td>\n",
              "      <td>4320</td>\n",
              "      <td>Fall through surface or existing opening, unsp...</td>\n",
              "      <td>6340</td>\n",
              "      <td>Scaffolds-staging, unspecified</td>\n",
              "      <td>NaN</td>\n",
              "      <td>NaN</td>\n",
              "    </tr>\n",
              "    <tr>\n",
              "      <th>21574</th>\n",
              "      <td>2017021909</td>\n",
              "      <td>1187261</td>\n",
              "      <td>2/28/2017</td>\n",
              "      <td>CR MEYER</td>\n",
              "      <td>1815 Marathon Ave.</td>\n",
              "      <td>NaN</td>\n",
              "      <td>NEENAH</td>\n",
              "      <td>WISCONSIN</td>\n",
              "      <td>54956.0</td>\n",
              "      <td>44.16</td>\n",
              "      <td>-88.47</td>\n",
              "      <td>236220</td>\n",
              "      <td>1.0</td>\n",
              "      <td>0.0</td>\n",
              "      <td>1214207.0</td>\n",
              "      <td>An employee fell approximately 10 feet from a ...</td>\n",
              "      <td>111</td>\n",
              "      <td>Fractures</td>\n",
              "      <td>899</td>\n",
              "      <td>Multiple body parts, n.e.c.</td>\n",
              "      <td>4332</td>\n",
              "      <td>Other fall to lower level 6 to 10 feet</td>\n",
              "      <td>6395</td>\n",
              "      <td>Porches, balconies, decks, patios</td>\n",
              "      <td>NaN</td>\n",
              "      <td>NaN</td>\n",
              "    </tr>\n",
              "    <tr>\n",
              "      <th>21575</th>\n",
              "      <td>2017021910</td>\n",
              "      <td>1187351</td>\n",
              "      <td>2/28/2017</td>\n",
              "      <td>PHOENIX HOME CARE</td>\n",
              "      <td>353 River Bluff Drive</td>\n",
              "      <td>NaN</td>\n",
              "      <td>BRANSON</td>\n",
              "      <td>MISSOURI</td>\n",
              "      <td>65616.0</td>\n",
              "      <td>36.61</td>\n",
              "      <td>-93.27</td>\n",
              "      <td>621610</td>\n",
              "      <td>1.0</td>\n",
              "      <td>0.0</td>\n",
              "      <td>NaN</td>\n",
              "      <td>An employee was walking down a flight of three...</td>\n",
              "      <td>111</td>\n",
              "      <td>Fractures</td>\n",
              "      <td>513</td>\n",
              "      <td>Lower leg(s)</td>\n",
              "      <td>4331</td>\n",
              "      <td>Other fall to lower level less than 6 feet</td>\n",
              "      <td>6611</td>\n",
              "      <td>Stairs, steps-indoors</td>\n",
              "      <td>NaN</td>\n",
              "      <td>NaN</td>\n",
              "    </tr>\n",
              "    <tr>\n",
              "      <th>21576</th>\n",
              "      <td>2017021911</td>\n",
              "      <td>1187282</td>\n",
              "      <td>2/28/2017</td>\n",
              "      <td>Cross Insulation, Inc.</td>\n",
              "      <td>West Fargo New Construction</td>\n",
              "      <td>NaN</td>\n",
              "      <td>WEST FARGO</td>\n",
              "      <td>NORTH DAKOTA</td>\n",
              "      <td>58078.0</td>\n",
              "      <td>46.87</td>\n",
              "      <td>-96.93</td>\n",
              "      <td>238310</td>\n",
              "      <td>1.0</td>\n",
              "      <td>0.0</td>\n",
              "      <td>1216894.0</td>\n",
              "      <td>An employee was hospitalized for carbon monoxi...</td>\n",
              "      <td>1961</td>\n",
              "      <td>Poisoning, including poisoning-related asphyxia</td>\n",
              "      <td>6</td>\n",
              "      <td>BODY SYSTEMS</td>\n",
              "      <td>5521</td>\n",
              "      <td>Inhalation of harmful substance-single episode</td>\n",
              "      <td>1741</td>\n",
              "      <td>Carbon monoxide</td>\n",
              "      <td>NaN</td>\n",
              "      <td>NaN</td>\n",
              "    </tr>\n",
              "    <tr>\n",
              "      <th>21577</th>\n",
              "      <td>2017021912</td>\n",
              "      <td>1187132</td>\n",
              "      <td>2/28/2017</td>\n",
              "      <td>JV MANUFACTURING, INC.</td>\n",
              "      <td>701 Butterfield Coach Road</td>\n",
              "      <td>NaN</td>\n",
              "      <td>SPRINGDALE</td>\n",
              "      <td>ARKANSAS</td>\n",
              "      <td>72765.0</td>\n",
              "      <td>36.17</td>\n",
              "      <td>-94.09</td>\n",
              "      <td>333319</td>\n",
              "      <td>1.0</td>\n",
              "      <td>0.0</td>\n",
              "      <td>NaN</td>\n",
              "      <td>An employee was cutting the strapping on a bun...</td>\n",
              "      <td>111</td>\n",
              "      <td>Fractures</td>\n",
              "      <td>510</td>\n",
              "      <td>Leg(s), unspecified</td>\n",
              "      <td>6239</td>\n",
              "      <td>Struck by falling object or equipment, n.e.c.</td>\n",
              "      <td>2131</td>\n",
              "      <td>Bundles, bales</td>\n",
              "      <td>NaN</td>\n",
              "      <td>NaN</td>\n",
              "    </tr>\n",
              "  </tbody>\n",
              "</table>\n",
              "<p>21578 rows × 26 columns</p>\n",
              "</div>"
            ],
            "text/plain": [
              "               ID  ...                             Secondary Source Title\n",
              "0      2015010015  ...                      Inmate or detainee in custody\n",
              "1      2015010016  ...                                                NaN\n",
              "2      2015010018  ...                                      Ladders-fixed\n",
              "3      2015010019  ...  Truck-motorized freight hauling and utility, u...\n",
              "4      2015010020  ...                                                NaN\n",
              "...           ...  ...                                                ...\n",
              "21573  2017021908  ...                                                NaN\n",
              "21574  2017021909  ...                                                NaN\n",
              "21575  2017021910  ...                                                NaN\n",
              "21576  2017021911  ...                                                NaN\n",
              "21577  2017021912  ...                                                NaN\n",
              "\n",
              "[21578 rows x 26 columns]"
            ]
          },
          "metadata": {},
          "execution_count": 80
        }
      ]
    },
    {
      "cell_type": "code",
      "metadata": {
        "id": "7uaukfLF9NBL",
        "colab": {
          "base_uri": "https://localhost:8080/",
          "height": 1000
        },
        "outputId": "134064df-f4f9-4e91-b576-8818a3078641"
      },
      "source": [
        "df.rename(columns = {'Part of Body':'Part_of_Body'})\n",
        "df.rename(columns = {'Secondary Source':'Secondary_Source'})\n",
        "df.rename(columns = {'Part of Body Title':'Part_of_Body_Title'})\n",
        "df.rename(columns = {'Secondary Source Title':'Secondary_Source_Title'})"
      ],
      "execution_count": null,
      "outputs": [
        {
          "output_type": "execute_result",
          "data": {
            "text/html": [
              "<div>\n",
              "<style scoped>\n",
              "    .dataframe tbody tr th:only-of-type {\n",
              "        vertical-align: middle;\n",
              "    }\n",
              "\n",
              "    .dataframe tbody tr th {\n",
              "        vertical-align: top;\n",
              "    }\n",
              "\n",
              "    .dataframe thead th {\n",
              "        text-align: right;\n",
              "    }\n",
              "</style>\n",
              "<table border=\"1\" class=\"dataframe\">\n",
              "  <thead>\n",
              "    <tr style=\"text-align: right;\">\n",
              "      <th></th>\n",
              "      <th>ID</th>\n",
              "      <th>UPA</th>\n",
              "      <th>EventDate</th>\n",
              "      <th>Employer</th>\n",
              "      <th>Address1</th>\n",
              "      <th>Address2</th>\n",
              "      <th>City</th>\n",
              "      <th>State</th>\n",
              "      <th>Zip</th>\n",
              "      <th>Latitude</th>\n",
              "      <th>Longitude</th>\n",
              "      <th>Primary NAICS</th>\n",
              "      <th>Hospitalized</th>\n",
              "      <th>Amputation</th>\n",
              "      <th>Inspection</th>\n",
              "      <th>Final Narrative</th>\n",
              "      <th>Nature</th>\n",
              "      <th>NatureTitle</th>\n",
              "      <th>Part of Body</th>\n",
              "      <th>Part of Body Title</th>\n",
              "      <th>Event</th>\n",
              "      <th>EventTitle</th>\n",
              "      <th>Source</th>\n",
              "      <th>SourceTitle</th>\n",
              "      <th>Secondary Source</th>\n",
              "      <th>Secondary_Source_Title</th>\n",
              "    </tr>\n",
              "  </thead>\n",
              "  <tbody>\n",
              "    <tr>\n",
              "      <th>0</th>\n",
              "      <td>2015010015</td>\n",
              "      <td>931176</td>\n",
              "      <td>1/1/2015</td>\n",
              "      <td>FCI Otisville Federal Correctional Institution</td>\n",
              "      <td>Two Mile Drive</td>\n",
              "      <td>NaN</td>\n",
              "      <td>OTISVILLE</td>\n",
              "      <td>NEW YORK</td>\n",
              "      <td>10963.0</td>\n",
              "      <td>41.46</td>\n",
              "      <td>-74.53</td>\n",
              "      <td>922140</td>\n",
              "      <td>1.0</td>\n",
              "      <td>0.0</td>\n",
              "      <td>1018519.0</td>\n",
              "      <td>Three correctional facility guards were escort...</td>\n",
              "      <td>111</td>\n",
              "      <td>Fractures</td>\n",
              "      <td>513</td>\n",
              "      <td>Lower leg(s)</td>\n",
              "      <td>1214</td>\n",
              "      <td>Injured by physical contact with person while ...</td>\n",
              "      <td>5721</td>\n",
              "      <td>Co-worker</td>\n",
              "      <td>5772.0</td>\n",
              "      <td>Inmate or detainee in custody</td>\n",
              "    </tr>\n",
              "    <tr>\n",
              "      <th>1</th>\n",
              "      <td>2015010016</td>\n",
              "      <td>930267</td>\n",
              "      <td>1/1/2015</td>\n",
              "      <td>Kalahari Manufacturing LLC</td>\n",
              "      <td>171 Progress Drive</td>\n",
              "      <td>NaN</td>\n",
              "      <td>LAKE DELTON</td>\n",
              "      <td>WISCONSIN</td>\n",
              "      <td>53940.0</td>\n",
              "      <td>43.59</td>\n",
              "      <td>-89.79</td>\n",
              "      <td>339999</td>\n",
              "      <td>1.0</td>\n",
              "      <td>0.0</td>\n",
              "      <td>1016582.0</td>\n",
              "      <td>Employee in the Machine Shop received second d...</td>\n",
              "      <td>1522</td>\n",
              "      <td>Second degree heat (thermal) burns</td>\n",
              "      <td>519</td>\n",
              "      <td>Leg(s), n.e.c.</td>\n",
              "      <td>317</td>\n",
              "      <td>Ignition of vapors, gases, or liquids</td>\n",
              "      <td>7261</td>\n",
              "      <td>Welding, cutting, and blow torches</td>\n",
              "      <td>NaN</td>\n",
              "      <td>NaN</td>\n",
              "    </tr>\n",
              "    <tr>\n",
              "      <th>2</th>\n",
              "      <td>2015010018</td>\n",
              "      <td>929823</td>\n",
              "      <td>1/1/2015</td>\n",
              "      <td>Schneider National Bulk Carrier</td>\n",
              "      <td>420 CORAOPOLIS ROAD</td>\n",
              "      <td>NaN</td>\n",
              "      <td>CORAOPOLIS</td>\n",
              "      <td>PENNSYLVANIA</td>\n",
              "      <td>15108.0</td>\n",
              "      <td>40.49</td>\n",
              "      <td>-80.11</td>\n",
              "      <td>484121</td>\n",
              "      <td>1.0</td>\n",
              "      <td>0.0</td>\n",
              "      <td>NaN</td>\n",
              "      <td>A truck driver fell approximately 4 feet while...</td>\n",
              "      <td>10</td>\n",
              "      <td>Traumatic injuries and disorders, unspecified</td>\n",
              "      <td>9999</td>\n",
              "      <td>Nonclassifiable</td>\n",
              "      <td>4331</td>\n",
              "      <td>Other fall to lower level less than 6 feet</td>\n",
              "      <td>8421</td>\n",
              "      <td>Semi, tractor-trailer, tanker truck</td>\n",
              "      <td>741.0</td>\n",
              "      <td>Ladders-fixed</td>\n",
              "    </tr>\n",
              "    <tr>\n",
              "      <th>3</th>\n",
              "      <td>2015010019</td>\n",
              "      <td>929711</td>\n",
              "      <td>1/1/2015</td>\n",
              "      <td>PEPSI BOTTLING GROUP INC.</td>\n",
              "      <td>4541 HOUSTON AVE.</td>\n",
              "      <td>NaN</td>\n",
              "      <td>MACON</td>\n",
              "      <td>GEORGIA</td>\n",
              "      <td>31206.0</td>\n",
              "      <td>32.77</td>\n",
              "      <td>-83.65</td>\n",
              "      <td>424490</td>\n",
              "      <td>1.0</td>\n",
              "      <td>0.0</td>\n",
              "      <td>1017194.0</td>\n",
              "      <td>An employee's leg was pinned between a truck a...</td>\n",
              "      <td>1972</td>\n",
              "      <td>Soreness, pain, hurt-nonspecified injury</td>\n",
              "      <td>510</td>\n",
              "      <td>Leg(s), unspecified</td>\n",
              "      <td>640</td>\n",
              "      <td>Caught in or compressed by equipment or object...</td>\n",
              "      <td>8623</td>\n",
              "      <td>Pallet jack-powered</td>\n",
              "      <td>8420.0</td>\n",
              "      <td>Truck-motorized freight hauling and utility, u...</td>\n",
              "    </tr>\n",
              "    <tr>\n",
              "      <th>4</th>\n",
              "      <td>2015010020</td>\n",
              "      <td>929642</td>\n",
              "      <td>1/1/2015</td>\n",
              "      <td>North American Pipe Corporation</td>\n",
              "      <td>210 South Arch Street</td>\n",
              "      <td>NaN</td>\n",
              "      <td>JANESVILLE</td>\n",
              "      <td>WISCONSIN</td>\n",
              "      <td>53545.0</td>\n",
              "      <td>42.67</td>\n",
              "      <td>-89.04</td>\n",
              "      <td>326122</td>\n",
              "      <td>1.0</td>\n",
              "      <td>0.0</td>\n",
              "      <td>1016344.0</td>\n",
              "      <td>An employee working on the Line 6 Auto-Beller ...</td>\n",
              "      <td>111</td>\n",
              "      <td>Fractures</td>\n",
              "      <td>4429</td>\n",
              "      <td>Finger(s), fingernail(s), n.e.c.</td>\n",
              "      <td>6411</td>\n",
              "      <td>Caught in running equipment or machinery durin...</td>\n",
              "      <td>350</td>\n",
              "      <td>Metal, woodworking, and special material machi...</td>\n",
              "      <td>NaN</td>\n",
              "      <td>NaN</td>\n",
              "    </tr>\n",
              "    <tr>\n",
              "      <th>...</th>\n",
              "      <td>...</td>\n",
              "      <td>...</td>\n",
              "      <td>...</td>\n",
              "      <td>...</td>\n",
              "      <td>...</td>\n",
              "      <td>...</td>\n",
              "      <td>...</td>\n",
              "      <td>...</td>\n",
              "      <td>...</td>\n",
              "      <td>...</td>\n",
              "      <td>...</td>\n",
              "      <td>...</td>\n",
              "      <td>...</td>\n",
              "      <td>...</td>\n",
              "      <td>...</td>\n",
              "      <td>...</td>\n",
              "      <td>...</td>\n",
              "      <td>...</td>\n",
              "      <td>...</td>\n",
              "      <td>...</td>\n",
              "      <td>...</td>\n",
              "      <td>...</td>\n",
              "      <td>...</td>\n",
              "      <td>...</td>\n",
              "      <td>...</td>\n",
              "      <td>...</td>\n",
              "    </tr>\n",
              "    <tr>\n",
              "      <th>21573</th>\n",
              "      <td>2017021908</td>\n",
              "      <td>1187496</td>\n",
              "      <td>2/28/2017</td>\n",
              "      <td>JPN Masonry LLC</td>\n",
              "      <td>806 Channing Place</td>\n",
              "      <td>NaN</td>\n",
              "      <td>WASHINGTON</td>\n",
              "      <td>DISTRICT OF COLUMBIA</td>\n",
              "      <td>20008.0</td>\n",
              "      <td>38.92</td>\n",
              "      <td>-76.99</td>\n",
              "      <td>238140</td>\n",
              "      <td>1.0</td>\n",
              "      <td>0.0</td>\n",
              "      <td>1215482.0</td>\n",
              "      <td>An employee fell from the third scaffold level...</td>\n",
              "      <td>1834</td>\n",
              "      <td>Fractures and dislocations</td>\n",
              "      <td>4420</td>\n",
              "      <td>Finger(s), fingernail(s), unspecified</td>\n",
              "      <td>4320</td>\n",
              "      <td>Fall through surface or existing opening, unsp...</td>\n",
              "      <td>6340</td>\n",
              "      <td>Scaffolds-staging, unspecified</td>\n",
              "      <td>NaN</td>\n",
              "      <td>NaN</td>\n",
              "    </tr>\n",
              "    <tr>\n",
              "      <th>21574</th>\n",
              "      <td>2017021909</td>\n",
              "      <td>1187261</td>\n",
              "      <td>2/28/2017</td>\n",
              "      <td>CR MEYER</td>\n",
              "      <td>1815 Marathon Ave.</td>\n",
              "      <td>NaN</td>\n",
              "      <td>NEENAH</td>\n",
              "      <td>WISCONSIN</td>\n",
              "      <td>54956.0</td>\n",
              "      <td>44.16</td>\n",
              "      <td>-88.47</td>\n",
              "      <td>236220</td>\n",
              "      <td>1.0</td>\n",
              "      <td>0.0</td>\n",
              "      <td>1214207.0</td>\n",
              "      <td>An employee fell approximately 10 feet from a ...</td>\n",
              "      <td>111</td>\n",
              "      <td>Fractures</td>\n",
              "      <td>899</td>\n",
              "      <td>Multiple body parts, n.e.c.</td>\n",
              "      <td>4332</td>\n",
              "      <td>Other fall to lower level 6 to 10 feet</td>\n",
              "      <td>6395</td>\n",
              "      <td>Porches, balconies, decks, patios</td>\n",
              "      <td>NaN</td>\n",
              "      <td>NaN</td>\n",
              "    </tr>\n",
              "    <tr>\n",
              "      <th>21575</th>\n",
              "      <td>2017021910</td>\n",
              "      <td>1187351</td>\n",
              "      <td>2/28/2017</td>\n",
              "      <td>PHOENIX HOME CARE</td>\n",
              "      <td>353 River Bluff Drive</td>\n",
              "      <td>NaN</td>\n",
              "      <td>BRANSON</td>\n",
              "      <td>MISSOURI</td>\n",
              "      <td>65616.0</td>\n",
              "      <td>36.61</td>\n",
              "      <td>-93.27</td>\n",
              "      <td>621610</td>\n",
              "      <td>1.0</td>\n",
              "      <td>0.0</td>\n",
              "      <td>NaN</td>\n",
              "      <td>An employee was walking down a flight of three...</td>\n",
              "      <td>111</td>\n",
              "      <td>Fractures</td>\n",
              "      <td>513</td>\n",
              "      <td>Lower leg(s)</td>\n",
              "      <td>4331</td>\n",
              "      <td>Other fall to lower level less than 6 feet</td>\n",
              "      <td>6611</td>\n",
              "      <td>Stairs, steps-indoors</td>\n",
              "      <td>NaN</td>\n",
              "      <td>NaN</td>\n",
              "    </tr>\n",
              "    <tr>\n",
              "      <th>21576</th>\n",
              "      <td>2017021911</td>\n",
              "      <td>1187282</td>\n",
              "      <td>2/28/2017</td>\n",
              "      <td>Cross Insulation, Inc.</td>\n",
              "      <td>West Fargo New Construction</td>\n",
              "      <td>NaN</td>\n",
              "      <td>WEST FARGO</td>\n",
              "      <td>NORTH DAKOTA</td>\n",
              "      <td>58078.0</td>\n",
              "      <td>46.87</td>\n",
              "      <td>-96.93</td>\n",
              "      <td>238310</td>\n",
              "      <td>1.0</td>\n",
              "      <td>0.0</td>\n",
              "      <td>1216894.0</td>\n",
              "      <td>An employee was hospitalized for carbon monoxi...</td>\n",
              "      <td>1961</td>\n",
              "      <td>Poisoning, including poisoning-related asphyxia</td>\n",
              "      <td>6</td>\n",
              "      <td>BODY SYSTEMS</td>\n",
              "      <td>5521</td>\n",
              "      <td>Inhalation of harmful substance-single episode</td>\n",
              "      <td>1741</td>\n",
              "      <td>Carbon monoxide</td>\n",
              "      <td>NaN</td>\n",
              "      <td>NaN</td>\n",
              "    </tr>\n",
              "    <tr>\n",
              "      <th>21577</th>\n",
              "      <td>2017021912</td>\n",
              "      <td>1187132</td>\n",
              "      <td>2/28/2017</td>\n",
              "      <td>JV MANUFACTURING, INC.</td>\n",
              "      <td>701 Butterfield Coach Road</td>\n",
              "      <td>NaN</td>\n",
              "      <td>SPRINGDALE</td>\n",
              "      <td>ARKANSAS</td>\n",
              "      <td>72765.0</td>\n",
              "      <td>36.17</td>\n",
              "      <td>-94.09</td>\n",
              "      <td>333319</td>\n",
              "      <td>1.0</td>\n",
              "      <td>0.0</td>\n",
              "      <td>NaN</td>\n",
              "      <td>An employee was cutting the strapping on a bun...</td>\n",
              "      <td>111</td>\n",
              "      <td>Fractures</td>\n",
              "      <td>510</td>\n",
              "      <td>Leg(s), unspecified</td>\n",
              "      <td>6239</td>\n",
              "      <td>Struck by falling object or equipment, n.e.c.</td>\n",
              "      <td>2131</td>\n",
              "      <td>Bundles, bales</td>\n",
              "      <td>NaN</td>\n",
              "      <td>NaN</td>\n",
              "    </tr>\n",
              "  </tbody>\n",
              "</table>\n",
              "<p>21578 rows × 26 columns</p>\n",
              "</div>"
            ],
            "text/plain": [
              "               ID  ...                             Secondary_Source_Title\n",
              "0      2015010015  ...                      Inmate or detainee in custody\n",
              "1      2015010016  ...                                                NaN\n",
              "2      2015010018  ...                                      Ladders-fixed\n",
              "3      2015010019  ...  Truck-motorized freight hauling and utility, u...\n",
              "4      2015010020  ...                                                NaN\n",
              "...           ...  ...                                                ...\n",
              "21573  2017021908  ...                                                NaN\n",
              "21574  2017021909  ...                                                NaN\n",
              "21575  2017021910  ...                                                NaN\n",
              "21576  2017021911  ...                                                NaN\n",
              "21577  2017021912  ...                                                NaN\n",
              "\n",
              "[21578 rows x 26 columns]"
            ]
          },
          "metadata": {},
          "execution_count": 81
        }
      ]
    },
    {
      "cell_type": "markdown",
      "metadata": {
        "id": "Q8MCBBlJgofu"
      },
      "source": [
        "Clasificando los datos por las categorias de la columna State\n"
      ]
    },
    {
      "cell_type": "code",
      "metadata": {
        "id": "1FvBpTh5bkia",
        "colab": {
          "base_uri": "https://localhost:8080/"
        },
        "outputId": "44e75612-c9b6-4958-a15c-a9e7971fe48b"
      },
      "source": [
        "df.State.unique()"
      ],
      "execution_count": null,
      "outputs": [
        {
          "output_type": "execute_result",
          "data": {
            "text/plain": [
              "array(['NEW YORK', 'WISCONSIN', 'PENNSYLVANIA', 'GEORGIA', 'FLORIDA',\n",
              "       'COLORADO', 'OKLAHOMA', 'TEXAS', 'LOUISIANA', 'MISSISSIPPI',\n",
              "       'NEW JERSEY', 'OHIO', 'ILLINOIS', 'NEBRASKA', 'NEW HAMPSHIRE',\n",
              "       'KANSAS', 'MASSACHUSETTS', 'ARKANSAS', 'MICHIGAN', 'IDAHO',\n",
              "       'MISSOURI', 'MAINE', 'CONNECTICUT', 'WEST VIRGINIA',\n",
              "       'NORTH DAKOTA', 'MONTANA', 'NORTH CAROLINA', 'DELAWARE',\n",
              "       'CALIFORNIA', 'AMERICAN SAMOA', 'DISTRICT OF COLUMBIA', 'ALABAMA',\n",
              "       'TENNESSEE', 'OREGON', 'SOUTH DAKOTA', 'RHODE ISLAND', 'INDIANA',\n",
              "       'VIRGINIA', 'NEW MEXICO', 'MARYLAND', 'UTAH', 'VERMONT', 'ARIZONA',\n",
              "       'GUAM', 'IOWA', 'KENTUCKY', 'MINNESOTA', 'WASHINGTON',\n",
              "       'SOUTH CAROLINA', 'HAWAII', 'PUERTO RICO', 'VIRGIN ISLANDS',\n",
              "       'NEVADA', 'WYOMING', 'NORTHERN MARIANA ISLANDS', 'ALASKA'],\n",
              "      dtype=object)"
            ]
          },
          "metadata": {},
          "execution_count": 82
        }
      ]
    },
    {
      "cell_type": "code",
      "metadata": {
        "id": "736dsFg7buxs"
      },
      "source": [
        "NY = df[df['State']=='NEW YORK']\n",
        "\n",
        "NY.to_csv('Solo_NEW YORK.csv', index=False)\n",
        "w = df[df['State']=='WASHINGTON']\n",
        "w.to_csv('Solo_WASHINGTON.csv', index=False)"
      ],
      "execution_count": null,
      "outputs": []
    },
    {
      "cell_type": "markdown",
      "metadata": {
        "id": "VcVrPyn_gDRY"
      },
      "source": [
        "Filtrando datos de la columna Nature por State\n",
        "\n"
      ]
    },
    {
      "cell_type": "code",
      "metadata": {
        "id": "_p-rys9Weu7j",
        "colab": {
          "base_uri": "https://localhost:8080/"
        },
        "outputId": "94365ff7-46c7-430f-b19d-b93c06a15694"
      },
      "source": [
        "NY_f = df.loc[df.State == 'NEW YORK'].Nature\n",
        "NY_f"
      ],
      "execution_count": null,
      "outputs": [
        {
          "output_type": "execute_result",
          "data": {
            "text/plain": [
              "0         111\n",
              "47        111\n",
              "49         10\n",
              "53       1510\n",
              "63       1311\n",
              "         ... \n",
              "21514     111\n",
              "21521    1530\n",
              "21522     111\n",
              "21542    1311\n",
              "21567    1311\n",
              "Name: Nature, Length: 1069, dtype: int64"
            ]
          },
          "metadata": {},
          "execution_count": 84
        }
      ]
    },
    {
      "cell_type": "code",
      "metadata": {
        "id": "gmXqS_zdfrt2",
        "colab": {
          "base_uri": "https://localhost:8080/"
        },
        "outputId": "cd095134-e629-447f-9eff-83b54390a4af"
      },
      "source": [
        "W_f = df.loc[df.State == 'WASHINGTON'].Nature\n",
        "W_f"
      ],
      "execution_count": null,
      "outputs": [
        {
          "output_type": "execute_result",
          "data": {
            "text/plain": [
              "1450     1831\n",
              "2153      111\n",
              "2797      111\n",
              "3339     1311\n",
              "3795     2731\n",
              "4027      194\n",
              "4149      134\n",
              "6566      111\n",
              "6944     1972\n",
              "9009     1311\n",
              "9037      111\n",
              "9149      111\n",
              "9241      111\n",
              "10156     111\n",
              "10197     111\n",
              "11605     160\n",
              "12149     111\n",
              "12555    1311\n",
              "12735     111\n",
              "12868     111\n",
              "13377     111\n",
              "14777     193\n",
              "15770    1972\n",
              "15778     111\n",
              "16522     111\n",
              "16564     111\n",
              "16800      10\n",
              "16954     143\n",
              "16979     143\n",
              "17104    1311\n",
              "17610     111\n",
              "17721     111\n",
              "18506     111\n",
              "19191     111\n",
              "19462    1973\n",
              "19547     111\n",
              "19708      10\n",
              "20668     160\n",
              "20981     111\n",
              "Name: Nature, dtype: int64"
            ]
          },
          "metadata": {},
          "execution_count": 85
        }
      ]
    },
    {
      "cell_type": "markdown",
      "metadata": {
        "id": "u9XmwjxX-uDN"
      },
      "source": [
        "##*Manipulación de datos nulos*\n",
        "\n",
        "Veremos los Datos Nulos y tomaremos acciones al respecto"
      ]
    },
    {
      "cell_type": "code",
      "metadata": {
        "id": "sU6s43tF-2mT",
        "colab": {
          "base_uri": "https://localhost:8080/",
          "height": 484
        },
        "outputId": "9446eb3c-aaef-4a26-d6a1-765cb8e2ffa5"
      },
      "source": [
        "df.isnull()"
      ],
      "execution_count": null,
      "outputs": [
        {
          "output_type": "execute_result",
          "data": {
            "text/html": [
              "<div>\n",
              "<style scoped>\n",
              "    .dataframe tbody tr th:only-of-type {\n",
              "        vertical-align: middle;\n",
              "    }\n",
              "\n",
              "    .dataframe tbody tr th {\n",
              "        vertical-align: top;\n",
              "    }\n",
              "\n",
              "    .dataframe thead th {\n",
              "        text-align: right;\n",
              "    }\n",
              "</style>\n",
              "<table border=\"1\" class=\"dataframe\">\n",
              "  <thead>\n",
              "    <tr style=\"text-align: right;\">\n",
              "      <th></th>\n",
              "      <th>ID</th>\n",
              "      <th>UPA</th>\n",
              "      <th>EventDate</th>\n",
              "      <th>Employer</th>\n",
              "      <th>Address1</th>\n",
              "      <th>Address2</th>\n",
              "      <th>City</th>\n",
              "      <th>State</th>\n",
              "      <th>Zip</th>\n",
              "      <th>Latitude</th>\n",
              "      <th>Longitude</th>\n",
              "      <th>Primary NAICS</th>\n",
              "      <th>Hospitalized</th>\n",
              "      <th>Amputation</th>\n",
              "      <th>Inspection</th>\n",
              "      <th>Final Narrative</th>\n",
              "      <th>Nature</th>\n",
              "      <th>NatureTitle</th>\n",
              "      <th>Part of Body</th>\n",
              "      <th>Part of Body Title</th>\n",
              "      <th>Event</th>\n",
              "      <th>EventTitle</th>\n",
              "      <th>Source</th>\n",
              "      <th>SourceTitle</th>\n",
              "      <th>Secondary Source</th>\n",
              "      <th>Secondary Source Title</th>\n",
              "    </tr>\n",
              "  </thead>\n",
              "  <tbody>\n",
              "    <tr>\n",
              "      <th>0</th>\n",
              "      <td>False</td>\n",
              "      <td>False</td>\n",
              "      <td>False</td>\n",
              "      <td>False</td>\n",
              "      <td>False</td>\n",
              "      <td>True</td>\n",
              "      <td>False</td>\n",
              "      <td>False</td>\n",
              "      <td>False</td>\n",
              "      <td>False</td>\n",
              "      <td>False</td>\n",
              "      <td>False</td>\n",
              "      <td>False</td>\n",
              "      <td>False</td>\n",
              "      <td>False</td>\n",
              "      <td>False</td>\n",
              "      <td>False</td>\n",
              "      <td>False</td>\n",
              "      <td>False</td>\n",
              "      <td>False</td>\n",
              "      <td>False</td>\n",
              "      <td>False</td>\n",
              "      <td>False</td>\n",
              "      <td>False</td>\n",
              "      <td>False</td>\n",
              "      <td>False</td>\n",
              "    </tr>\n",
              "    <tr>\n",
              "      <th>1</th>\n",
              "      <td>False</td>\n",
              "      <td>False</td>\n",
              "      <td>False</td>\n",
              "      <td>False</td>\n",
              "      <td>False</td>\n",
              "      <td>True</td>\n",
              "      <td>False</td>\n",
              "      <td>False</td>\n",
              "      <td>False</td>\n",
              "      <td>False</td>\n",
              "      <td>False</td>\n",
              "      <td>False</td>\n",
              "      <td>False</td>\n",
              "      <td>False</td>\n",
              "      <td>False</td>\n",
              "      <td>False</td>\n",
              "      <td>False</td>\n",
              "      <td>False</td>\n",
              "      <td>False</td>\n",
              "      <td>False</td>\n",
              "      <td>False</td>\n",
              "      <td>False</td>\n",
              "      <td>False</td>\n",
              "      <td>False</td>\n",
              "      <td>True</td>\n",
              "      <td>True</td>\n",
              "    </tr>\n",
              "    <tr>\n",
              "      <th>2</th>\n",
              "      <td>False</td>\n",
              "      <td>False</td>\n",
              "      <td>False</td>\n",
              "      <td>False</td>\n",
              "      <td>False</td>\n",
              "      <td>True</td>\n",
              "      <td>False</td>\n",
              "      <td>False</td>\n",
              "      <td>False</td>\n",
              "      <td>False</td>\n",
              "      <td>False</td>\n",
              "      <td>False</td>\n",
              "      <td>False</td>\n",
              "      <td>False</td>\n",
              "      <td>True</td>\n",
              "      <td>False</td>\n",
              "      <td>False</td>\n",
              "      <td>False</td>\n",
              "      <td>False</td>\n",
              "      <td>False</td>\n",
              "      <td>False</td>\n",
              "      <td>False</td>\n",
              "      <td>False</td>\n",
              "      <td>False</td>\n",
              "      <td>False</td>\n",
              "      <td>False</td>\n",
              "    </tr>\n",
              "    <tr>\n",
              "      <th>3</th>\n",
              "      <td>False</td>\n",
              "      <td>False</td>\n",
              "      <td>False</td>\n",
              "      <td>False</td>\n",
              "      <td>False</td>\n",
              "      <td>True</td>\n",
              "      <td>False</td>\n",
              "      <td>False</td>\n",
              "      <td>False</td>\n",
              "      <td>False</td>\n",
              "      <td>False</td>\n",
              "      <td>False</td>\n",
              "      <td>False</td>\n",
              "      <td>False</td>\n",
              "      <td>False</td>\n",
              "      <td>False</td>\n",
              "      <td>False</td>\n",
              "      <td>False</td>\n",
              "      <td>False</td>\n",
              "      <td>False</td>\n",
              "      <td>False</td>\n",
              "      <td>False</td>\n",
              "      <td>False</td>\n",
              "      <td>False</td>\n",
              "      <td>False</td>\n",
              "      <td>False</td>\n",
              "    </tr>\n",
              "    <tr>\n",
              "      <th>4</th>\n",
              "      <td>False</td>\n",
              "      <td>False</td>\n",
              "      <td>False</td>\n",
              "      <td>False</td>\n",
              "      <td>False</td>\n",
              "      <td>True</td>\n",
              "      <td>False</td>\n",
              "      <td>False</td>\n",
              "      <td>False</td>\n",
              "      <td>False</td>\n",
              "      <td>False</td>\n",
              "      <td>False</td>\n",
              "      <td>False</td>\n",
              "      <td>False</td>\n",
              "      <td>False</td>\n",
              "      <td>False</td>\n",
              "      <td>False</td>\n",
              "      <td>False</td>\n",
              "      <td>False</td>\n",
              "      <td>False</td>\n",
              "      <td>False</td>\n",
              "      <td>False</td>\n",
              "      <td>False</td>\n",
              "      <td>False</td>\n",
              "      <td>True</td>\n",
              "      <td>True</td>\n",
              "    </tr>\n",
              "    <tr>\n",
              "      <th>...</th>\n",
              "      <td>...</td>\n",
              "      <td>...</td>\n",
              "      <td>...</td>\n",
              "      <td>...</td>\n",
              "      <td>...</td>\n",
              "      <td>...</td>\n",
              "      <td>...</td>\n",
              "      <td>...</td>\n",
              "      <td>...</td>\n",
              "      <td>...</td>\n",
              "      <td>...</td>\n",
              "      <td>...</td>\n",
              "      <td>...</td>\n",
              "      <td>...</td>\n",
              "      <td>...</td>\n",
              "      <td>...</td>\n",
              "      <td>...</td>\n",
              "      <td>...</td>\n",
              "      <td>...</td>\n",
              "      <td>...</td>\n",
              "      <td>...</td>\n",
              "      <td>...</td>\n",
              "      <td>...</td>\n",
              "      <td>...</td>\n",
              "      <td>...</td>\n",
              "      <td>...</td>\n",
              "    </tr>\n",
              "    <tr>\n",
              "      <th>21573</th>\n",
              "      <td>False</td>\n",
              "      <td>False</td>\n",
              "      <td>False</td>\n",
              "      <td>False</td>\n",
              "      <td>False</td>\n",
              "      <td>True</td>\n",
              "      <td>False</td>\n",
              "      <td>False</td>\n",
              "      <td>False</td>\n",
              "      <td>False</td>\n",
              "      <td>False</td>\n",
              "      <td>False</td>\n",
              "      <td>False</td>\n",
              "      <td>False</td>\n",
              "      <td>False</td>\n",
              "      <td>False</td>\n",
              "      <td>False</td>\n",
              "      <td>False</td>\n",
              "      <td>False</td>\n",
              "      <td>False</td>\n",
              "      <td>False</td>\n",
              "      <td>False</td>\n",
              "      <td>False</td>\n",
              "      <td>False</td>\n",
              "      <td>True</td>\n",
              "      <td>True</td>\n",
              "    </tr>\n",
              "    <tr>\n",
              "      <th>21574</th>\n",
              "      <td>False</td>\n",
              "      <td>False</td>\n",
              "      <td>False</td>\n",
              "      <td>False</td>\n",
              "      <td>False</td>\n",
              "      <td>True</td>\n",
              "      <td>False</td>\n",
              "      <td>False</td>\n",
              "      <td>False</td>\n",
              "      <td>False</td>\n",
              "      <td>False</td>\n",
              "      <td>False</td>\n",
              "      <td>False</td>\n",
              "      <td>False</td>\n",
              "      <td>False</td>\n",
              "      <td>False</td>\n",
              "      <td>False</td>\n",
              "      <td>False</td>\n",
              "      <td>False</td>\n",
              "      <td>False</td>\n",
              "      <td>False</td>\n",
              "      <td>False</td>\n",
              "      <td>False</td>\n",
              "      <td>False</td>\n",
              "      <td>True</td>\n",
              "      <td>True</td>\n",
              "    </tr>\n",
              "    <tr>\n",
              "      <th>21575</th>\n",
              "      <td>False</td>\n",
              "      <td>False</td>\n",
              "      <td>False</td>\n",
              "      <td>False</td>\n",
              "      <td>False</td>\n",
              "      <td>True</td>\n",
              "      <td>False</td>\n",
              "      <td>False</td>\n",
              "      <td>False</td>\n",
              "      <td>False</td>\n",
              "      <td>False</td>\n",
              "      <td>False</td>\n",
              "      <td>False</td>\n",
              "      <td>False</td>\n",
              "      <td>True</td>\n",
              "      <td>False</td>\n",
              "      <td>False</td>\n",
              "      <td>False</td>\n",
              "      <td>False</td>\n",
              "      <td>False</td>\n",
              "      <td>False</td>\n",
              "      <td>False</td>\n",
              "      <td>False</td>\n",
              "      <td>False</td>\n",
              "      <td>True</td>\n",
              "      <td>True</td>\n",
              "    </tr>\n",
              "    <tr>\n",
              "      <th>21576</th>\n",
              "      <td>False</td>\n",
              "      <td>False</td>\n",
              "      <td>False</td>\n",
              "      <td>False</td>\n",
              "      <td>False</td>\n",
              "      <td>True</td>\n",
              "      <td>False</td>\n",
              "      <td>False</td>\n",
              "      <td>False</td>\n",
              "      <td>False</td>\n",
              "      <td>False</td>\n",
              "      <td>False</td>\n",
              "      <td>False</td>\n",
              "      <td>False</td>\n",
              "      <td>False</td>\n",
              "      <td>False</td>\n",
              "      <td>False</td>\n",
              "      <td>False</td>\n",
              "      <td>False</td>\n",
              "      <td>False</td>\n",
              "      <td>False</td>\n",
              "      <td>False</td>\n",
              "      <td>False</td>\n",
              "      <td>False</td>\n",
              "      <td>True</td>\n",
              "      <td>True</td>\n",
              "    </tr>\n",
              "    <tr>\n",
              "      <th>21577</th>\n",
              "      <td>False</td>\n",
              "      <td>False</td>\n",
              "      <td>False</td>\n",
              "      <td>False</td>\n",
              "      <td>False</td>\n",
              "      <td>True</td>\n",
              "      <td>False</td>\n",
              "      <td>False</td>\n",
              "      <td>False</td>\n",
              "      <td>False</td>\n",
              "      <td>False</td>\n",
              "      <td>False</td>\n",
              "      <td>False</td>\n",
              "      <td>False</td>\n",
              "      <td>True</td>\n",
              "      <td>False</td>\n",
              "      <td>False</td>\n",
              "      <td>False</td>\n",
              "      <td>False</td>\n",
              "      <td>False</td>\n",
              "      <td>False</td>\n",
              "      <td>False</td>\n",
              "      <td>False</td>\n",
              "      <td>False</td>\n",
              "      <td>True</td>\n",
              "      <td>True</td>\n",
              "    </tr>\n",
              "  </tbody>\n",
              "</table>\n",
              "<p>21578 rows × 26 columns</p>\n",
              "</div>"
            ],
            "text/plain": [
              "          ID    UPA  ...  Secondary Source  Secondary Source Title\n",
              "0      False  False  ...             False                   False\n",
              "1      False  False  ...              True                    True\n",
              "2      False  False  ...             False                   False\n",
              "3      False  False  ...             False                   False\n",
              "4      False  False  ...              True                    True\n",
              "...      ...    ...  ...               ...                     ...\n",
              "21573  False  False  ...              True                    True\n",
              "21574  False  False  ...              True                    True\n",
              "21575  False  False  ...              True                    True\n",
              "21576  False  False  ...              True                    True\n",
              "21577  False  False  ...              True                    True\n",
              "\n",
              "[21578 rows x 26 columns]"
            ]
          },
          "metadata": {},
          "execution_count": 86
        }
      ]
    },
    {
      "cell_type": "code",
      "metadata": {
        "id": "3lazz6JH_Tbl",
        "colab": {
          "base_uri": "https://localhost:8080/"
        },
        "outputId": "f622a12c-3c99-48c2-bebb-2b9b399e7351"
      },
      "source": [
        "\n",
        "df.isnull().any()"
      ],
      "execution_count": null,
      "outputs": [
        {
          "output_type": "execute_result",
          "data": {
            "text/plain": [
              "ID                        False\n",
              "UPA                       False\n",
              "EventDate                 False\n",
              "Employer                  False\n",
              "Address1                   True\n",
              "Address2                   True\n",
              "City                       True\n",
              "State                     False\n",
              "Zip                        True\n",
              "Latitude                   True\n",
              "Longitude                  True\n",
              "Primary NAICS              True\n",
              "Hospitalized              False\n",
              "Amputation                 True\n",
              "Inspection                 True\n",
              "Final Narrative           False\n",
              "Nature                    False\n",
              "NatureTitle               False\n",
              "Part of Body              False\n",
              "Part of Body Title        False\n",
              "Event                     False\n",
              "EventTitle                False\n",
              "Source                    False\n",
              "SourceTitle               False\n",
              "Secondary Source           True\n",
              "Secondary Source Title     True\n",
              "dtype: bool"
            ]
          },
          "metadata": {},
          "execution_count": 87
        }
      ]
    },
    {
      "cell_type": "code",
      "metadata": {
        "id": "UU0c-7hY_css",
        "colab": {
          "base_uri": "https://localhost:8080/"
        },
        "outputId": "f8649c63-972f-4bdd-abdc-d61fdb0485b1"
      },
      "source": [
        "df.isnull().sum()"
      ],
      "execution_count": null,
      "outputs": [
        {
          "output_type": "execute_result",
          "data": {
            "text/plain": [
              "ID                            0\n",
              "UPA                           0\n",
              "EventDate                     0\n",
              "Employer                      0\n",
              "Address1                     10\n",
              "Address2                  19717\n",
              "City                          9\n",
              "State                         0\n",
              "Zip                          11\n",
              "Latitude                     91\n",
              "Longitude                    91\n",
              "Primary NAICS                 2\n",
              "Hospitalized                  0\n",
              "Amputation                    2\n",
              "Inspection                13756\n",
              "Final Narrative               0\n",
              "Nature                        0\n",
              "NatureTitle                   0\n",
              "Part of Body                  0\n",
              "Part of Body Title            0\n",
              "Event                         0\n",
              "EventTitle                    0\n",
              "Source                        0\n",
              "SourceTitle                   0\n",
              "Secondary Source          15766\n",
              "Secondary Source Title    15766\n",
              "dtype: int64"
            ]
          },
          "metadata": {},
          "execution_count": 88
        }
      ]
    },
    {
      "cell_type": "markdown",
      "metadata": {
        "id": "4bhRQSnd_juD"
      },
      "source": [
        "Para limpiar los datos nulos hay que trabajarlos en un data frame diferente"
      ]
    },
    {
      "cell_type": "code",
      "metadata": {
        "id": "ach4JVHb_q28",
        "colab": {
          "base_uri": "https://localhost:8080/",
          "height": 1000
        },
        "outputId": "4f0f5031-cb38-4249-a6ce-560d8b1102dd"
      },
      "source": [
        "data_frame_0 = df.fillna(0) #Con esto llenamos todas las celdas con datos nulos con un 0\n",
        "data_frame_0.to_csv('data_frame_0.csv', index=False)\n",
        "data_frame_0"
      ],
      "execution_count": null,
      "outputs": [
        {
          "output_type": "execute_result",
          "data": {
            "text/html": [
              "<div>\n",
              "<style scoped>\n",
              "    .dataframe tbody tr th:only-of-type {\n",
              "        vertical-align: middle;\n",
              "    }\n",
              "\n",
              "    .dataframe tbody tr th {\n",
              "        vertical-align: top;\n",
              "    }\n",
              "\n",
              "    .dataframe thead th {\n",
              "        text-align: right;\n",
              "    }\n",
              "</style>\n",
              "<table border=\"1\" class=\"dataframe\">\n",
              "  <thead>\n",
              "    <tr style=\"text-align: right;\">\n",
              "      <th></th>\n",
              "      <th>ID</th>\n",
              "      <th>UPA</th>\n",
              "      <th>EventDate</th>\n",
              "      <th>Employer</th>\n",
              "      <th>Address1</th>\n",
              "      <th>Address2</th>\n",
              "      <th>City</th>\n",
              "      <th>State</th>\n",
              "      <th>Zip</th>\n",
              "      <th>Latitude</th>\n",
              "      <th>Longitude</th>\n",
              "      <th>Primary NAICS</th>\n",
              "      <th>Hospitalized</th>\n",
              "      <th>Amputation</th>\n",
              "      <th>Inspection</th>\n",
              "      <th>Final Narrative</th>\n",
              "      <th>Nature</th>\n",
              "      <th>NatureTitle</th>\n",
              "      <th>Part of Body</th>\n",
              "      <th>Part of Body Title</th>\n",
              "      <th>Event</th>\n",
              "      <th>EventTitle</th>\n",
              "      <th>Source</th>\n",
              "      <th>SourceTitle</th>\n",
              "      <th>Secondary Source</th>\n",
              "      <th>Secondary Source Title</th>\n",
              "    </tr>\n",
              "  </thead>\n",
              "  <tbody>\n",
              "    <tr>\n",
              "      <th>0</th>\n",
              "      <td>2015010015</td>\n",
              "      <td>931176</td>\n",
              "      <td>1/1/2015</td>\n",
              "      <td>FCI Otisville Federal Correctional Institution</td>\n",
              "      <td>Two Mile Drive</td>\n",
              "      <td>0</td>\n",
              "      <td>OTISVILLE</td>\n",
              "      <td>NEW YORK</td>\n",
              "      <td>10963.0</td>\n",
              "      <td>41.46</td>\n",
              "      <td>-74.53</td>\n",
              "      <td>922140</td>\n",
              "      <td>1.0</td>\n",
              "      <td>0.0</td>\n",
              "      <td>1018519.0</td>\n",
              "      <td>Three correctional facility guards were escort...</td>\n",
              "      <td>111</td>\n",
              "      <td>Fractures</td>\n",
              "      <td>513</td>\n",
              "      <td>Lower leg(s)</td>\n",
              "      <td>1214</td>\n",
              "      <td>Injured by physical contact with person while ...</td>\n",
              "      <td>5721</td>\n",
              "      <td>Co-worker</td>\n",
              "      <td>5772.0</td>\n",
              "      <td>Inmate or detainee in custody</td>\n",
              "    </tr>\n",
              "    <tr>\n",
              "      <th>1</th>\n",
              "      <td>2015010016</td>\n",
              "      <td>930267</td>\n",
              "      <td>1/1/2015</td>\n",
              "      <td>Kalahari Manufacturing LLC</td>\n",
              "      <td>171 Progress Drive</td>\n",
              "      <td>0</td>\n",
              "      <td>LAKE DELTON</td>\n",
              "      <td>WISCONSIN</td>\n",
              "      <td>53940.0</td>\n",
              "      <td>43.59</td>\n",
              "      <td>-89.79</td>\n",
              "      <td>339999</td>\n",
              "      <td>1.0</td>\n",
              "      <td>0.0</td>\n",
              "      <td>1016582.0</td>\n",
              "      <td>Employee in the Machine Shop received second d...</td>\n",
              "      <td>1522</td>\n",
              "      <td>Second degree heat (thermal) burns</td>\n",
              "      <td>519</td>\n",
              "      <td>Leg(s), n.e.c.</td>\n",
              "      <td>317</td>\n",
              "      <td>Ignition of vapors, gases, or liquids</td>\n",
              "      <td>7261</td>\n",
              "      <td>Welding, cutting, and blow torches</td>\n",
              "      <td>0.0</td>\n",
              "      <td>0</td>\n",
              "    </tr>\n",
              "    <tr>\n",
              "      <th>2</th>\n",
              "      <td>2015010018</td>\n",
              "      <td>929823</td>\n",
              "      <td>1/1/2015</td>\n",
              "      <td>Schneider National Bulk Carrier</td>\n",
              "      <td>420 CORAOPOLIS ROAD</td>\n",
              "      <td>0</td>\n",
              "      <td>CORAOPOLIS</td>\n",
              "      <td>PENNSYLVANIA</td>\n",
              "      <td>15108.0</td>\n",
              "      <td>40.49</td>\n",
              "      <td>-80.11</td>\n",
              "      <td>484121</td>\n",
              "      <td>1.0</td>\n",
              "      <td>0.0</td>\n",
              "      <td>0.0</td>\n",
              "      <td>A truck driver fell approximately 4 feet while...</td>\n",
              "      <td>10</td>\n",
              "      <td>Traumatic injuries and disorders, unspecified</td>\n",
              "      <td>9999</td>\n",
              "      <td>Nonclassifiable</td>\n",
              "      <td>4331</td>\n",
              "      <td>Other fall to lower level less than 6 feet</td>\n",
              "      <td>8421</td>\n",
              "      <td>Semi, tractor-trailer, tanker truck</td>\n",
              "      <td>741.0</td>\n",
              "      <td>Ladders-fixed</td>\n",
              "    </tr>\n",
              "    <tr>\n",
              "      <th>3</th>\n",
              "      <td>2015010019</td>\n",
              "      <td>929711</td>\n",
              "      <td>1/1/2015</td>\n",
              "      <td>PEPSI BOTTLING GROUP INC.</td>\n",
              "      <td>4541 HOUSTON AVE.</td>\n",
              "      <td>0</td>\n",
              "      <td>MACON</td>\n",
              "      <td>GEORGIA</td>\n",
              "      <td>31206.0</td>\n",
              "      <td>32.77</td>\n",
              "      <td>-83.65</td>\n",
              "      <td>424490</td>\n",
              "      <td>1.0</td>\n",
              "      <td>0.0</td>\n",
              "      <td>1017194.0</td>\n",
              "      <td>An employee's leg was pinned between a truck a...</td>\n",
              "      <td>1972</td>\n",
              "      <td>Soreness, pain, hurt-nonspecified injury</td>\n",
              "      <td>510</td>\n",
              "      <td>Leg(s), unspecified</td>\n",
              "      <td>640</td>\n",
              "      <td>Caught in or compressed by equipment or object...</td>\n",
              "      <td>8623</td>\n",
              "      <td>Pallet jack-powered</td>\n",
              "      <td>8420.0</td>\n",
              "      <td>Truck-motorized freight hauling and utility, u...</td>\n",
              "    </tr>\n",
              "    <tr>\n",
              "      <th>4</th>\n",
              "      <td>2015010020</td>\n",
              "      <td>929642</td>\n",
              "      <td>1/1/2015</td>\n",
              "      <td>North American Pipe Corporation</td>\n",
              "      <td>210 South Arch Street</td>\n",
              "      <td>0</td>\n",
              "      <td>JANESVILLE</td>\n",
              "      <td>WISCONSIN</td>\n",
              "      <td>53545.0</td>\n",
              "      <td>42.67</td>\n",
              "      <td>-89.04</td>\n",
              "      <td>326122</td>\n",
              "      <td>1.0</td>\n",
              "      <td>0.0</td>\n",
              "      <td>1016344.0</td>\n",
              "      <td>An employee working on the Line 6 Auto-Beller ...</td>\n",
              "      <td>111</td>\n",
              "      <td>Fractures</td>\n",
              "      <td>4429</td>\n",
              "      <td>Finger(s), fingernail(s), n.e.c.</td>\n",
              "      <td>6411</td>\n",
              "      <td>Caught in running equipment or machinery durin...</td>\n",
              "      <td>350</td>\n",
              "      <td>Metal, woodworking, and special material machi...</td>\n",
              "      <td>0.0</td>\n",
              "      <td>0</td>\n",
              "    </tr>\n",
              "    <tr>\n",
              "      <th>...</th>\n",
              "      <td>...</td>\n",
              "      <td>...</td>\n",
              "      <td>...</td>\n",
              "      <td>...</td>\n",
              "      <td>...</td>\n",
              "      <td>...</td>\n",
              "      <td>...</td>\n",
              "      <td>...</td>\n",
              "      <td>...</td>\n",
              "      <td>...</td>\n",
              "      <td>...</td>\n",
              "      <td>...</td>\n",
              "      <td>...</td>\n",
              "      <td>...</td>\n",
              "      <td>...</td>\n",
              "      <td>...</td>\n",
              "      <td>...</td>\n",
              "      <td>...</td>\n",
              "      <td>...</td>\n",
              "      <td>...</td>\n",
              "      <td>...</td>\n",
              "      <td>...</td>\n",
              "      <td>...</td>\n",
              "      <td>...</td>\n",
              "      <td>...</td>\n",
              "      <td>...</td>\n",
              "    </tr>\n",
              "    <tr>\n",
              "      <th>21573</th>\n",
              "      <td>2017021908</td>\n",
              "      <td>1187496</td>\n",
              "      <td>2/28/2017</td>\n",
              "      <td>JPN Masonry LLC</td>\n",
              "      <td>806 Channing Place</td>\n",
              "      <td>0</td>\n",
              "      <td>WASHINGTON</td>\n",
              "      <td>DISTRICT OF COLUMBIA</td>\n",
              "      <td>20008.0</td>\n",
              "      <td>38.92</td>\n",
              "      <td>-76.99</td>\n",
              "      <td>238140</td>\n",
              "      <td>1.0</td>\n",
              "      <td>0.0</td>\n",
              "      <td>1215482.0</td>\n",
              "      <td>An employee fell from the third scaffold level...</td>\n",
              "      <td>1834</td>\n",
              "      <td>Fractures and dislocations</td>\n",
              "      <td>4420</td>\n",
              "      <td>Finger(s), fingernail(s), unspecified</td>\n",
              "      <td>4320</td>\n",
              "      <td>Fall through surface or existing opening, unsp...</td>\n",
              "      <td>6340</td>\n",
              "      <td>Scaffolds-staging, unspecified</td>\n",
              "      <td>0.0</td>\n",
              "      <td>0</td>\n",
              "    </tr>\n",
              "    <tr>\n",
              "      <th>21574</th>\n",
              "      <td>2017021909</td>\n",
              "      <td>1187261</td>\n",
              "      <td>2/28/2017</td>\n",
              "      <td>CR MEYER</td>\n",
              "      <td>1815 Marathon Ave.</td>\n",
              "      <td>0</td>\n",
              "      <td>NEENAH</td>\n",
              "      <td>WISCONSIN</td>\n",
              "      <td>54956.0</td>\n",
              "      <td>44.16</td>\n",
              "      <td>-88.47</td>\n",
              "      <td>236220</td>\n",
              "      <td>1.0</td>\n",
              "      <td>0.0</td>\n",
              "      <td>1214207.0</td>\n",
              "      <td>An employee fell approximately 10 feet from a ...</td>\n",
              "      <td>111</td>\n",
              "      <td>Fractures</td>\n",
              "      <td>899</td>\n",
              "      <td>Multiple body parts, n.e.c.</td>\n",
              "      <td>4332</td>\n",
              "      <td>Other fall to lower level 6 to 10 feet</td>\n",
              "      <td>6395</td>\n",
              "      <td>Porches, balconies, decks, patios</td>\n",
              "      <td>0.0</td>\n",
              "      <td>0</td>\n",
              "    </tr>\n",
              "    <tr>\n",
              "      <th>21575</th>\n",
              "      <td>2017021910</td>\n",
              "      <td>1187351</td>\n",
              "      <td>2/28/2017</td>\n",
              "      <td>PHOENIX HOME CARE</td>\n",
              "      <td>353 River Bluff Drive</td>\n",
              "      <td>0</td>\n",
              "      <td>BRANSON</td>\n",
              "      <td>MISSOURI</td>\n",
              "      <td>65616.0</td>\n",
              "      <td>36.61</td>\n",
              "      <td>-93.27</td>\n",
              "      <td>621610</td>\n",
              "      <td>1.0</td>\n",
              "      <td>0.0</td>\n",
              "      <td>0.0</td>\n",
              "      <td>An employee was walking down a flight of three...</td>\n",
              "      <td>111</td>\n",
              "      <td>Fractures</td>\n",
              "      <td>513</td>\n",
              "      <td>Lower leg(s)</td>\n",
              "      <td>4331</td>\n",
              "      <td>Other fall to lower level less than 6 feet</td>\n",
              "      <td>6611</td>\n",
              "      <td>Stairs, steps-indoors</td>\n",
              "      <td>0.0</td>\n",
              "      <td>0</td>\n",
              "    </tr>\n",
              "    <tr>\n",
              "      <th>21576</th>\n",
              "      <td>2017021911</td>\n",
              "      <td>1187282</td>\n",
              "      <td>2/28/2017</td>\n",
              "      <td>Cross Insulation, Inc.</td>\n",
              "      <td>West Fargo New Construction</td>\n",
              "      <td>0</td>\n",
              "      <td>WEST FARGO</td>\n",
              "      <td>NORTH DAKOTA</td>\n",
              "      <td>58078.0</td>\n",
              "      <td>46.87</td>\n",
              "      <td>-96.93</td>\n",
              "      <td>238310</td>\n",
              "      <td>1.0</td>\n",
              "      <td>0.0</td>\n",
              "      <td>1216894.0</td>\n",
              "      <td>An employee was hospitalized for carbon monoxi...</td>\n",
              "      <td>1961</td>\n",
              "      <td>Poisoning, including poisoning-related asphyxia</td>\n",
              "      <td>6</td>\n",
              "      <td>BODY SYSTEMS</td>\n",
              "      <td>5521</td>\n",
              "      <td>Inhalation of harmful substance-single episode</td>\n",
              "      <td>1741</td>\n",
              "      <td>Carbon monoxide</td>\n",
              "      <td>0.0</td>\n",
              "      <td>0</td>\n",
              "    </tr>\n",
              "    <tr>\n",
              "      <th>21577</th>\n",
              "      <td>2017021912</td>\n",
              "      <td>1187132</td>\n",
              "      <td>2/28/2017</td>\n",
              "      <td>JV MANUFACTURING, INC.</td>\n",
              "      <td>701 Butterfield Coach Road</td>\n",
              "      <td>0</td>\n",
              "      <td>SPRINGDALE</td>\n",
              "      <td>ARKANSAS</td>\n",
              "      <td>72765.0</td>\n",
              "      <td>36.17</td>\n",
              "      <td>-94.09</td>\n",
              "      <td>333319</td>\n",
              "      <td>1.0</td>\n",
              "      <td>0.0</td>\n",
              "      <td>0.0</td>\n",
              "      <td>An employee was cutting the strapping on a bun...</td>\n",
              "      <td>111</td>\n",
              "      <td>Fractures</td>\n",
              "      <td>510</td>\n",
              "      <td>Leg(s), unspecified</td>\n",
              "      <td>6239</td>\n",
              "      <td>Struck by falling object or equipment, n.e.c.</td>\n",
              "      <td>2131</td>\n",
              "      <td>Bundles, bales</td>\n",
              "      <td>0.0</td>\n",
              "      <td>0</td>\n",
              "    </tr>\n",
              "  </tbody>\n",
              "</table>\n",
              "<p>21578 rows × 26 columns</p>\n",
              "</div>"
            ],
            "text/plain": [
              "               ID  ...                             Secondary Source Title\n",
              "0      2015010015  ...                      Inmate or detainee in custody\n",
              "1      2015010016  ...                                                  0\n",
              "2      2015010018  ...                                      Ladders-fixed\n",
              "3      2015010019  ...  Truck-motorized freight hauling and utility, u...\n",
              "4      2015010020  ...                                                  0\n",
              "...           ...  ...                                                ...\n",
              "21573  2017021908  ...                                                  0\n",
              "21574  2017021909  ...                                                  0\n",
              "21575  2017021910  ...                                                  0\n",
              "21576  2017021911  ...                                                  0\n",
              "21577  2017021912  ...                                                  0\n",
              "\n",
              "[21578 rows x 26 columns]"
            ]
          },
          "metadata": {},
          "execution_count": 89
        }
      ]
    },
    {
      "cell_type": "code",
      "metadata": {
        "id": "8SDUw8xS_-oE"
      },
      "source": [
        "df_drop = df.dropna() # Y con esta instrucción borramos las filas que contienen datos nulos\n",
        "df_drop.to_csv('df_drop.csv', index=False)"
      ],
      "execution_count": null,
      "outputs": []
    },
    {
      "cell_type": "markdown",
      "metadata": {
        "id": "2or_zU6n0IV7"
      },
      "source": [
        "##*Nuevo archivo con la base de datos editada*"
      ]
    },
    {
      "cell_type": "code",
      "metadata": {
        "id": "xTB19wzoA5x-"
      },
      "source": [
        "df_drop_column = df.dropna(axis=1)#Para finalizar, con esta instrucción eliminamos las columnas con datos nulos\n",
        "df_drop_column.to_csv('df_drop_column.csv', index=False)"
      ],
      "execution_count": null,
      "outputs": []
    },
    {
      "cell_type": "markdown",
      "metadata": {
        "id": "ZhNv_Py7M-x-"
      },
      "source": [
        "# **Estadística básica de los datos**"
      ]
    },
    {
      "cell_type": "code",
      "metadata": {
        "id": "jJwyG6ZlWJn-"
      },
      "source": [
        "#Identificando correlación de las columnas\n",
        "correlacion=df.corr()"
      ],
      "execution_count": null,
      "outputs": []
    },
    {
      "cell_type": "code",
      "metadata": {
        "colab": {
          "base_uri": "https://localhost:8080/",
          "height": 1000
        },
        "id": "TN-58rCISkcb",
        "outputId": "64464426-0ddf-4fe4-86c8-436a478e8252"
      },
      "source": [
        "import seaborn as sns\n",
        "import matplotlib.pyplot as plt\n",
        "f,ax=plt.subplots(figsize = (18,18))\n",
        "sns.heatmap(df.corr(),annot= True,linewidths=0.5,fmt = \".1f\",ax=ax)\n",
        "plt.xticks(rotation=90)\n",
        "plt.yticks(rotation=0)\n",
        "plt.title('Mapa de correlación')\n",
        "plt.savefig('graph.png')\n",
        "plt.show()"
      ],
      "execution_count": null,
      "outputs": [
        {
          "output_type": "display_data",
          "data": {
            "image/png": "[encoded data removed]",
            "text/plain": [
              "<Figure size 1296x1296 with 2 Axes>"
            ]
          },
          "metadata": {
            "needs_background": "light"
          }
        }
      ]
    },
    {
      "cell_type": "markdown",
      "metadata": {
        "id": "mDvLnOi6YesV"
      },
      "source": [
        "Para fines de análisis, nos enfocaremos en si el paciente fue hospitalizado o no para saber la gravedad del accidente; por lo que identifiicamos que, debido a la baja correlación que tienen algunas columnas pueden ser eliminadas sin problema."
      ]
    },
    {
      "cell_type": "code",
      "metadata": {
        "id": "MINdY81JKdi8"
      },
      "source": [
        "datos= data_frame_0.drop(['ID', 'UPA', 'Zip', 'Latitude', 'Longitude', 'Address1', 'Address2', 'City', 'Primary NAICS', 'Secondary Source',\t'Secondary Source Title'], axis=1)\n"
      ],
      "execution_count": null,
      "outputs": []
    },
    {
      "cell_type": "code",
      "metadata": {
        "colab": {
          "base_uri": "https://localhost:8080/"
        },
        "id": "fOA6bmtn5PjO",
        "outputId": "432c1974-e827-4100-d98d-8ce70247b083"
      },
      "source": [
        "datos.shape"
      ],
      "execution_count": null,
      "outputs": [
        {
          "output_type": "execute_result",
          "data": {
            "text/plain": [
              "(21578, 15)"
            ]
          },
          "metadata": {},
          "execution_count": 61
        }
      ]
    },
    {
      "cell_type": "code",
      "metadata": {
        "colab": {
          "base_uri": "https://localhost:8080/"
        },
        "id": "hiw0XTWa6h-P",
        "outputId": "9bf843ce-f6b6-4a82-991f-dc459ac705e4"
      },
      "source": [
        "datos[['Hospitalized', 'Amputation']].describe()"
      ],
      "execution_count": null,
      "outputs": [
        {
          "output_type": "execute_result",
          "data": {
            "text/html": [
              "<div>\n",
              "<style scoped>\n",
              "    .dataframe tbody tr th:only-of-type {\n",
              "        vertical-align: middle;\n",
              "    }\n",
              "\n",
              "    .dataframe tbody tr th {\n",
              "        vertical-align: top;\n",
              "    }\n",
              "\n",
              "    .dataframe thead th {\n",
              "        text-align: right;\n",
              "    }\n",
              "</style>\n",
              "<table border=\"1\" class=\"dataframe\">\n",
              "  <thead>\n",
              "    <tr style=\"text-align: right;\">\n",
              "      <th></th>\n",
              "      <th>Hospitalized</th>\n",
              "      <th>Amputation</th>\n",
              "    </tr>\n",
              "  </thead>\n",
              "  <tbody>\n",
              "    <tr>\n",
              "      <th>count</th>\n",
              "      <td>21578.000000</td>\n",
              "      <td>21578.000000</td>\n",
              "    </tr>\n",
              "    <tr>\n",
              "      <th>mean</th>\n",
              "      <td>0.807999</td>\n",
              "      <td>0.269812</td>\n",
              "    </tr>\n",
              "    <tr>\n",
              "      <th>std</th>\n",
              "      <td>0.412055</td>\n",
              "      <td>0.451019</td>\n",
              "    </tr>\n",
              "    <tr>\n",
              "      <th>min</th>\n",
              "      <td>0.000000</td>\n",
              "      <td>0.000000</td>\n",
              "    </tr>\n",
              "    <tr>\n",
              "      <th>25%</th>\n",
              "      <td>1.000000</td>\n",
              "      <td>0.000000</td>\n",
              "    </tr>\n",
              "    <tr>\n",
              "      <th>50%</th>\n",
              "      <td>1.000000</td>\n",
              "      <td>0.000000</td>\n",
              "    </tr>\n",
              "    <tr>\n",
              "      <th>75%</th>\n",
              "      <td>1.000000</td>\n",
              "      <td>1.000000</td>\n",
              "    </tr>\n",
              "    <tr>\n",
              "      <th>max</th>\n",
              "      <td>3.000000</td>\n",
              "      <td>9.000000</td>\n",
              "    </tr>\n",
              "  </tbody>\n",
              "</table>\n",
              "</div>"
            ],
            "text/plain": [
              "       Hospitalized    Amputation\n",
              "count  21578.000000  21578.000000\n",
              "mean       0.807999      0.269812\n",
              "std        0.412055      0.451019\n",
              "min        0.000000      0.000000\n",
              "25%        1.000000      0.000000\n",
              "50%        1.000000      0.000000\n",
              "75%        1.000000      1.000000\n",
              "max        3.000000      9.000000"
            ]
          },
          "metadata": {},
          "execution_count": 60
        }
      ]
    },
    {
      "cell_type": "code",
      "metadata": {
        "colab": {
          "base_uri": "https://localhost:8080/"
        },
        "id": "MeGxkxp6RQuu",
        "outputId": "9958545e-721d-4426-a9c8-359803cc33f4"
      },
      "source": [
        "datos['Hospitalized'].value_counts()"
      ],
      "execution_count": null,
      "outputs": [
        {
          "output_type": "execute_result",
          "data": {
            "text/plain": [
              "1.0    17128\n",
              "0.0     4298\n",
              "2.0      149\n",
              "3.0        3\n",
              "Name: Hospitalized, dtype: int64"
            ]
          },
          "metadata": {},
          "execution_count": 61
        }
      ]
    },
    {
      "cell_type": "code",
      "metadata": {
        "colab": {
          "base_uri": "https://localhost:8080/"
        },
        "id": "evKjc9QxRXil",
        "outputId": "cf9bbd02-01af-40d4-9a94-7734cd1d53cd"
      },
      "source": [
        "datos['Amputation'].value_counts()"
      ],
      "execution_count": null,
      "outputs": [
        {
          "output_type": "execute_result",
          "data": {
            "text/plain": [
              "0.0    15791\n",
              "1.0     5764\n",
              "2.0       18\n",
              "3.0        3\n",
              "9.0        1\n",
              "4.0        1\n",
              "Name: Amputation, dtype: int64"
            ]
          },
          "metadata": {},
          "execution_count": 62
        }
      ]
    },
    {
      "cell_type": "markdown",
      "metadata": {
        "id": "8qbzItpQ66fJ"
      },
      "source": [
        "De 21578 pacientes que tuvimos, el 80.08% fue hospitalizado, con un máximo de 3 hospitalzaciones, sin embargo, la mayoría solo requirió una hospitalzación.\n",
        "Por otro lado, el 26.81% de todos los pacientes requirió por lo menos una amputación, alcanzando un máximo de 9 amputaciones."
      ]
    },
    {
      "cell_type": "code",
      "metadata": {
        "colab": {
          "base_uri": "https://localhost:8080/"
        },
        "id": "QPbgMRuiRfpT",
        "outputId": "47ad2823-71e5-4edc-fce2-bdffd65eb01e"
      },
      "source": [
        "datos['State'].value_counts()"
      ],
      "execution_count": null,
      "outputs": [
        {
          "output_type": "execute_result",
          "data": {
            "text/plain": [
              "TEXAS                       3481\n",
              "FLORIDA                     2160\n",
              "PENNSYLVANIA                1723\n",
              "OHIO                        1658\n",
              "ILLINOIS                    1362\n",
              "GEORGIA                     1156\n",
              "NEW YORK                    1069\n",
              "WISCONSIN                    917\n",
              "ALABAMA                      677\n",
              "MISSOURI                     675\n",
              "COLORADO                     642\n",
              "NEW JERSEY                   561\n",
              "LOUISIANA                    554\n",
              "ARKANSAS                     511\n",
              "MASSACHUSETTS                508\n",
              "KANSAS                       471\n",
              "OKLAHOMA                     453\n",
              "MISSISSIPPI                  449\n",
              "NEBRASKA                     348\n",
              "NORTH DAKOTA                 224\n",
              "WEST VIRGINIA                213\n",
              "CONNECTICUT                  211\n",
              "IDAHO                        210\n",
              "MAINE                        162\n",
              "SOUTH DAKOTA                 140\n",
              "NEW HAMPSHIRE                118\n",
              "CALIFORNIA                   113\n",
              "MONTANA                      105\n",
              "VIRGINIA                     101\n",
              "DELAWARE                      95\n",
              "RHODE ISLAND                  72\n",
              "DISTRICT OF COLUMBIA          69\n",
              "WASHINGTON                    39\n",
              "TENNESSEE                     38\n",
              "MARYLAND                      29\n",
              "NORTH CAROLINA                28\n",
              "KENTUCKY                      27\n",
              "ARIZONA                       25\n",
              "OREGON                        22\n",
              "HAWAII                        21\n",
              "MICHIGAN                      19\n",
              "MINNESOTA                     19\n",
              "NEW MEXICO                    17\n",
              "UTAH                          17\n",
              "SOUTH CAROLINA                15\n",
              "INDIANA                       13\n",
              "IOWA                           8\n",
              "WYOMING                        7\n",
              "ALASKA                         6\n",
              "AMERICAN SAMOA                 5\n",
              "GUAM                           4\n",
              "PUERTO RICO                    3\n",
              "NORTHERN MARIANA ISLANDS       3\n",
              "NEVADA                         2\n",
              "VERMONT                        2\n",
              "VIRGIN ISLANDS                 1\n",
              "Name: State, dtype: int64"
            ]
          },
          "metadata": {},
          "execution_count": 63
        }
      ]
    },
    {
      "cell_type": "code",
      "metadata": {
        "colab": {
          "base_uri": "https://localhost:8080/"
        },
        "id": "KWfzDSdM562q",
        "outputId": "8a7a32cf-b00c-4446-8dcf-8b1ea837f4a1"
      },
      "source": [
        "datos[[\"EventDate\", \"State\", 'Employer']].describe()"
      ],
      "execution_count": null,
      "outputs": [
        {
          "output_type": "execute_result",
          "data": {
            "text/html": [
              "<div>\n",
              "<style scoped>\n",
              "    .dataframe tbody tr th:only-of-type {\n",
              "        vertical-align: middle;\n",
              "    }\n",
              "\n",
              "    .dataframe tbody tr th {\n",
              "        vertical-align: top;\n",
              "    }\n",
              "\n",
              "    .dataframe thead th {\n",
              "        text-align: right;\n",
              "    }\n",
              "</style>\n",
              "<table border=\"1\" class=\"dataframe\">\n",
              "  <thead>\n",
              "    <tr style=\"text-align: right;\">\n",
              "      <th></th>\n",
              "      <th>EventDate</th>\n",
              "      <th>State</th>\n",
              "      <th>Employer</th>\n",
              "    </tr>\n",
              "  </thead>\n",
              "  <tbody>\n",
              "    <tr>\n",
              "      <th>count</th>\n",
              "      <td>21578</td>\n",
              "      <td>21578</td>\n",
              "      <td>21578</td>\n",
              "    </tr>\n",
              "    <tr>\n",
              "      <th>unique</th>\n",
              "      <td>790</td>\n",
              "      <td>56</td>\n",
              "      <td>18004</td>\n",
              "    </tr>\n",
              "    <tr>\n",
              "      <th>top</th>\n",
              "      <td>9/2/2015</td>\n",
              "      <td>TEXAS</td>\n",
              "      <td>U.S. Postal Service</td>\n",
              "    </tr>\n",
              "    <tr>\n",
              "      <th>freq</th>\n",
              "      <td>56</td>\n",
              "      <td>3481</td>\n",
              "      <td>129</td>\n",
              "    </tr>\n",
              "  </tbody>\n",
              "</table>\n",
              "</div>"
            ],
            "text/plain": [
              "       EventDate  State             Employer\n",
              "count      21578  21578                21578\n",
              "unique       790     56                18004\n",
              "top     9/2/2015  TEXAS  U.S. Postal Service\n",
              "freq          56   3481                  129"
            ]
          },
          "metadata": {},
          "execution_count": 64
        }
      ]
    },
    {
      "cell_type": "code",
      "metadata": {
        "colab": {
          "base_uri": "https://localhost:8080/"
        },
        "id": "EEsOTZpUUWGB",
        "outputId": "21e4684f-2459-45c9-e516-15ed1a14ad1a"
      },
      "source": [
        "(datos['Employer'].value_counts()==1).value_counts()"
      ],
      "execution_count": null,
      "outputs": [
        {
          "output_type": "execute_result",
          "data": {
            "text/plain": [
              "True     16052\n",
              "False     1952\n",
              "Name: Employer, dtype: int64"
            ]
          },
          "metadata": {},
          "execution_count": 187
        }
      ]
    },
    {
      "cell_type": "markdown",
      "metadata": {
        "id": "XZ5qH57eDvpT"
      },
      "source": [
        "Además, el día que más accidentes hubo fue el 2 de noviembre del 2015 con una frecuencia de 56 personas, siendo Texas el estado con mayor incidencia de ellos. \n",
        "Con la información recabada se sabe a demás que Servicios Postales es el trabajo con más ocurrencia de accidentes teniendo diferencias muy grandes con respecto a otras empresas, pues la mayoría tiene menos de 10 registros, y se sabe que el 74.40% de las empresas solo reportaron un incidente."
      ]
    },
    {
      "cell_type": "markdown",
      "metadata": {
        "id": "asOoz4i25UK2"
      },
      "source": [
        "#**Gráficas**\n",
        "\n",
        "En este apartado se analizarán distintos gráficos, los cuales incluirán una breve conclusión de los datos obtenidos."
      ]
    },
    {
      "cell_type": "code",
      "metadata": {
        "colab": {
          "base_uri": "https://localhost:8080/",
          "height": 493
        },
        "id": "EXEAWFERQax8",
        "outputId": "93a4cbe9-73c6-4a23-8771-abfc2e61d291"
      },
      "source": [
        "from matplotlib import pyplot\n",
        "import matplotlib.pyplot as plt\n",
        "from pylab import *\n",
        "\n",
        "plt.figure(figsize=(15,5.5))   #(ancho,altura) de la gráfica\n",
        "datos['State'].value_counts().plot.bar(color='orange')\n",
        "plt.title('Accidentes por estados')   #Nombre de la gráfica\n",
        "xlabel('Estados')\n",
        "ylabel('Frecuencia')"
      ],
      "execution_count": null,
      "outputs": [
        {
          "output_type": "execute_result",
          "data": {
            "text/plain": [
              "Text(0, 0.5, 'Frecuencia')"
            ]
          },
          "metadata": {},
          "execution_count": 32
        },
        {
          "output_type": "display_data",
          "data": {
            "image/png": "[encoded data removed]",
            "text/plain": [
              "<Figure size 1080x396 with 1 Axes>"
            ]
          },
          "metadata": {
            "needs_background": "light"
          }
        }
      ]
    },
    {
      "cell_type": "markdown",
      "metadata": {
        "id": "UtIGJ1Ev4qIZ"
      },
      "source": [
        "En  la gráfica anterior podemos observar la frecuencia de accidentes por estado. Esto es importante ya que el precio de los seguros de accidentes varía por estado según la frecuencia de lesiones."
      ]
    },
    {
      "cell_type": "code",
      "metadata": {
        "colab": {
          "base_uri": "https://localhost:8080/"
        },
        "id": "1r9L_q6I4rEo",
        "outputId": "bfbb7a62-6292-4c0c-f677-ec7bb2a7c2f9"
      },
      "source": [
        "plt.figure(figsize=(15,5.5))  \n",
        "datos['EventDate'].value_counts().sort_index().plot.line(color='purple')\n",
        "plt.title('Accidentes por día')\n",
        "xlabel('Días')\n",
        "ylabel('Frecuencia')"
      ],
      "execution_count": null,
      "outputs": [
        {
          "output_type": "execute_result",
          "data": {
            "text/plain": [
              "Text(0, 0.5, 'Frecuencia')"
            ]
          },
          "metadata": {},
          "execution_count": 67
        },
        {
          "output_type": "display_data",
          "data": {
            "image/png": "[encoded data removed]",
            "text/plain": [
              "<Figure size 1080x396 with 1 Axes>"
            ]
          },
          "metadata": {
            "needs_background": "light"
          }
        }
      ]
    },
    {
      "cell_type": "markdown",
      "metadata": {
        "id": "4CR41QXO4qPC"
      },
      "source": [
        "Nuestra base de datos acumula eventos desde el 1 de enero de 2015 hasta el 28 de febrero de 2018. En la gráfica se puede apreciar que no tiene tendencia y probablemente una varianza estacionaria.\n",
        "En nuestro caso, una aseguradora puede tener una idea del número de accidentes que se darán en el futuro. Esto les ayudará a calcular el monto de la reserva tecnica que tienen que tener para solventar los gastos por accidentes."
      ]
    },
    {
      "cell_type": "code",
      "metadata": {
        "colab": {
          "base_uri": "https://localhost:8080/",
          "height": 540
        },
        "id": "iafkiKEiKah2",
        "outputId": "0bf44c9e-24f5-4b5d-9786-8133aa7d2080"
      },
      "source": [
        "plt.figure(figsize=(15,5.5))\n",
        "datos['Employer'].value_counts().head(20).plot.bar(color='darkorange')\n",
        "plt.title('Empleos con más accidentes')\n",
        "xlabel('Empleo')\n",
        "ylabel('Frecuencia')"
      ],
      "execution_count": null,
      "outputs": [
        {
          "output_type": "execute_result",
          "data": {
            "text/plain": [
              "Text(0, 0.5, 'Frecuencia')"
            ]
          },
          "metadata": {},
          "execution_count": 130
        },
        {
          "output_type": "display_data",
          "data": {
            "image/png": "[encoded data removed]",
            "text/plain": [
              "<Figure size 1080x396 with 1 Axes>"
            ]
          },
          "metadata": {
            "needs_background": "light"
          }
        }
      ]
    },
    {
      "cell_type": "markdown",
      "metadata": {
        "id": "UJA8IHJgTpIO"
      },
      "source": [
        "Es fácil identificar que el empleo con mas accidentes ocurridos son los que tienen como giro el envio de servicios postales, seguido de Walmart, Tyson Foods Inc y Waste Management."
      ]
    },
    {
      "cell_type": "code",
      "metadata": {
        "colab": {
          "base_uri": "https://localhost:8080/"
        },
        "id": "0O0SxRMe42z4",
        "outputId": "81db4e0e-3122-4ddb-bcac-09cd22e07173"
      },
      "source": [
        "plt.figure(figsize=(10,5.5))\n",
        "datos['NatureTitle'].value_counts().head(15).plot.bar(color='darkred')\n",
        "plt.title('Frecuencia de accidentes')\n",
        "xlabel('Accidente')\n",
        "ylabel('Frecuencia')"
      ],
      "execution_count": null,
      "outputs": [
        {
          "output_type": "execute_result",
          "data": {
            "text/plain": [
              "Text(0, 0.5, 'Frecuencia')"
            ]
          },
          "metadata": {},
          "execution_count": 69
        },
        {
          "output_type": "display_data",
          "data": {
            "image/png": "[encoded data removed]",
            "text/plain": [
              "<Figure size 720x396 with 1 Axes>"
            ]
          },
          "metadata": {
            "needs_background": "light"
          }
        }
      ]
    },
    {
      "cell_type": "markdown",
      "metadata": {
        "id": "8hBRSZTg43G9"
      },
      "source": [
        "En esta gráfica se observa el top 10 de los accidentes más frecuentes registrados en Estados Unidos.\n",
        "Si tomar en cuenta el costo promedio que se tiene al presentar cada accidente, nos ayudará de igual manera en el cálculo de la reserva técnica."
      ]
    },
    {
      "cell_type": "code",
      "metadata": {
        "colab": {
          "base_uri": "https://localhost:8080/"
        },
        "id": "jj_tQBno5FhJ",
        "outputId": "8ec09a01-3f64-4e48-b4f3-9125a9adcfd2"
      },
      "source": [
        "plt.figure(figsize=(10,5.5))\n",
        "datos['Part of Body Title'].value_counts().head(15).plot.bar(color='orange')\n",
        "plt.title('Frecuencia de lesion en el cuerpo')\n",
        "xlabel('Parte del cuerpo')\n",
        "ylabel('Frecuencia')"
      ],
      "execution_count": null,
      "outputs": [
        {
          "output_type": "execute_result",
          "data": {
            "text/plain": [
              "Text(0, 0.5, 'Frecuencia')"
            ]
          },
          "metadata": {},
          "execution_count": 70
        },
        {
          "output_type": "display_data",
          "data": {
            "image/png": "[encoded data removed]",
            "text/plain": [
              "<Figure size 720x396 with 1 Axes>"
            ]
          },
          "metadata": {
            "needs_background": "light"
          }
        }
      ]
    },
    {
      "cell_type": "markdown",
      "metadata": {
        "id": "PRNTlIKW5FrO"
      },
      "source": [
        "Las manos y dedos son nuestra principal herramienta, por lo que perder alguna de estas, golpearía de forma negatva en nuestra economía. Es importante identificar la frecuencia con que ocurren accidentes en el cuerpo."
      ]
    },
    {
      "cell_type": "code",
      "metadata": {
        "colab": {
          "base_uri": "https://localhost:8080/",
          "height": 373
        },
        "id": "UDwvLxuYr1dX",
        "outputId": "c66e1dcf-5bf9-43ea-c23f-352f0e4d39ed"
      },
      "source": [
        "import matplotlib.pyplot as plt\n",
        "\n",
        "plt.figure(figsize=(6,6))\n",
        "frec = [0,1,2,3]\n",
        "plt.pie(datos['Hospitalized'].value_counts(), labels=frec, colors= ['orange', 'darkred', 'cyan', 'black'])\n",
        "plt.title('Frecuencia de hospitalizaciones')\n",
        "\n",
        "plt.show()"
      ],
      "execution_count": null,
      "outputs": [
        {
          "output_type": "display_data",
          "data": {
            "image/png": "[encoded data removed]",
            "text/plain": [
              "<Figure size 432x432 with 1 Axes>"
            ]
          },
          "metadata": {}
        }
      ]
    },
    {
      "cell_type": "markdown",
      "metadata": {
        "id": "WmBWxXZW5Gx2"
      },
      "source": [
        "\n",
        "Cabe recalcar que la mayoría de los pacientes accidentados fueron hospitalizados por lo menos una vez."
      ]
    },
    {
      "cell_type": "code",
      "metadata": {
        "colab": {
          "base_uri": "https://localhost:8080/",
          "height": 373
        },
        "id": "darcOAOTvr9o",
        "outputId": "105eba0f-b81e-4fbb-ae18-601c58603f18"
      },
      "source": [
        "import matplotlib.pyplot as plt\n",
        "\n",
        "plt.figure(figsize=(6,6))\n",
        "frec = [0,1,2,3,9,4]\n",
        "plt.pie(datos['Amputation'].value_counts(), labels=frec, colors=['pink', 'purple', 'yellow', 'green', 'cyan', 'black'])\n",
        "plt.title('Frecuencia de amputaciones')\n",
        "\n",
        "plt.show()\n"
      ],
      "execution_count": null,
      "outputs": [
        {
          "output_type": "display_data",
          "data": {
            "image/png": "[encoded data removed]",
            "text/plain": [
              "<Figure size 432x432 with 1 Axes>"
            ]
          },
          "metadata": {}
        }
      ]
    },
    {
      "cell_type": "markdown",
      "metadata": {
        "id": "6I8sTxQQAhvo"
      },
      "source": [
        "Aún así, menos de la mitad de esos trabajadores necesitaron de alguna amputación."
      ]
    },
    {
      "cell_type": "markdown",
      "metadata": {
        "id": "jP-3qY7m5Y2B"
      },
      "source": [
        "##*Conclusión*\n",
        "\n",
        "  Los datos indican que el estado de Texas tiene una mayor frecuencia en lesiones laborales, ya que cuenta con aproximadamente el 16% de los accidentes de trabajo en Estados Unidos.\n",
        "  Por otro lado, tenemos que el grado de urgencia más común en un lesionado es de fracturas y amputaciones, el cual corresponde al 55% de los accidentes más frecuentes, siendo los dedos el área del cuerpo con mayor ocurrencia de lesión.\n",
        "  Por último, se distingue que el 74% de los trabajadores que fueron lesionados, contaron con una probabilidad menor al 50% para realizarse el proceso de amputación. Además, se sabe que el empleo con más riesgo de lesión es en Servicios Postales.\n",
        "\n"
      ]
    },
    {
      "cell_type": "markdown",
      "metadata": {
        "id": "HdO06l5LZjKV"
      },
      "source": [
        "# **Método series de tiempo**\n"
      ]
    },
    {
      "cell_type": "markdown",
      "metadata": {
        "id": "f9LoCOCmrMWZ"
      },
      "source": [
        "Nuestro principal objetivo es predecir la frecuencia de lesiones en cada uno de los estados definiendo el grado de urgencia más común. \n",
        "Para ello, es necesario realizar un análisis de la frecuencia de lesiones esperada en los próximos meses:"
      ]
    },
    {
      "cell_type": "code",
      "metadata": {
        "colab": {
          "base_uri": "https://localhost:8080/"
        },
        "id": "nPaIBOuClin1",
        "outputId": "e01ebf68-e7ba-430b-d429-293af2808c9a"
      },
      "source": [
        "%load_ext rpy2.ipython\n",
        "%load_ext rmagic"
      ],
      "execution_count": null,
      "outputs": [
        {
          "output_type": "stream",
          "name": "stderr",
          "text": [
            "/usr/local/lib/python3.7/dist-packages/IPython/extensions/rmagic.py:11: UserWarning: The rmagic extension in IPython has moved to `rpy2.ipython`, please see `rpy2` documentation.\n",
            "  warnings.warn(\"The rmagic extension in IPython has moved to \"\n"
          ]
        }
      ]
    },
    {
      "cell_type": "markdown",
      "metadata": {
        "id": "__e_AQrwr20m"
      },
      "source": [
        "Comenzamos visualizando los datos inicales. Dado a que durente el 2017 algunos días no se registraron, decidimos utilizar solo los datos recabados hasta finales de 2016 para tener una predicción confiable."
      ]
    },
    {
      "cell_type": "code",
      "metadata": {
        "colab": {
          "base_uri": "https://localhost:8080/",
          "height": 497
        },
        "id": "SHnOPUw_ll7_",
        "outputId": "53a21e77-9728-43ff-973e-4d6d2df2432e"
      },
      "source": [
        "%%R \n",
        "setwd(\"/content\")\n",
        " x<-read.csv(\"SerieDeTiempo_AccidentesLaborales.csv\",header=T)\n",
        " serie<-ts(x$Accidentes,frequency=721,start=c(2015,1,1),end=c(2016,12,31))\n",
        " \n",
        " plot(serie,main='Accidentes Laborales',xlab='Días',ylab='Número de accidentes', col='darkred')"
      ],
      "execution_count": null,
      "outputs": [
        {
          "output_type": "display_data",
          "data": {
            "image/png": "[encoded data removed]"
          },
          "metadata": {}
        }
      ]
    },
    {
      "cell_type": "markdown",
      "metadata": {
        "id": "WYhM8w4NEzhu"
      },
      "source": [
        "##Métricas de evaluación"
      ]
    },
    {
      "cell_type": "markdown",
      "metadata": {
        "id": "wTFWMov3r0uN"
      },
      "source": [
        "Como primer paso en el método de series de tiempo, identificamos que nuestra serie sea estacionaria. Esto quiere decir que la media de los datos no tiene tendencia, y su varianza es estacionaria.\n",
        "\n",
        "Una vez hechas las pruebas, comenzamos con la predicción. Para ello, buscamos un arima que prediga bien los datos (los modelos arima ayudan a la predicción de series estacionarias). "
      ]
    },
    {
      "cell_type": "code",
      "metadata": {
        "colab": {
          "base_uri": "https://localhost:8080/",
          "height": 497
        },
        "id": "4QrvKzO2-4Lw",
        "outputId": "d4ce3a1c-cc88-4359-83cd-3a24098c88b0"
      },
      "source": [
        "%%R\n",
        "pd<-predict(arima(serie,order = c(7,0,21),method = 'ML'),n.ahead=60)$pred\n",
        "plot(serie,main='Accidentes Laborales',  xlim=c(2015.9,2016.15),ylim=c(0,60),xlab='Días',ylab='Número de accidentes')\n",
        "lines(pd,col='darkred') #Modelo original ARIMA(7,0,21)\n",
        "legend(x=2016.1, y=55, legend=c('Serie Original', 'Predicción'),col=c('black','darkred'), pch='-',  cex= 0.7,  xpd = T )"
      ],
      "execution_count": null,
      "outputs": [
        {
          "output_type": "display_data",
          "data": {
            "image/png": "[encoded data removed]"
          },
          "metadata": {}
        }
      ]
    },
    {
      "cell_type": "code",
      "metadata": {
        "id": "sco4A5Las7UN",
        "colab": {
          "base_uri": "https://localhost:8080/"
        },
        "outputId": "bc155d71-cf47-4681-e704-f0ad71dbac71"
      },
      "source": [
        "%R mean(pd)"
      ],
      "execution_count": null,
      "outputs": [
        {
          "output_type": "execute_result",
          "data": {
            "text/plain": [
              "array([26.82132394])"
            ]
          },
          "metadata": {},
          "execution_count": 184
        }
      ]
    },
    {
      "cell_type": "code",
      "metadata": {
        "colab": {
          "base_uri": "https://localhost:8080/"
        },
        "id": "GNKGP6ce_c83",
        "outputId": "797ecf52-3457-46cd-8c91-6d60d5b6b3ee"
      },
      "source": [
        "%R mean(serie)"
      ],
      "execution_count": null,
      "outputs": [
        {
          "output_type": "execute_result",
          "data": {
            "text/plain": [
              "array([27.26466576])"
            ]
          },
          "metadata": {},
          "execution_count": 186
        }
      ]
    },
    {
      "cell_type": "markdown",
      "metadata": {
        "id": "lZrSlHiyZ4eH"
      },
      "source": [
        "En los próximos 2 meses se espera un total de 1610 accidentes. Si consideramos que se mantendrán la tendencia de lesiones que se ha presentado en los últimos 2 años, se sabe que:\n",
        "\n",
        "\n",
        "\n"
      ]
    },
    {
      "cell_type": "code",
      "metadata": {
        "id": "kJ0qRgk2iyaj",
        "colab": {
          "base_uri": "https://localhost:8080/",
          "height": 507
        },
        "outputId": "875d4e2a-979b-4a16-dcc8-83db05e79849"
      },
      "source": [
        "#Cantidad de accidentes por estado\n",
        "acum=(datos['State'].value_counts()/sum(datos['State'].value_counts()))*1610\n",
        "plt.figure(figsize=(15,5))   #(ancho,altura) de la gráfica\n",
        "acum.plot.bar(color='orange')\n",
        "plt.title('Accidentes por estados')   #Nombre de la gráfica\n",
        "xlabel('Estados')\n",
        "ylabel('Frecuencia')"
      ],
      "execution_count": null,
      "outputs": [
        {
          "output_type": "execute_result",
          "data": {
            "text/plain": [
              "Text(0, 0.5, 'Frecuencia')"
            ]
          },
          "metadata": {},
          "execution_count": 193
        },
        {
          "output_type": "display_data",
          "data": {
            "image/png": "[encoded data removed]",
            "text/plain": [
              "<Figure size 1080x360 with 1 Axes>"
            ]
          },
          "metadata": {
            "needs_background": "light"
          }
        }
      ]
    },
    {
      "cell_type": "code",
      "metadata": {
        "colab": {
          "base_uri": "https://localhost:8080/",
          "height": 523
        },
        "id": "RIFDKG-X3YoE",
        "outputId": "ab63ce9c-08f5-4168-fcba-47fc737be54e"
      },
      "source": [
        "#TOP 5 accidentes por estado\n",
        "plt.figure(figsize=(6,6))   #(ancho,altura) de la gráfica\n",
        "myl=['TEXAS','FLORIDA','PENNSYLVANIA','OHIO','ILLINOIS']\n",
        "myc=['#8A2BE2','#5F9EA0','#2F4F4F','#F08080','#ADD8E6']\n",
        "myexplode = [0.1, 0, 0, 0,0]\n",
        "plt.pie(datos['State'].value_counts().head(5),labels=myl,colors=myc,explode=myexplode, shadow=True)"
      ],
      "execution_count": null,
      "outputs": [
        {
          "output_type": "execute_result",
          "data": {
            "text/plain": [
              "([<matplotlib.patches.Wedge at 0x7fb1244da2d0>,\n",
              "  <matplotlib.patches.Wedge at 0x7fb1244da910>,\n",
              "  <matplotlib.patches.Wedge at 0x7fb1244e5310>,\n",
              "  <matplotlib.patches.Wedge at 0x7fb1244e5b50>,\n",
              "  <matplotlib.patches.Wedge at 0x7fb1244f0610>],\n",
              " [Text(0.5938059822649293, 1.0427820747531014, 'TEXAS'),\n",
              "  Text(-1.0207919367937055, 0.4098582947519252, 'FLORIDA'),\n",
              "  Text(-0.7719121739049766, -0.7836782476101358, 'PENNSYLVANIA'),\n",
              "  Text(0.26687467070234816, -1.067135375731455, 'OHIO'),\n",
              "  Text(1.0079267453015857, -0.4405492890764356, 'ILLINOIS')])"
            ]
          },
          "metadata": {},
          "execution_count": 194
        },
        {
          "output_type": "display_data",
          "data": {
            "image/png": "[encoded data removed]",
            "text/plain": [
              "<Figure size 432x432 with 1 Axes>"
            ]
          },
          "metadata": {}
        }
      ]
    },
    {
      "cell_type": "code",
      "metadata": {
        "id": "egVJEp3tFgq8",
        "colab": {
          "base_uri": "https://localhost:8080/",
          "height": 373
        },
        "outputId": "c82a7114-8bfc-443d-fd9a-5ef33143e7e4"
      },
      "source": [
        "import matplotlib.pyplot as plt\n",
        "\n",
        "plt.figure(figsize=(6,6))   #(ancho,altura) de la gráfica\n",
        "nom = ['U.S. POSTAL SERVICE', 'United States Postal Service', 'USP', 'USPS', 'US Postal Service','United Parcel Service', 'Walmart', 'Tyson Foods, Inc.', 'Waste Management' ]\n",
        "\n",
        "plt.pie(datos['Employer'].value_counts()[1:10], labels=nom, colors=['pink', 'purple', 'yellow', 'green', 'cyan', 'black'])\n",
        "plt.title('Top 10 de índice de siniestralidad por puesto')\n",
        "\n",
        "plt.show()"
      ],
      "execution_count": 215,
      "outputs": [
        {
          "output_type": "display_data",
          "data": {
            "image/png": "[encoded data removed]",
            "text/plain": [
              "<Figure size 432x432 with 1 Axes>"
            ]
          },
          "metadata": {}
        }
      ]
    },
    {
      "cell_type": "markdown",
      "metadata": {
        "id": "yDkPGCGwxO9b"
      },
      "source": [
        "\n",
        "#Conclusión\n",
        "\n",
        "Nuestro objetivo principal era predecir el comportamiento de la frecuencia de lesiones en cada uno de los estados definiendo el grado de urgencia más común. Dado el análisis identificamos que se espera, en promedio, que la frecuencia de accidentes continue de forma similar a como se ha observado desde que se tienen registros, con un promedio de 27 accidentes diarios. Además, más de la mitad de las lesiones presentadas son fracturas, seguidas de amputaciones, dolor y cortaduras ocurridas principalmente en dedos y manos.\n",
        "\n",
        "En adición a esto, identificamos que el estado de Texas es el que mayor porcentaje de accidentes tiene en comparación con el resto de los estados, seguido por Florida y Pensilvania. Pues solo en estos 3 estados se presentan casi el 35% de los casos de los accidentes totales registrados.\n",
        "\n",
        "Para nuestro objetivo secundario, el cual pretende calcular el índice de siniestralidad anual de cada uno de los puestos, distinguimos que los empleados con mayor riesgo de lesión eran aquellos que trabajaban en envió y paquetería de servicios postales.\n",
        "\n",
        "####Trabajo a futuro:\n",
        "En nuestro proyecto, el análisis de los datos era para ayudar a una aseguradora para determinar los costos de las primas. Si realizáramos una investigación acerca de los gastos derivados de los accidentes, podríamos determinar el promedio de gastos por accidente, el máximo y el mínimo de los montos a pagar; esto además de ayudar con el cálculo de la reserva técnica, ayudaría a establecer los deducibles de ciertos tipos de seguros.\n",
        "\n",
        "\n",
        "\n"
      ]
    }
  ]
}