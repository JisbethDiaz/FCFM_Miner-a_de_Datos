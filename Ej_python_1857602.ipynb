{
  "nbformat": 4,
  "nbformat_minor": 0,
  "metadata": {
    "colab": {
      "name": "Ej_python_1857602",
      "provenance": [],
      "toc_visible": true,
      "authorship_tag": "ABX9TyMlGsnc6wfRV8CrShNCPv54",
      "include_colab_link": true
    },
    "kernelspec": {
      "name": "python3",
      "display_name": "Python 3"
    },
    "language_info": {
      "name": "python"
    }
  },
  "cells": [
    {
      "cell_type": "markdown",
      "metadata": {
        "id": "view-in-github",
        "colab_type": "text"
      },
      "source": [
        "<a href=\"https://colab.research.google.com/github/JisbethDiaz/FCFM_Miner-a_de_Datos/blob/Miner%C3%ADa-de-datos/Ej_python_1857602.ipynb\" target=\"_parent\"><img src=\"https://colab.research.google.com/assets/colab-badge.svg\" alt=\"Open In Colab\"/></a>"
      ]
    },
    {
      "cell_type": "markdown",
      "metadata": {
        "id": "RhiW-R8TvHx9"
      },
      "source": [
        "# Ejercicio 1\n",
        "Realiza una variable con tu matricula y realiza una secuencia de imprimir con tu nombre y tu matricula concatenados."
      ]
    },
    {
      "cell_type": "code",
      "metadata": {
        "colab": {
          "base_uri": "https://localhost:8080/"
        },
        "id": "lj_p1vDgvnR3",
        "outputId": "117dc37c-579c-499e-d6e2-91390092d0bf"
      },
      "source": [
        "nomb='Jisbeth Jaquelin Díaz Vázquez'\n",
        "mat= 1857602\n",
        "print('Nombre= ', nomb, '\\nMatricula= ', mat)"
      ],
      "execution_count": 3,
      "outputs": [
        {
          "output_type": "stream",
          "text": [
            "Nombre=  Jisbeth Jaquelin Díaz Vázquez \n",
            "Matricula=  1857602\n"
          ],
          "name": "stdout"
        }
      ]
    },
    {
      "cell_type": "markdown",
      "metadata": {
        "id": "O8lg17TPvIGs"
      },
      "source": [
        "# Ejercicio 2\n",
        "Pidiendo el input del usuario pide dos números y crea una pequeña calculadora con los operadores básicos de suma, resta, multiplicación, división, y exponente."
      ]
    },
    {
      "cell_type": "code",
      "metadata": {
        "colab": {
          "base_uri": "https://localhost:8080/"
        },
        "id": "cnqUhJyuxI3-",
        "outputId": "60fa502f-7887-4fce-d2b3-55573737a639"
      },
      "source": [
        "a= float(input('Ingresa el primer número: '))\n",
        "b= float(input('Ingresa el segundo número: '))\n",
        "s= a+b\n",
        "r= a-b\n",
        "m= a*b\n",
        "if(b==0):\n",
        "  d= 'No es posible realizar esta división'\n",
        "else:\n",
        "  d= a/b\n",
        "\n",
        "print('\\nSuma: ', s, '\\nResta: ', r, '\\nMultiplicación: ', m, '\\nDivisión: ', d)"
      ],
      "execution_count": 7,
      "outputs": [
        {
          "output_type": "stream",
          "text": [
            "Ingresa el primer número: 5\n",
            "Ingresa el segundo número: 0\n",
            "\n",
            "Suma:  5.0 \n",
            "Resta:  5.0 \n",
            "Multiplicación:  0.0 \n",
            "División:  No es posible realizar esta división\n"
          ],
          "name": "stdout"
        }
      ]
    },
    {
      "cell_type": "markdown",
      "metadata": {
        "id": "37fZAUHXwKv9"
      },
      "source": [
        "# Ejercicio 3\n",
        "Con loop while o for, realiza una lista de 10 numeros multiplos de 3, y después realiza una función de loop que sume todos los números dentro del arreglo."
      ]
    },
    {
      "cell_type": "code",
      "metadata": {
        "colab": {
          "base_uri": "https://localhost:8080/"
        },
        "id": "wioCqAdWxJ5t",
        "outputId": "46df5880-57e8-4703-c6c5-54ba47526ecd"
      },
      "source": [
        "lista= []\n",
        "for i in range (1,11):\n",
        "  a= i*3\n",
        "  lista.append(a)\n",
        "s= sum(lista)\n",
        "\n",
        "print(lista)\n",
        "print('Suma: ',s)"
      ],
      "execution_count": 11,
      "outputs": [
        {
          "output_type": "stream",
          "text": [
            "[3, 6, 9, 12, 15, 18, 21, 24, 27, 30]\n",
            "Suma:  165\n"
          ],
          "name": "stdout"
        }
      ]
    },
    {
      "cell_type": "markdown",
      "metadata": {
        "id": "JGDXhONiwLF2"
      },
      "source": [
        "# Ejercicio 4\n",
        "1. Con una función de if else, revisar si un número es par o es impar.\n",
        "2.Con una función de if else, revisar si un número es primo o no"
      ]
    },
    {
      "cell_type": "code",
      "metadata": {
        "colab": {
          "base_uri": "https://localhost:8080/"
        },
        "id": "MYTn2iMk8vkS",
        "outputId": "8b5ab2b2-9c50-4626-cba8-939f2e9fe403"
      },
      "source": [
        "n= int(input('Ingresa un número entero: '))\n",
        "#1\n",
        "if(n%2==0):\n",
        "  print('El número es par')\n",
        "else:\n",
        "  print('El número es impar')\n",
        "\n",
        "#2\n",
        "y=0\n",
        "for i in range (2, n):\n",
        "  d= n%i\n",
        "  if(d==0):\n",
        "    print('El número NO es primo')\n",
        "    y=1\n",
        "    exit\n",
        "    \n",
        "if(n==0):\n",
        "  print('El número NO es primo')\n",
        "if y==0:\n",
        "  print('El número es primo')"
      ],
      "execution_count": 44,
      "outputs": [
        {
          "output_type": "stream",
          "text": [
            "Ingresa un número entero: 7\n",
            "El número es impar\n",
            "El número es primo\n"
          ],
          "name": "stdout"
        }
      ]
    },
    {
      "cell_type": "markdown",
      "metadata": {
        "id": "uYlmnMKNwLMb"
      },
      "source": [
        "# Ejercicio 5\n",
        "Utilizando diferentes clases en python, crea una calculadora con los operadores básicos de suma, resta, multiplicación, división, y exponente."
      ]
    },
    {
      "cell_type": "code",
      "metadata": {
        "colab": {
          "base_uri": "https://localhost:8080/"
        },
        "id": "IdK652acxLfv",
        "outputId": "44e06694-7e91-4eac-a152-83c019dd0429"
      },
      "source": [
        "a= float(input('Ingresa el primer número: '))\n",
        "b= float(input('Ingresa el segundo número: '))\n",
        "def Menu():\n",
        "    op='k'\n",
        "    while op!='a' and op!='b'and op!='c'and op!='d' and op!='e' and op!='f':\n",
        "        print('\\n Elige la operción a realizar: ')\n",
        "        print('\\t a) Suma \\n\\t b) Resta \\n\\t c) Multiplicación \\n\\t d) División \\n\\t e) Exponente\\n\\t f) Salir')\n",
        "        op= input('\\t\\t\\t-->')\n",
        "        if op!='a' and op!='b'and op!='c'and op!='d' and op!='e' and op!='f':\n",
        "            print('\\tERROR AL CAPTURAR OPCIÓN\\n')\n",
        "    return op\n",
        "\n",
        "op= Menu()\n",
        "while op!='f':\n",
        "  if op=='a':\n",
        "    res= a+b\n",
        "  elif op=='b':\n",
        "    res= a-b\n",
        "  elif op=='c':\n",
        "    res= a*b\n",
        "  elif op=='d':\n",
        "    if(b==0):\n",
        "      res= 'No es posible realizar esta división'\n",
        "    else:\n",
        "      res= a/b\n",
        "  elif op=='e':\n",
        "    res= a**b\n",
        "  print('Resultado de la operación: ', res)\n",
        "  op= Menu()"
      ],
      "execution_count": 33,
      "outputs": [
        {
          "output_type": "stream",
          "text": [
            "Ingresa el primer número: 3\n",
            "Ingresa el segundo número: 5\n",
            "\n",
            " Elige la operción a realizar: \n",
            "\t a) Suma \n",
            "\t b) Resta \n",
            "\t c) Multiplicación \n",
            "\t d) División \n",
            "\t e) Exponente\n",
            "\t f) Salir\n",
            "\t\t\t-->a\n",
            "Resultado de la operación:  8.0\n",
            "\n",
            " Elige la operción a realizar: \n",
            "\t a) Suma \n",
            "\t b) Resta \n",
            "\t c) Multiplicación \n",
            "\t d) División \n",
            "\t e) Exponente\n",
            "\t f) Salir\n",
            "\t\t\t-->b\n",
            "Resultado de la operación:  -2.0\n",
            "\n",
            " Elige la operción a realizar: \n",
            "\t a) Suma \n",
            "\t b) Resta \n",
            "\t c) Multiplicación \n",
            "\t d) División \n",
            "\t e) Exponente\n",
            "\t f) Salir\n",
            "\t\t\t-->c\n",
            "Resultado de la operación:  15.0\n",
            "\n",
            " Elige la operción a realizar: \n",
            "\t a) Suma \n",
            "\t b) Resta \n",
            "\t c) Multiplicación \n",
            "\t d) División \n",
            "\t e) Exponente\n",
            "\t f) Salir\n",
            "\t\t\t-->d\n",
            "Resultado de la operación:  0.6\n",
            "\n",
            " Elige la operción a realizar: \n",
            "\t a) Suma \n",
            "\t b) Resta \n",
            "\t c) Multiplicación \n",
            "\t d) División \n",
            "\t e) Exponente\n",
            "\t f) Salir\n",
            "\t\t\t-->e\n",
            "Resultado de la operación:  243.0\n",
            "\n",
            " Elige la operción a realizar: \n",
            "\t a) Suma \n",
            "\t b) Resta \n",
            "\t c) Multiplicación \n",
            "\t d) División \n",
            "\t e) Exponente\n",
            "\t f) Salir\n",
            "\t\t\t-->f\n"
          ],
          "name": "stdout"
        }
      ]
    },
    {
      "cell_type": "markdown",
      "metadata": {
        "id": "yEGREfe5wqaX"
      },
      "source": [
        "# Ejercicios con estructuras básicas de python."
      ]
    },
    {
      "cell_type": "markdown",
      "metadata": {
        "id": "5fDprBiSwql8"
      },
      "source": [
        "# Tuplas\n",
        "1. Crear una variable flotante, integer, boleana y compleja e imprimir el tipo de variable que es.\n",
        "\n",
        "2. Crear una tupla con valores enteros imprimir el primer y ultimo valor.\n",
        "\n",
        "3. Añadir 3 valores de string a la tupla.\n",
        "\n",
        "4. Verificar si una variable existe dentro de la tupla."
      ]
    },
    {
      "cell_type": "code",
      "metadata": {
        "colab": {
          "base_uri": "https://localhost:8080/"
        },
        "id": "8Mus96I-xpN9",
        "outputId": "fdb3a618-6bdf-4d02-90fe-5a6cdace54a0"
      },
      "source": [
        "#1\n",
        "a= 1.05\n",
        "b= 2\n",
        "c= True\n",
        "d= 3j\n",
        "print(' a= ', a, ' es: ',type(a))\n",
        "print(' b= ', b, ' es: ',type(b))\n",
        "print(' c= ', c, ' es: ',type(c))\n",
        "print(' d= ', d, ' es: ',type(d))\n",
        "\n",
        "#2\n",
        "tupla=(1,2,6,9,8,5)\n",
        "u=len(tupla)\n",
        "print('\\nPrimer valor de tupla: ', tupla[0])\n",
        "print('Último valor de tupla: ', tupla[u-1])\n",
        "\n",
        "#3\n",
        "lista=[]\n",
        "lista=list(tupla)\n",
        "a='vaso'\n",
        "b='oso'\n",
        "c='plato'\n",
        "lista.append(a)\n",
        "lista.append(b)\n",
        "lista.append(c)\n",
        "ntupla= tuple(lista)\n",
        "print('\\n Tupla:\\n', ntupla)\n",
        "\n",
        "\n",
        "#4\n",
        "variable= input('\\nIngresa la variable a verificar dento de la tupla: ')\n",
        "if variable in ntupla:\n",
        "  print('\\tLa variable está en la tupla')\n",
        "else:\n",
        "  print('\\tLa variable NO está en la tupla')\n"
      ],
      "execution_count": 90,
      "outputs": [
        {
          "output_type": "stream",
          "text": [
            " a=  1.05  es:  <class 'float'>\n",
            " b=  2  es:  <class 'int'>\n",
            " c=  True  es:  <class 'bool'>\n",
            " d=  3j  es:  <class 'complex'>\n",
            "\n",
            "Primer valor de tupla:  1\n",
            "Último valor de tupla:  5\n",
            "\n",
            " Tupla:\n",
            " (1, 2, 6, 9, 8, 5, 'vaso', 'oso', 'plato')\n",
            "\n",
            "Ingresa la variable a verificar dento de la tupla: 7\n",
            "\tLa variable NO está en la tupla\n"
          ],
          "name": "stdout"
        }
      ]
    },
    {
      "cell_type": "markdown",
      "metadata": {
        "id": "AmsXht84wq0c"
      },
      "source": [
        "# Listas\n",
        "1. Crear una lista con 40 elementos aleatorios enteros.\n",
        "\n",
        "2. Con una funcion (def) crear dos listas nuevas a partir de la lista creada por numeros aleatorios, en la cual en una esten los elementos pares, y en la otra los elementos impares.\n",
        "\n",
        "3. Crear dos variables con la longitud de ambas listas nuevas e imprimir las variables.\n",
        "\n",
        "4. Ordenar los elementos de la lista par de mayor a menor, y los de la lista impar de menor a mayor.\n",
        "\n",
        "5. Utilizar al menos cuatro de las funciones de listas en python en la lista original de 40 elementos."
      ]
    },
    {
      "cell_type": "code",
      "metadata": {
        "colab": {
          "base_uri": "https://localhost:8080/"
        },
        "id": "XswNvzZXxqEk",
        "outputId": "83366ef1-5f80-4db4-870c-cf5327dab163"
      },
      "source": [
        "#1\n",
        "import random\n",
        "lista= []\n",
        "for i in range (0,40):\n",
        "  a= random.randint(0, 200)\n",
        "  lista.append(a)\n",
        "print('Lista: \\n', lista, '\\n\\n')\n",
        "\n",
        "#2\n",
        "par=[]\n",
        "impar=[]\n",
        "def Clasif(lista):\n",
        "  for i in range(0,40):\n",
        "    n= lista[i]\n",
        "    if(n%2==0):\n",
        "      par.append(n)\n",
        "    else:\n",
        "      impar.append(n)\n",
        "Clasif(lista)\n",
        "\n",
        "#3\n",
        "a= len(par)\n",
        "b= len(impar)\n",
        "\n",
        "#4\n",
        "par.sort(reverse=True)\n",
        "impar.sort()\n",
        "\n",
        "#Impresiones\n",
        "print('Lista pares:\\n',par)\n",
        "print('Longitud de lista: ', a)\n",
        "print('\\nLista impares:\\n',impar)\n",
        "print('Longitud de lista: ', b)"
      ],
      "execution_count": 91,
      "outputs": [
        {
          "output_type": "stream",
          "text": [
            "Lista: \n",
            " [128, 14, 192, 64, 14, 120, 6, 27, 136, 34, 12, 169, 90, 6, 89, 109, 39, 58, 188, 178, 141, 69, 25, 102, 55, 137, 144, 191, 2, 41, 151, 145, 56, 24, 167, 175, 30, 34, 129, 57] \n",
            "\n",
            "\n",
            "Lista pares:\n",
            " [192, 188, 178, 144, 136, 128, 120, 102, 90, 64, 58, 56, 34, 34, 30, 24, 14, 14, 12, 6, 6, 2]\n",
            "Longitud de lista:  22\n",
            "\n",
            "Lista impares:\n",
            " [25, 27, 39, 41, 55, 57, 69, 89, 109, 129, 137, 141, 145, 151, 167, 169, 175, 191]\n",
            "Longitud de lista:  18\n"
          ],
          "name": "stdout"
        }
      ]
    },
    {
      "cell_type": "markdown",
      "metadata": {
        "id": "lZE5BcVVw_v1"
      },
      "source": [
        "# Diccionarios\n",
        "1. Crear un diccionario de 6 personas que conozcas con su primer nombre y su edad.\n",
        "\n",
        "2. Crear una lista con los valores de la edad y reacomodar la lista de menor a mayor valor.\n",
        "\n",
        "3. Usando el diccionario y un loop, imprimir solo los nombres.\n",
        "\n",
        "4. Añadir dos personas nuevas a tu diccionario, incluyendo edad."
      ]
    },
    {
      "cell_type": "code",
      "metadata": {
        "colab": {
          "base_uri": "https://localhost:8080/",
          "height": 253
        },
        "id": "ge3tieiTxq8V",
        "outputId": "ca653e4f-2987-4ddd-ca28-15fd024142e1"
      },
      "source": [
        "#1\n",
        "aa= []\n",
        "dicc=dict()\n",
        "dicc={'Lluvia':45,'Marco':61, 'José':40, 'Monica':38, 'Danna':26, 'Juan':20}\n",
        "aa= dicc.items()\n",
        "print(aa)\n",
        "\n",
        "#2\n",
        "edad=[]\n",
        "for i in range(0,6):\n",
        "  e= aa[0][i]\n",
        "  edad.append(e)\n",
        "\n",
        "print(edad)\n",
        "\n",
        "#3\n",
        "nombre=[]\n",
        "for i in range(0,6):\n",
        "  n=dicc[i]\n",
        "  nombre.append(n)\n",
        "\n",
        "print(edad)\n",
        "\n",
        "#4¨\n",
        "for i in range(0,2):\n",
        "  n=input('Introduzca el nombre: ')\n",
        "  if n in dicc:\n",
        "    print('\\n\\t ', col, 'Ya se encuentra en lista')\n",
        "  else:\n",
        "    e=int(input('Introduzca su edad: '))\n",
        "    dicc[n]=e\n",
        "\n",
        "print(dicc)\n"
      ],
      "execution_count": 123,
      "outputs": [
        {
          "output_type": "stream",
          "text": [
            "dict_items([('Lluvia', 45), ('Marco', 61), ('José', 40), ('Monica', 38), ('Danna', 26), ('Juan', 20)])\n"
          ],
          "name": "stdout"
        },
        {
          "output_type": "error",
          "ename": "TypeError",
          "evalue": "ignored",
          "traceback": [
            "\u001b[0;31m---------------------------------------------------------------------------\u001b[0m",
            "\u001b[0;31mTypeError\u001b[0m                                 Traceback (most recent call last)",
            "\u001b[0;32m<ipython-input-123-ccd3273627ee>\u001b[0m in \u001b[0;36m<module>\u001b[0;34m()\u001b[0m\n\u001b[1;32m      9\u001b[0m \u001b[0medad\u001b[0m\u001b[0;34m=\u001b[0m\u001b[0;34m[\u001b[0m\u001b[0;34m]\u001b[0m\u001b[0;34m\u001b[0m\u001b[0;34m\u001b[0m\u001b[0m\n\u001b[1;32m     10\u001b[0m \u001b[0;32mfor\u001b[0m \u001b[0mi\u001b[0m \u001b[0;32min\u001b[0m \u001b[0mrange\u001b[0m\u001b[0;34m(\u001b[0m\u001b[0;36m0\u001b[0m\u001b[0;34m,\u001b[0m\u001b[0;36m6\u001b[0m\u001b[0;34m)\u001b[0m\u001b[0;34m:\u001b[0m\u001b[0;34m\u001b[0m\u001b[0;34m\u001b[0m\u001b[0m\n\u001b[0;32m---> 11\u001b[0;31m   \u001b[0me\u001b[0m\u001b[0;34m=\u001b[0m \u001b[0maa\u001b[0m\u001b[0;34m[\u001b[0m\u001b[0;36m0\u001b[0m\u001b[0;34m]\u001b[0m\u001b[0;34m[\u001b[0m\u001b[0mi\u001b[0m\u001b[0;34m]\u001b[0m\u001b[0;34m\u001b[0m\u001b[0;34m\u001b[0m\u001b[0m\n\u001b[0m\u001b[1;32m     12\u001b[0m   \u001b[0medad\u001b[0m\u001b[0;34m.\u001b[0m\u001b[0mappend\u001b[0m\u001b[0;34m(\u001b[0m\u001b[0me\u001b[0m\u001b[0;34m)\u001b[0m\u001b[0;34m\u001b[0m\u001b[0;34m\u001b[0m\u001b[0m\n\u001b[1;32m     13\u001b[0m \u001b[0;34m\u001b[0m\u001b[0m\n",
            "\u001b[0;31mTypeError\u001b[0m: 'dict_items' object is not subscriptable"
          ]
        }
      ]
    },
    {
      "cell_type": "markdown",
      "metadata": {
        "id": "crIPQV4cwrCT"
      },
      "source": [
        "# Sets\n",
        "1. Crea un set con 100 numeros aleatorios enteros del 1 al 25.\n",
        "\n",
        "2. Comprueba la longitud de tu set.\n",
        "\n",
        "3. Crea una lista de 5 numeros aleatorios del 1 al 10 y comprueba si cada valor aparece en el set inicial."
      ]
    },
    {
      "cell_type": "code",
      "metadata": {
        "colab": {
          "base_uri": "https://localhost:8080/"
        },
        "id": "G-AdlHWzugqW",
        "outputId": "f8f0f325-9aae-4b4e-e146-b11baf8c507f"
      },
      "source": [
        "#1\n",
        "import random\n",
        "sett= set()\n",
        "for i in range (0,100):\n",
        "  a= random.randint(1, 25)\n",
        "  sett.add(a)\n",
        "print('Set: \\n', sett)\n",
        "\n",
        "#2\n",
        "print('\\n Longitud del set: ', len(sett), '\\n')\n",
        "\n",
        "#3\n",
        "ale= []\n",
        "for i in range (0,5):\n",
        "  a= random.randint(1, 10)\n",
        "  ale.append(a)\n",
        "\n",
        "for i in range(0,5):\n",
        "  if ale[i] in sett:\n",
        "    print(ale[i], '\\t está en set')\n",
        "  else:\n",
        "    print(ale[i], '\\tNO está en set')"
      ],
      "execution_count": 104,
      "outputs": [
        {
          "output_type": "stream",
          "text": [
            "Set: \n",
            " {1, 2, 3, 4, 5, 6, 7, 8, 9, 10, 11, 12, 13, 14, 15, 16, 17, 18, 19, 20, 21, 22, 23, 24, 25}\n",
            "\n",
            " Longitud del set:  25 \n",
            "\n",
            "6 \t está en set\n",
            "7 \t está en set\n",
            "5 \t está en set\n",
            "8 \t está en set\n",
            "1 \t está en set\n"
          ],
          "name": "stdout"
        }
      ]
    }
  ]
}